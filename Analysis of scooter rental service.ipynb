{
 "cells": [
  {
   "cell_type": "markdown",
   "id": "28c132da",
   "metadata": {},
   "source": [
    "----------------------"
   ]
  },
  {
   "cell_type": "markdown",
   "id": "d750db39",
   "metadata": {},
   "source": [
    "# Анализ сервиса по прокату самокатов"
   ]
  },
  {
   "cell_type": "markdown",
   "id": "ba7c0fdd",
   "metadata": {},
   "source": [
    "<b> Описание проекта</b> \n",
    "\n",
    "Вы аналитик популярного сервиса аренды самокатов GoFast. Вам передали данные о некоторых пользователях из нескольких городов, а также об их поездках. Проанализируйте данные и проверьте некоторые гипотезы, которые могут помочь бизнесу вырасти.\n",
    "\n",
    "Чтобы совершать поездки по городу, пользователи сервиса GoFast пользуются мобильным приложением. Сервисом можно пользоваться:\n",
    "\n",
    "1) без подписки\n",
    "- абонентская плата отсутствует;\n",
    "- стоимость одной минуты поездки — 8 рублей;\n",
    "- стоимость старта (начала поездки) — 50 рублей;\n",
    "\n",
    "2) с подпиской Ultra\n",
    "\n",
    "- абонентская плата — 199 рублей в месяц;\n",
    "- стоимость одной минуты поездки — 6 рублей;\n",
    "- стоимость старта — бесплатно.\n",
    "\n",
    "<b>  Описание данных</b> \n",
    "\n",
    "1) Пользователи — users_go.csv\n",
    "\n",
    "- user_id — уникальный идентификатор пользователя\n",
    "- name — имя пользователя\n",
    "- age — возраст\n",
    "- city — город\n",
    "- subscription_type — тип подписки (free, ultra)\n",
    "\n",
    "2) Поeздки — rides_go.csv\n",
    "\n",
    "- user_id — уникальный идентификатор пользователя\n",
    "- distance — расстояние, которое пользователь проехал в текущей сессии (в метрах)\n",
    "- duration — продолжительность сессии (в минутах) — время с того момента, как пользователь нажал кнопку «Начать поездку» до момента, как он нажал кнопку «Завершить поездку»\n",
    "- date — дата совершения поездки\n",
    "\n",
    "3) Подписки — subscriptions_go.csv\n",
    "\n",
    "- subscription_type — тип подписки\n",
    "- minute_price — стоимость одной минуты поездки по данной подписке\n",
    "- start_ride_price — стоимость начала поездки\n",
    "- subscription_fee — стоимость ежемесячного платежа"
   ]
  },
  {
   "cell_type": "markdown",
   "id": "7daf0833",
   "metadata": {},
   "source": [
    "Подключение библиотек"
   ]
  },
  {
   "cell_type": "code",
   "execution_count": 2,
   "id": "d0a445c9",
   "metadata": {},
   "outputs": [],
   "source": [
    "import pandas as pd\n",
    "import matplotlib.pyplot as plt\n",
    "import seaborn as sns\n",
    "import plotly.express as px\n",
    "import numpy as np\n",
    "from scipy import stats as st"
   ]
  },
  {
   "cell_type": "markdown",
   "id": "c38ef973",
   "metadata": {},
   "source": [
    "#### Шаг 1. Загрузка данных"
   ]
  },
  {
   "cell_type": "markdown",
   "id": "4f97597a",
   "metadata": {},
   "source": [
    "Загрузка данных: пользователи"
   ]
  },
  {
   "cell_type": "code",
   "execution_count": 7,
   "id": "caa79dce",
   "metadata": {},
   "outputs": [],
   "source": [
    "try:    \n",
    "    data_users = pd.read_csv('/datasets/users_go.csv')\n",
    "except FileNotFoundError:\n",
    "    data_users=pd.read_csv('users_go.csv')"
   ]
  },
  {
   "cell_type": "markdown",
   "id": "e23adfc0",
   "metadata": {},
   "source": [
    "Информация о данных: пользователи"
   ]
  },
  {
   "cell_type": "code",
   "execution_count": 8,
   "id": "d2804196",
   "metadata": {},
   "outputs": [
    {
     "name": "stdout",
     "output_type": "stream",
     "text": [
      "<class 'pandas.core.frame.DataFrame'>\n",
      "RangeIndex: 1565 entries, 0 to 1564\n",
      "Data columns (total 5 columns):\n",
      " #   Column             Non-Null Count  Dtype \n",
      "---  ------             --------------  ----- \n",
      " 0   user_id            1565 non-null   int64 \n",
      " 1   name               1565 non-null   object\n",
      " 2   age                1565 non-null   int64 \n",
      " 3   city               1565 non-null   object\n",
      " 4   subscription_type  1565 non-null   object\n",
      "dtypes: int64(2), object(3)\n",
      "memory usage: 61.3+ KB\n"
     ]
    }
   ],
   "source": [
    "data_users.info()"
   ]
  },
  {
   "cell_type": "markdown",
   "id": "ebaf4f9a",
   "metadata": {},
   "source": [
    "Просмотр первых строчек данных"
   ]
  },
  {
   "cell_type": "code",
   "execution_count": 5,
   "id": "c7e598ae",
   "metadata": {},
   "outputs": [
    {
     "data": {
      "text/html": [
       "<div>\n",
       "<style scoped>\n",
       "    .dataframe tbody tr th:only-of-type {\n",
       "        vertical-align: middle;\n",
       "    }\n",
       "\n",
       "    .dataframe tbody tr th {\n",
       "        vertical-align: top;\n",
       "    }\n",
       "\n",
       "    .dataframe thead th {\n",
       "        text-align: right;\n",
       "    }\n",
       "</style>\n",
       "<table border=\"1\" class=\"dataframe\">\n",
       "  <thead>\n",
       "    <tr style=\"text-align: right;\">\n",
       "      <th></th>\n",
       "      <th>user_id</th>\n",
       "      <th>name</th>\n",
       "      <th>age</th>\n",
       "      <th>city</th>\n",
       "      <th>subscription_type</th>\n",
       "    </tr>\n",
       "  </thead>\n",
       "  <tbody>\n",
       "    <tr>\n",
       "      <th>0</th>\n",
       "      <td>1</td>\n",
       "      <td>Кира</td>\n",
       "      <td>22</td>\n",
       "      <td>Тюмень</td>\n",
       "      <td>ultra</td>\n",
       "    </tr>\n",
       "    <tr>\n",
       "      <th>1</th>\n",
       "      <td>2</td>\n",
       "      <td>Станислав</td>\n",
       "      <td>31</td>\n",
       "      <td>Омск</td>\n",
       "      <td>ultra</td>\n",
       "    </tr>\n",
       "    <tr>\n",
       "      <th>2</th>\n",
       "      <td>3</td>\n",
       "      <td>Алексей</td>\n",
       "      <td>20</td>\n",
       "      <td>Москва</td>\n",
       "      <td>ultra</td>\n",
       "    </tr>\n",
       "    <tr>\n",
       "      <th>3</th>\n",
       "      <td>4</td>\n",
       "      <td>Константин</td>\n",
       "      <td>26</td>\n",
       "      <td>Ростов-на-Дону</td>\n",
       "      <td>ultra</td>\n",
       "    </tr>\n",
       "    <tr>\n",
       "      <th>4</th>\n",
       "      <td>5</td>\n",
       "      <td>Адель</td>\n",
       "      <td>28</td>\n",
       "      <td>Омск</td>\n",
       "      <td>ultra</td>\n",
       "    </tr>\n",
       "  </tbody>\n",
       "</table>\n",
       "</div>"
      ],
      "text/plain": [
       "   user_id        name  age            city subscription_type\n",
       "0        1        Кира   22          Тюмень             ultra\n",
       "1        2   Станислав   31            Омск             ultra\n",
       "2        3     Алексей   20          Москва             ultra\n",
       "3        4  Константин   26  Ростов-на-Дону             ultra\n",
       "4        5       Адель   28            Омск             ultra"
      ]
     },
     "execution_count": 5,
     "metadata": {},
     "output_type": "execute_result"
    }
   ],
   "source": [
    "data_users.head()"
   ]
  },
  {
   "cell_type": "markdown",
   "id": "44076063",
   "metadata": {},
   "source": [
    "Загрузка данных: поездки"
   ]
  },
  {
   "cell_type": "code",
   "execution_count": 6,
   "id": "37b246fd",
   "metadata": {},
   "outputs": [],
   "source": [
    "try:    \n",
    "    data_rides = pd.read_csv('/datasets/rides_go.csv')\n",
    "except FileNotFoundError:\n",
    "    data_rides=pd.read_csv('rides_go.csv')"
   ]
  },
  {
   "cell_type": "markdown",
   "id": "c222e7d3",
   "metadata": {},
   "source": [
    "Информация о данных: поездки"
   ]
  },
  {
   "cell_type": "code",
   "execution_count": 7,
   "id": "f29aa27d",
   "metadata": {},
   "outputs": [
    {
     "name": "stdout",
     "output_type": "stream",
     "text": [
      "<class 'pandas.core.frame.DataFrame'>\n",
      "RangeIndex: 18068 entries, 0 to 18067\n",
      "Data columns (total 4 columns):\n",
      " #   Column    Non-Null Count  Dtype  \n",
      "---  ------    --------------  -----  \n",
      " 0   user_id   18068 non-null  int64  \n",
      " 1   distance  18068 non-null  float64\n",
      " 2   duration  18068 non-null  float64\n",
      " 3   date      18068 non-null  object \n",
      "dtypes: float64(2), int64(1), object(1)\n",
      "memory usage: 564.8+ KB\n"
     ]
    }
   ],
   "source": [
    "data_rides.info()"
   ]
  },
  {
   "cell_type": "markdown",
   "id": "ee989f17",
   "metadata": {},
   "source": [
    "Просмотр первых строчек данных"
   ]
  },
  {
   "cell_type": "code",
   "execution_count": 8,
   "id": "0ffcc4fc",
   "metadata": {},
   "outputs": [
    {
     "data": {
      "text/html": [
       "<div>\n",
       "<style scoped>\n",
       "    .dataframe tbody tr th:only-of-type {\n",
       "        vertical-align: middle;\n",
       "    }\n",
       "\n",
       "    .dataframe tbody tr th {\n",
       "        vertical-align: top;\n",
       "    }\n",
       "\n",
       "    .dataframe thead th {\n",
       "        text-align: right;\n",
       "    }\n",
       "</style>\n",
       "<table border=\"1\" class=\"dataframe\">\n",
       "  <thead>\n",
       "    <tr style=\"text-align: right;\">\n",
       "      <th></th>\n",
       "      <th>user_id</th>\n",
       "      <th>distance</th>\n",
       "      <th>duration</th>\n",
       "      <th>date</th>\n",
       "    </tr>\n",
       "  </thead>\n",
       "  <tbody>\n",
       "    <tr>\n",
       "      <th>0</th>\n",
       "      <td>1</td>\n",
       "      <td>4409.919140</td>\n",
       "      <td>25.599769</td>\n",
       "      <td>2021-01-01</td>\n",
       "    </tr>\n",
       "    <tr>\n",
       "      <th>1</th>\n",
       "      <td>1</td>\n",
       "      <td>2617.592153</td>\n",
       "      <td>15.816871</td>\n",
       "      <td>2021-01-18</td>\n",
       "    </tr>\n",
       "    <tr>\n",
       "      <th>2</th>\n",
       "      <td>1</td>\n",
       "      <td>754.159807</td>\n",
       "      <td>6.232113</td>\n",
       "      <td>2021-04-20</td>\n",
       "    </tr>\n",
       "    <tr>\n",
       "      <th>3</th>\n",
       "      <td>1</td>\n",
       "      <td>2694.783254</td>\n",
       "      <td>18.511000</td>\n",
       "      <td>2021-08-11</td>\n",
       "    </tr>\n",
       "    <tr>\n",
       "      <th>4</th>\n",
       "      <td>1</td>\n",
       "      <td>4028.687306</td>\n",
       "      <td>26.265803</td>\n",
       "      <td>2021-08-28</td>\n",
       "    </tr>\n",
       "  </tbody>\n",
       "</table>\n",
       "</div>"
      ],
      "text/plain": [
       "   user_id     distance   duration        date\n",
       "0        1  4409.919140  25.599769  2021-01-01\n",
       "1        1  2617.592153  15.816871  2021-01-18\n",
       "2        1   754.159807   6.232113  2021-04-20\n",
       "3        1  2694.783254  18.511000  2021-08-11\n",
       "4        1  4028.687306  26.265803  2021-08-28"
      ]
     },
     "execution_count": 8,
     "metadata": {},
     "output_type": "execute_result"
    }
   ],
   "source": [
    "data_rides.head()"
   ]
  },
  {
   "cell_type": "markdown",
   "id": "cae26e87",
   "metadata": {},
   "source": [
    "Максимальная дистанция поездки"
   ]
  },
  {
   "cell_type": "code",
   "execution_count": 9,
   "id": "0973abaa",
   "metadata": {},
   "outputs": [
    {
     "data": {
      "text/plain": [
       "7211.007744598519"
      ]
     },
     "execution_count": 9,
     "metadata": {},
     "output_type": "execute_result"
    }
   ],
   "source": [
    "data_rides['distance'].max()"
   ]
  },
  {
   "cell_type": "markdown",
   "id": "8312c37a",
   "metadata": {},
   "source": [
    "Минимальная дистанция поездки"
   ]
  },
  {
   "cell_type": "code",
   "execution_count": 10,
   "id": "0f77d5a5",
   "metadata": {},
   "outputs": [
    {
     "data": {
      "text/plain": [
       "0.855682925681208"
      ]
     },
     "execution_count": 10,
     "metadata": {},
     "output_type": "execute_result"
    }
   ],
   "source": [
    "data_rides['distance'].min()"
   ]
  },
  {
   "cell_type": "markdown",
   "id": "df0181e4",
   "metadata": {},
   "source": [
    "5 самых коротких поездок"
   ]
  },
  {
   "cell_type": "code",
   "execution_count": 11,
   "id": "e1aeff25",
   "metadata": {},
   "outputs": [
    {
     "data": {
      "text/plain": [
       "11555    0.855683\n",
       "9541     2.570787\n",
       "13690    4.329506\n",
       "8658     6.784447\n",
       "7841     7.097072\n",
       "Name: distance, dtype: float64"
      ]
     },
     "execution_count": 11,
     "metadata": {},
     "output_type": "execute_result"
    }
   ],
   "source": [
    "data_rides['distance'].sort_values().head()"
   ]
  },
  {
   "cell_type": "markdown",
   "id": "896457a7",
   "metadata": {},
   "source": [
    "5 самых длинных поездок"
   ]
  },
  {
   "cell_type": "code",
   "execution_count": 12,
   "id": "78a756d1",
   "metadata": {},
   "outputs": [
    {
     "data": {
      "text/plain": [
       "16309    7211.007745\n",
       "16484    7066.003772\n",
       "15580    6908.491343\n",
       "17171    6760.940067\n",
       "17242    6724.932981\n",
       "Name: distance, dtype: float64"
      ]
     },
     "execution_count": 12,
     "metadata": {},
     "output_type": "execute_result"
    }
   ],
   "source": [
    "data_rides['distance'].sort_values(ascending=False).head()"
   ]
  },
  {
   "cell_type": "markdown",
   "id": "1d4c90c8",
   "metadata": {},
   "source": [
    "Средняя продолжительность поездок"
   ]
  },
  {
   "cell_type": "code",
   "execution_count": 13,
   "id": "c4fdaa9e",
   "metadata": {},
   "outputs": [
    {
     "data": {
      "text/plain": [
       "17.80501119798444"
      ]
     },
     "execution_count": 13,
     "metadata": {},
     "output_type": "execute_result"
    }
   ],
   "source": [
    "data_rides['duration'].mean()"
   ]
  },
  {
   "cell_type": "markdown",
   "id": "a0cff64f",
   "metadata": {},
   "source": [
    "5 самых минимальных по продолжительности поездок"
   ]
  },
  {
   "cell_type": "code",
   "execution_count": 14,
   "id": "3c311701",
   "metadata": {},
   "outputs": [
    {
     "data": {
      "text/plain": [
       "12013    0.5\n",
       "17314    0.5\n",
       "15029    0.5\n",
       "7437     0.5\n",
       "12967    0.5\n",
       "Name: duration, dtype: float64"
      ]
     },
     "execution_count": 14,
     "metadata": {},
     "output_type": "execute_result"
    }
   ],
   "source": [
    "data_rides['duration'].sort_values().head()"
   ]
  },
  {
   "cell_type": "markdown",
   "id": "68183586",
   "metadata": {},
   "source": [
    "Количество уникальных значений в столбце: продолжительность поездок"
   ]
  },
  {
   "cell_type": "code",
   "execution_count": 15,
   "id": "fbc56018",
   "metadata": {},
   "outputs": [
    {
     "data": {
      "text/plain": [
       "0.500000     95\n",
       "22.184080     1\n",
       "25.866000     1\n",
       "22.837062     1\n",
       "19.173800     1\n",
       "             ..\n",
       "18.843765     1\n",
       "17.644888     1\n",
       "22.477965     1\n",
       "19.745218     1\n",
       "16.537044     1\n",
       "Name: duration, Length: 17974, dtype: int64"
      ]
     },
     "execution_count": 15,
     "metadata": {},
     "output_type": "execute_result"
    }
   ],
   "source": [
    "duration_rides = data_rides['duration'].value_counts()\n",
    "duration_rides"
   ]
  },
  {
   "cell_type": "markdown",
   "id": "52c9c1f3",
   "metadata": {},
   "source": [
    "5 самых длинных поездок"
   ]
  },
  {
   "cell_type": "code",
   "execution_count": 16,
   "id": "8e93a23d",
   "metadata": {},
   "outputs": [
    {
     "data": {
      "text/plain": [
       "4215    40.823963\n",
       "4709    39.873856\n",
       "2623    39.526602\n",
       "1998    38.352763\n",
       "6453    38.265229\n",
       "Name: duration, dtype: float64"
      ]
     },
     "execution_count": 16,
     "metadata": {},
     "output_type": "execute_result"
    }
   ],
   "source": [
    "data_rides['duration'].sort_values(ascending=False).head()"
   ]
  },
  {
   "cell_type": "markdown",
   "id": "bf1b69c8",
   "metadata": {},
   "source": [
    "Загрузка данных: подписки"
   ]
  },
  {
   "cell_type": "code",
   "execution_count": 17,
   "id": "2e6676c5",
   "metadata": {},
   "outputs": [],
   "source": [
    "try:    \n",
    "    data_subscriptions = pd.read_csv('/datasets/subscriptions_go.csv')\n",
    "except FileNotFoundError:\n",
    "    data_subscriptions=pd.read_csv('subscriptions_go.csv')"
   ]
  },
  {
   "cell_type": "markdown",
   "id": "669f50b9",
   "metadata": {},
   "source": [
    "Информация по данным: подписки"
   ]
  },
  {
   "cell_type": "code",
   "execution_count": 18,
   "id": "07d855bc",
   "metadata": {},
   "outputs": [
    {
     "name": "stdout",
     "output_type": "stream",
     "text": [
      "<class 'pandas.core.frame.DataFrame'>\n",
      "RangeIndex: 2 entries, 0 to 1\n",
      "Data columns (total 4 columns):\n",
      " #   Column             Non-Null Count  Dtype \n",
      "---  ------             --------------  ----- \n",
      " 0   subscription_type  2 non-null      object\n",
      " 1   minute_price       2 non-null      int64 \n",
      " 2   start_ride_price   2 non-null      int64 \n",
      " 3   subscription_fee   2 non-null      int64 \n",
      "dtypes: int64(3), object(1)\n",
      "memory usage: 192.0+ bytes\n"
     ]
    }
   ],
   "source": [
    "data_subscriptions.info()"
   ]
  },
  {
   "cell_type": "markdown",
   "id": "5ce0d52e",
   "metadata": {},
   "source": [
    "Просмотр строк по данным: подписки"
   ]
  },
  {
   "cell_type": "code",
   "execution_count": 19,
   "id": "ea64722f",
   "metadata": {},
   "outputs": [
    {
     "data": {
      "text/html": [
       "<div>\n",
       "<style scoped>\n",
       "    .dataframe tbody tr th:only-of-type {\n",
       "        vertical-align: middle;\n",
       "    }\n",
       "\n",
       "    .dataframe tbody tr th {\n",
       "        vertical-align: top;\n",
       "    }\n",
       "\n",
       "    .dataframe thead th {\n",
       "        text-align: right;\n",
       "    }\n",
       "</style>\n",
       "<table border=\"1\" class=\"dataframe\">\n",
       "  <thead>\n",
       "    <tr style=\"text-align: right;\">\n",
       "      <th></th>\n",
       "      <th>subscription_type</th>\n",
       "      <th>minute_price</th>\n",
       "      <th>start_ride_price</th>\n",
       "      <th>subscription_fee</th>\n",
       "    </tr>\n",
       "  </thead>\n",
       "  <tbody>\n",
       "    <tr>\n",
       "      <th>0</th>\n",
       "      <td>free</td>\n",
       "      <td>8</td>\n",
       "      <td>50</td>\n",
       "      <td>0</td>\n",
       "    </tr>\n",
       "    <tr>\n",
       "      <th>1</th>\n",
       "      <td>ultra</td>\n",
       "      <td>6</td>\n",
       "      <td>0</td>\n",
       "      <td>199</td>\n",
       "    </tr>\n",
       "  </tbody>\n",
       "</table>\n",
       "</div>"
      ],
      "text/plain": [
       "  subscription_type  minute_price  start_ride_price  subscription_fee\n",
       "0              free             8                50                 0\n",
       "1             ultra             6                 0               199"
      ]
     },
     "execution_count": 19,
     "metadata": {},
     "output_type": "execute_result"
    }
   ],
   "source": [
    "data_subscriptions.head()"
   ]
  },
  {
   "cell_type": "markdown",
   "id": "7627a0f4",
   "metadata": {},
   "source": [
    "Соотношение пользователей с подпиской и без"
   ]
  },
  {
   "cell_type": "code",
   "execution_count": 20,
   "id": "ddf3baf6",
   "metadata": {},
   "outputs": [
    {
     "data": {
      "text/plain": [
       "free     54.057508\n",
       "ultra    45.942492\n",
       "Name: subscription_type, dtype: float64"
      ]
     },
     "execution_count": 20,
     "metadata": {},
     "output_type": "execute_result"
    }
   ],
   "source": [
    "subscription_percent = data_users['subscription_type'].value_counts(normalize=True) * 100\n",
    "subscription_percent"
   ]
  },
  {
   "cell_type": "markdown",
   "id": "c0895565",
   "metadata": {},
   "source": [
    "Загрузили и изучили наборы данных.\n",
    "- У людей от 17 до 30 лет данное приложение имеет наибольшую популярность\n",
    "- Максимальная дистанция поездки 7211\n",
    "- Минимальная дистанция поездки 0.9\n",
    "- Максимальная продолжительность поездки 41\n",
    "- Минимальная продолжительность поездки 0.5\n",
    "- Наибольшее количество людей, которые пользуются приложжением люди без подписки их 54 процента от общего количества"
   ]
  },
  {
   "cell_type": "markdown",
   "id": "6c25a15b",
   "metadata": {},
   "source": [
    "Наименование столбцов корректно. Тип данных не подходит в датафрейме data_rides столбец date, тип object нужно заменить на datetime.\n",
    "Данные корректны, последовательны, правдоподобны."
   ]
  },
  {
   "cell_type": "markdown",
   "id": "0d95d856",
   "metadata": {},
   "source": [
    "#### Шаг 2. Предобработка данных"
   ]
  },
  {
   "cell_type": "markdown",
   "id": "337ffa53",
   "metadata": {},
   "source": [
    "Количество дубликатов в данных о пользователях"
   ]
  },
  {
   "cell_type": "code",
   "execution_count": 21,
   "id": "0554e381",
   "metadata": {},
   "outputs": [
    {
     "data": {
      "text/plain": [
       "31"
      ]
     },
     "execution_count": 21,
     "metadata": {},
     "output_type": "execute_result"
    }
   ],
   "source": [
    "data_users.duplicated().sum()"
   ]
  },
  {
   "cell_type": "markdown",
   "id": "c7ba9499",
   "metadata": {},
   "source": [
    "Удаление дубликатов и просмот количества после удаления"
   ]
  },
  {
   "cell_type": "code",
   "execution_count": 22,
   "id": "9421ce6a",
   "metadata": {},
   "outputs": [
    {
     "data": {
      "text/plain": [
       "0"
      ]
     },
     "execution_count": 22,
     "metadata": {},
     "output_type": "execute_result"
    }
   ],
   "source": [
    "data_users.drop_duplicates(inplace=True)\n",
    "data_users.duplicated().sum()"
   ]
  },
  {
   "cell_type": "markdown",
   "id": "f92e4ee9",
   "metadata": {},
   "source": [
    "Количество дубликатов в данных о поездках"
   ]
  },
  {
   "cell_type": "code",
   "execution_count": 23,
   "id": "39818310",
   "metadata": {},
   "outputs": [
    {
     "data": {
      "text/plain": [
       "0"
      ]
     },
     "execution_count": 23,
     "metadata": {},
     "output_type": "execute_result"
    }
   ],
   "source": [
    "data_rides.duplicated().sum()"
   ]
  },
  {
   "cell_type": "markdown",
   "id": "ece22d42",
   "metadata": {},
   "source": [
    "Просмотр первых строк в данных о поездках"
   ]
  },
  {
   "cell_type": "code",
   "execution_count": 24,
   "id": "87610018",
   "metadata": {},
   "outputs": [
    {
     "data": {
      "text/html": [
       "<div>\n",
       "<style scoped>\n",
       "    .dataframe tbody tr th:only-of-type {\n",
       "        vertical-align: middle;\n",
       "    }\n",
       "\n",
       "    .dataframe tbody tr th {\n",
       "        vertical-align: top;\n",
       "    }\n",
       "\n",
       "    .dataframe thead th {\n",
       "        text-align: right;\n",
       "    }\n",
       "</style>\n",
       "<table border=\"1\" class=\"dataframe\">\n",
       "  <thead>\n",
       "    <tr style=\"text-align: right;\">\n",
       "      <th></th>\n",
       "      <th>user_id</th>\n",
       "      <th>distance</th>\n",
       "      <th>duration</th>\n",
       "      <th>date</th>\n",
       "    </tr>\n",
       "  </thead>\n",
       "  <tbody>\n",
       "    <tr>\n",
       "      <th>0</th>\n",
       "      <td>1</td>\n",
       "      <td>4409.919140</td>\n",
       "      <td>25.599769</td>\n",
       "      <td>2021-01-01</td>\n",
       "    </tr>\n",
       "    <tr>\n",
       "      <th>1</th>\n",
       "      <td>1</td>\n",
       "      <td>2617.592153</td>\n",
       "      <td>15.816871</td>\n",
       "      <td>2021-01-18</td>\n",
       "    </tr>\n",
       "    <tr>\n",
       "      <th>2</th>\n",
       "      <td>1</td>\n",
       "      <td>754.159807</td>\n",
       "      <td>6.232113</td>\n",
       "      <td>2021-04-20</td>\n",
       "    </tr>\n",
       "    <tr>\n",
       "      <th>3</th>\n",
       "      <td>1</td>\n",
       "      <td>2694.783254</td>\n",
       "      <td>18.511000</td>\n",
       "      <td>2021-08-11</td>\n",
       "    </tr>\n",
       "    <tr>\n",
       "      <th>4</th>\n",
       "      <td>1</td>\n",
       "      <td>4028.687306</td>\n",
       "      <td>26.265803</td>\n",
       "      <td>2021-08-28</td>\n",
       "    </tr>\n",
       "  </tbody>\n",
       "</table>\n",
       "</div>"
      ],
      "text/plain": [
       "   user_id     distance   duration        date\n",
       "0        1  4409.919140  25.599769  2021-01-01\n",
       "1        1  2617.592153  15.816871  2021-01-18\n",
       "2        1   754.159807   6.232113  2021-04-20\n",
       "3        1  2694.783254  18.511000  2021-08-11\n",
       "4        1  4028.687306  26.265803  2021-08-28"
      ]
     },
     "execution_count": 24,
     "metadata": {},
     "output_type": "execute_result"
    }
   ],
   "source": [
    "data_rides.head()"
   ]
  },
  {
   "cell_type": "markdown",
   "id": "6be79488",
   "metadata": {},
   "source": [
    "Информация о данных "
   ]
  },
  {
   "cell_type": "code",
   "execution_count": 25,
   "id": "94254bc4",
   "metadata": {},
   "outputs": [
    {
     "name": "stdout",
     "output_type": "stream",
     "text": [
      "<class 'pandas.core.frame.DataFrame'>\n",
      "RangeIndex: 18068 entries, 0 to 18067\n",
      "Data columns (total 4 columns):\n",
      " #   Column    Non-Null Count  Dtype  \n",
      "---  ------    --------------  -----  \n",
      " 0   user_id   18068 non-null  int64  \n",
      " 1   distance  18068 non-null  float64\n",
      " 2   duration  18068 non-null  float64\n",
      " 3   date      18068 non-null  object \n",
      "dtypes: float64(2), int64(1), object(1)\n",
      "memory usage: 564.8+ KB\n"
     ]
    }
   ],
   "source": [
    "data_rides.info()"
   ]
  },
  {
   "cell_type": "markdown",
   "id": "e32f3e27",
   "metadata": {},
   "source": [
    "Изменение формата столбца \"date\" (object на datetime)"
   ]
  },
  {
   "cell_type": "code",
   "execution_count": 26,
   "id": "af4013e1",
   "metadata": {},
   "outputs": [],
   "source": [
    "data_rides['date'] = pd.to_datetime(data_rides['date'], format = '%Y-%m-%d')"
   ]
  },
  {
   "cell_type": "markdown",
   "id": "61aa3af6",
   "metadata": {},
   "source": [
    "Просмотр информации о данных после изменения типа"
   ]
  },
  {
   "cell_type": "code",
   "execution_count": 27,
   "id": "fa51a8e3",
   "metadata": {},
   "outputs": [
    {
     "name": "stdout",
     "output_type": "stream",
     "text": [
      "<class 'pandas.core.frame.DataFrame'>\n",
      "RangeIndex: 18068 entries, 0 to 18067\n",
      "Data columns (total 4 columns):\n",
      " #   Column    Non-Null Count  Dtype         \n",
      "---  ------    --------------  -----         \n",
      " 0   user_id   18068 non-null  int64         \n",
      " 1   distance  18068 non-null  float64       \n",
      " 2   duration  18068 non-null  float64       \n",
      " 3   date      18068 non-null  datetime64[ns]\n",
      "dtypes: datetime64[ns](1), float64(2), int64(1)\n",
      "memory usage: 564.8 KB\n"
     ]
    }
   ],
   "source": [
    "data_rides.info()"
   ]
  },
  {
   "cell_type": "markdown",
   "id": "53d9bdf1",
   "metadata": {},
   "source": [
    "Просмотр столбца \"date\""
   ]
  },
  {
   "cell_type": "code",
   "execution_count": 28,
   "id": "e957a12b",
   "metadata": {},
   "outputs": [
    {
     "data": {
      "text/plain": [
       "0       2021-01-01\n",
       "1       2021-01-18\n",
       "2       2021-04-20\n",
       "3       2021-08-11\n",
       "4       2021-08-28\n",
       "           ...    \n",
       "18063   2021-11-04\n",
       "18064   2021-11-16\n",
       "18065   2021-11-18\n",
       "18066   2021-11-27\n",
       "18067   2021-12-29\n",
       "Name: date, Length: 18068, dtype: datetime64[ns]"
      ]
     },
     "execution_count": 28,
     "metadata": {},
     "output_type": "execute_result"
    }
   ],
   "source": [
    "data_rides['date']"
   ]
  },
  {
   "cell_type": "markdown",
   "id": "63e0a57c",
   "metadata": {},
   "source": [
    "Проверка уникальных значений в столбце \"date\" по годам"
   ]
  },
  {
   "cell_type": "code",
   "execution_count": 29,
   "id": "dd231422",
   "metadata": {},
   "outputs": [
    {
     "data": {
      "text/plain": [
       "array([2021])"
      ]
     },
     "execution_count": 29,
     "metadata": {},
     "output_type": "execute_result"
    }
   ],
   "source": [
    "data_rides['date'].dt.year.unique()"
   ]
  },
  {
   "cell_type": "markdown",
   "id": "de8aa9e0",
   "metadata": {},
   "source": [
    "Создание столбика где содержаться данные в каком месяце была поездка"
   ]
  },
  {
   "cell_type": "code",
   "execution_count": 30,
   "id": "b15b1887",
   "metadata": {},
   "outputs": [],
   "source": [
    "data_rides['date_month'] = data_rides['date'].dt.month"
   ]
  },
  {
   "cell_type": "markdown",
   "id": "6e01f3dc",
   "metadata": {},
   "source": [
    "Просмотр первых строчек данных после добавления нового столбца"
   ]
  },
  {
   "cell_type": "code",
   "execution_count": 31,
   "id": "4dd42dd5",
   "metadata": {},
   "outputs": [
    {
     "data": {
      "text/html": [
       "<div>\n",
       "<style scoped>\n",
       "    .dataframe tbody tr th:only-of-type {\n",
       "        vertical-align: middle;\n",
       "    }\n",
       "\n",
       "    .dataframe tbody tr th {\n",
       "        vertical-align: top;\n",
       "    }\n",
       "\n",
       "    .dataframe thead th {\n",
       "        text-align: right;\n",
       "    }\n",
       "</style>\n",
       "<table border=\"1\" class=\"dataframe\">\n",
       "  <thead>\n",
       "    <tr style=\"text-align: right;\">\n",
       "      <th></th>\n",
       "      <th>user_id</th>\n",
       "      <th>distance</th>\n",
       "      <th>duration</th>\n",
       "      <th>date</th>\n",
       "      <th>date_month</th>\n",
       "    </tr>\n",
       "  </thead>\n",
       "  <tbody>\n",
       "    <tr>\n",
       "      <th>0</th>\n",
       "      <td>1</td>\n",
       "      <td>4409.919140</td>\n",
       "      <td>25.599769</td>\n",
       "      <td>2021-01-01</td>\n",
       "      <td>1</td>\n",
       "    </tr>\n",
       "    <tr>\n",
       "      <th>1</th>\n",
       "      <td>1</td>\n",
       "      <td>2617.592153</td>\n",
       "      <td>15.816871</td>\n",
       "      <td>2021-01-18</td>\n",
       "      <td>1</td>\n",
       "    </tr>\n",
       "    <tr>\n",
       "      <th>2</th>\n",
       "      <td>1</td>\n",
       "      <td>754.159807</td>\n",
       "      <td>6.232113</td>\n",
       "      <td>2021-04-20</td>\n",
       "      <td>4</td>\n",
       "    </tr>\n",
       "    <tr>\n",
       "      <th>3</th>\n",
       "      <td>1</td>\n",
       "      <td>2694.783254</td>\n",
       "      <td>18.511000</td>\n",
       "      <td>2021-08-11</td>\n",
       "      <td>8</td>\n",
       "    </tr>\n",
       "    <tr>\n",
       "      <th>4</th>\n",
       "      <td>1</td>\n",
       "      <td>4028.687306</td>\n",
       "      <td>26.265803</td>\n",
       "      <td>2021-08-28</td>\n",
       "      <td>8</td>\n",
       "    </tr>\n",
       "  </tbody>\n",
       "</table>\n",
       "</div>"
      ],
      "text/plain": [
       "   user_id     distance   duration       date  date_month\n",
       "0        1  4409.919140  25.599769 2021-01-01           1\n",
       "1        1  2617.592153  15.816871 2021-01-18           1\n",
       "2        1   754.159807   6.232113 2021-04-20           4\n",
       "3        1  2694.783254  18.511000 2021-08-11           8\n",
       "4        1  4028.687306  26.265803 2021-08-28           8"
      ]
     },
     "execution_count": 31,
     "metadata": {},
     "output_type": "execute_result"
    }
   ],
   "source": [
    "data_rides.head()"
   ]
  },
  {
   "cell_type": "markdown",
   "id": "c732fb7e",
   "metadata": {},
   "source": [
    "Проверка на уникальность значений добавленного столбца, для определения использовались ли все месяца. Это показывает есть ли ошибки в данных значениях или нет"
   ]
  },
  {
   "cell_type": "code",
   "execution_count": 32,
   "id": "116ca446",
   "metadata": {},
   "outputs": [
    {
     "data": {
      "text/plain": [
       "array([ 1,  2,  3,  4,  5,  6,  7,  8,  9, 10, 11, 12])"
      ]
     },
     "execution_count": 32,
     "metadata": {},
     "output_type": "execute_result"
    }
   ],
   "source": [
    "data_rides['date_month'].sort_values().unique()"
   ]
  },
  {
   "cell_type": "markdown",
   "id": "b195f1ab",
   "metadata": {},
   "source": [
    "Создание нового столбца где содержаться данные с датой поездки"
   ]
  },
  {
   "cell_type": "code",
   "execution_count": 33,
   "id": "294338fe",
   "metadata": {},
   "outputs": [],
   "source": [
    "data_rides['date_day'] = data_rides['date'].dt.day"
   ]
  },
  {
   "cell_type": "markdown",
   "id": "d5785312",
   "metadata": {},
   "source": [
    "Просмотр первых строчек данных после добавления нового столбца"
   ]
  },
  {
   "cell_type": "code",
   "execution_count": 34,
   "id": "1132c65d",
   "metadata": {},
   "outputs": [
    {
     "data": {
      "text/html": [
       "<div>\n",
       "<style scoped>\n",
       "    .dataframe tbody tr th:only-of-type {\n",
       "        vertical-align: middle;\n",
       "    }\n",
       "\n",
       "    .dataframe tbody tr th {\n",
       "        vertical-align: top;\n",
       "    }\n",
       "\n",
       "    .dataframe thead th {\n",
       "        text-align: right;\n",
       "    }\n",
       "</style>\n",
       "<table border=\"1\" class=\"dataframe\">\n",
       "  <thead>\n",
       "    <tr style=\"text-align: right;\">\n",
       "      <th></th>\n",
       "      <th>user_id</th>\n",
       "      <th>distance</th>\n",
       "      <th>duration</th>\n",
       "      <th>date</th>\n",
       "      <th>date_month</th>\n",
       "      <th>date_day</th>\n",
       "    </tr>\n",
       "  </thead>\n",
       "  <tbody>\n",
       "    <tr>\n",
       "      <th>0</th>\n",
       "      <td>1</td>\n",
       "      <td>4409.919140</td>\n",
       "      <td>25.599769</td>\n",
       "      <td>2021-01-01</td>\n",
       "      <td>1</td>\n",
       "      <td>1</td>\n",
       "    </tr>\n",
       "    <tr>\n",
       "      <th>1</th>\n",
       "      <td>1</td>\n",
       "      <td>2617.592153</td>\n",
       "      <td>15.816871</td>\n",
       "      <td>2021-01-18</td>\n",
       "      <td>1</td>\n",
       "      <td>18</td>\n",
       "    </tr>\n",
       "    <tr>\n",
       "      <th>2</th>\n",
       "      <td>1</td>\n",
       "      <td>754.159807</td>\n",
       "      <td>6.232113</td>\n",
       "      <td>2021-04-20</td>\n",
       "      <td>4</td>\n",
       "      <td>20</td>\n",
       "    </tr>\n",
       "    <tr>\n",
       "      <th>3</th>\n",
       "      <td>1</td>\n",
       "      <td>2694.783254</td>\n",
       "      <td>18.511000</td>\n",
       "      <td>2021-08-11</td>\n",
       "      <td>8</td>\n",
       "      <td>11</td>\n",
       "    </tr>\n",
       "    <tr>\n",
       "      <th>4</th>\n",
       "      <td>1</td>\n",
       "      <td>4028.687306</td>\n",
       "      <td>26.265803</td>\n",
       "      <td>2021-08-28</td>\n",
       "      <td>8</td>\n",
       "      <td>28</td>\n",
       "    </tr>\n",
       "  </tbody>\n",
       "</table>\n",
       "</div>"
      ],
      "text/plain": [
       "   user_id     distance   duration       date  date_month  date_day\n",
       "0        1  4409.919140  25.599769 2021-01-01           1         1\n",
       "1        1  2617.592153  15.816871 2021-01-18           1        18\n",
       "2        1   754.159807   6.232113 2021-04-20           4        20\n",
       "3        1  2694.783254  18.511000 2021-08-11           8        11\n",
       "4        1  4028.687306  26.265803 2021-08-28           8        28"
      ]
     },
     "execution_count": 34,
     "metadata": {},
     "output_type": "execute_result"
    }
   ],
   "source": [
    "data_rides.head()"
   ]
  },
  {
   "cell_type": "markdown",
   "id": "c57584ed",
   "metadata": {},
   "source": [
    "Проверка на уникальность значений добавленного столбца, для определения использовались ли все существующие даты. Это показывает есть ли ошибки в данных значениях или нет"
   ]
  },
  {
   "cell_type": "code",
   "execution_count": 35,
   "id": "98db7f81",
   "metadata": {},
   "outputs": [
    {
     "data": {
      "text/plain": [
       "array([ 1,  2,  3,  4,  5,  6,  7,  8,  9, 10, 11, 12, 13, 14, 15, 16, 17,\n",
       "       18, 19, 20, 21, 22, 23, 24, 25, 26, 27, 28, 29, 30, 31])"
      ]
     },
     "execution_count": 35,
     "metadata": {},
     "output_type": "execute_result"
    }
   ],
   "source": [
    "data_rides['date_day'].sort_values().unique()"
   ]
  },
  {
   "cell_type": "markdown",
   "id": "da7d09b0",
   "metadata": {},
   "source": [
    "Информация о данных с подписками"
   ]
  },
  {
   "cell_type": "code",
   "execution_count": 36,
   "id": "6bc25438",
   "metadata": {},
   "outputs": [
    {
     "name": "stdout",
     "output_type": "stream",
     "text": [
      "<class 'pandas.core.frame.DataFrame'>\n",
      "RangeIndex: 2 entries, 0 to 1\n",
      "Data columns (total 4 columns):\n",
      " #   Column             Non-Null Count  Dtype \n",
      "---  ------             --------------  ----- \n",
      " 0   subscription_type  2 non-null      object\n",
      " 1   minute_price       2 non-null      int64 \n",
      " 2   start_ride_price   2 non-null      int64 \n",
      " 3   subscription_fee   2 non-null      int64 \n",
      "dtypes: int64(3), object(1)\n",
      "memory usage: 192.0+ bytes\n"
     ]
    }
   ],
   "source": [
    "data_subscriptions.info()"
   ]
  },
  {
   "cell_type": "markdown",
   "id": "183c0a07",
   "metadata": {},
   "source": [
    "Вывод строчек в данных о подписках"
   ]
  },
  {
   "cell_type": "code",
   "execution_count": 37,
   "id": "ace2789a",
   "metadata": {},
   "outputs": [
    {
     "data": {
      "text/html": [
       "<div>\n",
       "<style scoped>\n",
       "    .dataframe tbody tr th:only-of-type {\n",
       "        vertical-align: middle;\n",
       "    }\n",
       "\n",
       "    .dataframe tbody tr th {\n",
       "        vertical-align: top;\n",
       "    }\n",
       "\n",
       "    .dataframe thead th {\n",
       "        text-align: right;\n",
       "    }\n",
       "</style>\n",
       "<table border=\"1\" class=\"dataframe\">\n",
       "  <thead>\n",
       "    <tr style=\"text-align: right;\">\n",
       "      <th></th>\n",
       "      <th>subscription_type</th>\n",
       "      <th>minute_price</th>\n",
       "      <th>start_ride_price</th>\n",
       "      <th>subscription_fee</th>\n",
       "    </tr>\n",
       "  </thead>\n",
       "  <tbody>\n",
       "    <tr>\n",
       "      <th>0</th>\n",
       "      <td>free</td>\n",
       "      <td>8</td>\n",
       "      <td>50</td>\n",
       "      <td>0</td>\n",
       "    </tr>\n",
       "    <tr>\n",
       "      <th>1</th>\n",
       "      <td>ultra</td>\n",
       "      <td>6</td>\n",
       "      <td>0</td>\n",
       "      <td>199</td>\n",
       "    </tr>\n",
       "  </tbody>\n",
       "</table>\n",
       "</div>"
      ],
      "text/plain": [
       "  subscription_type  minute_price  start_ride_price  subscription_fee\n",
       "0              free             8                50                 0\n",
       "1             ultra             6                 0               199"
      ]
     },
     "execution_count": 37,
     "metadata": {},
     "output_type": "execute_result"
    }
   ],
   "source": [
    "data_subscriptions.head()"
   ]
  },
  {
   "cell_type": "markdown",
   "id": "f6da208e",
   "metadata": {},
   "source": [
    "- Была произведена проверка на наличие пропусков в данных. Пропусков не обнаружено. \n",
    "- Были удалены строки дубликаты. \n",
    "- Были добавлены столбцы date_month и date_day показывающие месяц и день поездки."
   ]
  },
  {
   "cell_type": "markdown",
   "id": "127cc891",
   "metadata": {},
   "source": [
    "#### Шаг 3. Исследовательский анализ данных"
   ]
  },
  {
   "cell_type": "markdown",
   "id": "5766ce0f",
   "metadata": {},
   "source": [
    "Вывод для наглядности первых строк в данных о пользователей"
   ]
  },
  {
   "cell_type": "code",
   "execution_count": 38,
   "id": "afc3f670",
   "metadata": {},
   "outputs": [
    {
     "data": {
      "text/html": [
       "<div>\n",
       "<style scoped>\n",
       "    .dataframe tbody tr th:only-of-type {\n",
       "        vertical-align: middle;\n",
       "    }\n",
       "\n",
       "    .dataframe tbody tr th {\n",
       "        vertical-align: top;\n",
       "    }\n",
       "\n",
       "    .dataframe thead th {\n",
       "        text-align: right;\n",
       "    }\n",
       "</style>\n",
       "<table border=\"1\" class=\"dataframe\">\n",
       "  <thead>\n",
       "    <tr style=\"text-align: right;\">\n",
       "      <th></th>\n",
       "      <th>user_id</th>\n",
       "      <th>name</th>\n",
       "      <th>age</th>\n",
       "      <th>city</th>\n",
       "      <th>subscription_type</th>\n",
       "    </tr>\n",
       "  </thead>\n",
       "  <tbody>\n",
       "    <tr>\n",
       "      <th>0</th>\n",
       "      <td>1</td>\n",
       "      <td>Кира</td>\n",
       "      <td>22</td>\n",
       "      <td>Тюмень</td>\n",
       "      <td>ultra</td>\n",
       "    </tr>\n",
       "    <tr>\n",
       "      <th>1</th>\n",
       "      <td>2</td>\n",
       "      <td>Станислав</td>\n",
       "      <td>31</td>\n",
       "      <td>Омск</td>\n",
       "      <td>ultra</td>\n",
       "    </tr>\n",
       "    <tr>\n",
       "      <th>2</th>\n",
       "      <td>3</td>\n",
       "      <td>Алексей</td>\n",
       "      <td>20</td>\n",
       "      <td>Москва</td>\n",
       "      <td>ultra</td>\n",
       "    </tr>\n",
       "    <tr>\n",
       "      <th>3</th>\n",
       "      <td>4</td>\n",
       "      <td>Константин</td>\n",
       "      <td>26</td>\n",
       "      <td>Ростов-на-Дону</td>\n",
       "      <td>ultra</td>\n",
       "    </tr>\n",
       "    <tr>\n",
       "      <th>4</th>\n",
       "      <td>5</td>\n",
       "      <td>Адель</td>\n",
       "      <td>28</td>\n",
       "      <td>Омск</td>\n",
       "      <td>ultra</td>\n",
       "    </tr>\n",
       "  </tbody>\n",
       "</table>\n",
       "</div>"
      ],
      "text/plain": [
       "   user_id        name  age            city subscription_type\n",
       "0        1        Кира   22          Тюмень             ultra\n",
       "1        2   Станислав   31            Омск             ultra\n",
       "2        3     Алексей   20          Москва             ultra\n",
       "3        4  Константин   26  Ростов-на-Дону             ultra\n",
       "4        5       Адель   28            Омск             ultra"
      ]
     },
     "execution_count": 38,
     "metadata": {},
     "output_type": "execute_result"
    }
   ],
   "source": [
    "data_users.head()"
   ]
  },
  {
   "cell_type": "markdown",
   "id": "5b669dc1",
   "metadata": {},
   "source": [
    "Построение гистограммы для наглядного представления о возрастном разбросе пользователей сервиса"
   ]
  },
  {
   "cell_type": "code",
   "execution_count": 39,
   "id": "5695f488",
   "metadata": {},
   "outputs": [
    {
     "data": {
      "image/png": "[encoded data removed]",
      "text/plain": [
       "<Figure size 432x288 with 1 Axes>"
      ]
     },
     "metadata": {
      "needs_background": "light"
     },
     "output_type": "display_data"
    }
   ],
   "source": [
    "plt.hist(data_users['age'])\n",
    "plt.title('Возраст пользователей сервиса')\n",
    "plt.xlabel('Возраст')\n",
    "plt.ylabel('Количество пользователей сервиса')\n",
    "plt.grid()"
   ]
  },
  {
   "cell_type": "markdown",
   "id": "662fb790",
   "metadata": {},
   "source": [
    "Определния популярности приложения по городам"
   ]
  },
  {
   "cell_type": "code",
   "execution_count": 40,
   "id": "ebb1de93",
   "metadata": {},
   "outputs": [
    {
     "data": {
      "text/plain": [
       "Пятигорск         219\n",
       "Екатеринбург      204\n",
       "Ростов-на-Дону    198\n",
       "Краснодар         193\n",
       "Сочи              189\n",
       "Омск              183\n",
       "Тюмень            180\n",
       "Москва            168\n",
       "Name: city, dtype: int64"
      ]
     },
     "execution_count": 40,
     "metadata": {},
     "output_type": "execute_result"
    }
   ],
   "source": [
    "popularity_city = data_users['city'].value_counts()\n",
    "popularity_city"
   ]
  },
  {
   "cell_type": "markdown",
   "id": "a8dcb650",
   "metadata": {},
   "source": [
    "Определния популярности приложения по городам в процентах"
   ]
  },
  {
   "cell_type": "code",
   "execution_count": 41,
   "id": "b12a318a",
   "metadata": {},
   "outputs": [
    {
     "data": {
      "text/plain": [
       "Пятигорск         14.276402\n",
       "Екатеринбург      13.298566\n",
       "Ростов-на-Дону    12.907432\n",
       "Краснодар         12.581486\n",
       "Сочи              12.320730\n",
       "Омск              11.929596\n",
       "Тюмень            11.734029\n",
       "Москва            10.951760\n",
       "Name: city, dtype: float64"
      ]
     },
     "execution_count": 41,
     "metadata": {},
     "output_type": "execute_result"
    }
   ],
   "source": [
    "popularity_city_percent = data_users['city'].value_counts(normalize=True) * 100\n",
    "popularity_city_percent"
   ]
  },
  {
   "cell_type": "markdown",
   "id": "fe540cc2",
   "metadata": {},
   "source": [
    "Округление дроби до десятых"
   ]
  },
  {
   "cell_type": "code",
   "execution_count": 42,
   "id": "927e4b36",
   "metadata": {},
   "outputs": [
    {
     "data": {
      "text/plain": [
       "Пятигорск         14.3\n",
       "Екатеринбург      13.3\n",
       "Ростов-на-Дону    12.9\n",
       "Краснодар         12.6\n",
       "Сочи              12.3\n",
       "Омск              11.9\n",
       "Тюмень            11.7\n",
       "Москва            11.0\n",
       "Name: city, dtype: float64"
      ]
     },
     "execution_count": 42,
     "metadata": {},
     "output_type": "execute_result"
    }
   ],
   "source": [
    "popularity_city_percent = popularity_city_percent.round(1)\n",
    "popularity_city_percent"
   ]
  },
  {
   "cell_type": "markdown",
   "id": "679c933f",
   "metadata": {},
   "source": [
    "Для наглядности был построен график популярности в городах"
   ]
  },
  {
   "cell_type": "code",
   "execution_count": 43,
   "id": "a4e9e364",
   "metadata": {
    "scrolled": false
   },
   "outputs": [
    {
     "data": {
      "image/png": "[encoded data removed]",
      "text/plain": [
       "<Figure size 720x576 with 1 Axes>"
      ]
     },
     "metadata": {
      "needs_background": "light"
     },
     "output_type": "display_data"
    }
   ],
   "source": [
    "city_counts = data_users['city'].value_counts().sort_values(ascending=False)\n",
    "plt.figure(figsize=(10, 8))\n",
    "city_counts.plot(kind='barh', color='skyblue')\n",
    "plt.title('Распределение пользователей по населенным пунктам')\n",
    "plt.xlabel('Количество пользователей')\n",
    "plt.ylabel('Населенный пункт')\n",
    "plt.grid(axis='x')"
   ]
  },
  {
   "cell_type": "markdown",
   "id": "c2766093",
   "metadata": {},
   "source": [
    "Количество людей без подписки и с подпиской"
   ]
  },
  {
   "cell_type": "code",
   "execution_count": 44,
   "id": "35770be4",
   "metadata": {},
   "outputs": [
    {
     "data": {
      "text/plain": [
       "free     835\n",
       "ultra    699\n",
       "Name: subscription_type, dtype: int64"
      ]
     },
     "execution_count": 44,
     "metadata": {},
     "output_type": "execute_result"
    }
   ],
   "source": [
    "subscription = data_users['subscription_type'].value_counts()\n",
    "subscription"
   ]
  },
  {
   "cell_type": "markdown",
   "id": "bc2d4112",
   "metadata": {},
   "source": [
    "Количество людей без подписки и с подпиской в процентном соотношении"
   ]
  },
  {
   "cell_type": "code",
   "execution_count": 45,
   "id": "1068f790",
   "metadata": {},
   "outputs": [
    {
     "data": {
      "text/plain": [
       "free     54.432855\n",
       "ultra    45.567145\n",
       "Name: subscription_type, dtype: float64"
      ]
     },
     "execution_count": 45,
     "metadata": {},
     "output_type": "execute_result"
    }
   ],
   "source": [
    "subscription_percent = data_users['subscription_type'].value_counts(normalize=True) * 100\n",
    "subscription_percent"
   ]
  },
  {
   "cell_type": "markdown",
   "id": "e5681650",
   "metadata": {},
   "source": [
    "Для наглядности построена круговая диаграмма процентного соотношения людей без подписки и с подпиской"
   ]
  },
  {
   "cell_type": "code",
   "execution_count": 46,
   "id": "f724294f",
   "metadata": {},
   "outputs": [
    {
     "data": {
      "image/png": "[encoded data removed]",
      "text/plain": [
       "<Figure size 360x360 with 1 Axes>"
      ]
     },
     "metadata": {},
     "output_type": "display_data"
    }
   ],
   "source": [
    "data_users['subscription_type'].value_counts().plot(\n",
    "    kind = 'pie', \n",
    "    y = subscription_percent, \n",
    "    autopct = '%1.0f%%', \n",
    "    figsize=(5,5),\n",
    "    title = 'Процент пользователей в зависимости от тарифа');"
   ]
  },
  {
   "cell_type": "markdown",
   "id": "6b77acd8",
   "metadata": {},
   "source": [
    "Описательная статистика для определения среднего максимального и минимального значения для столбика \"возраст пользователей\""
   ]
  },
  {
   "cell_type": "code",
   "execution_count": 47,
   "id": "b26670c5",
   "metadata": {},
   "outputs": [
    {
     "data": {
      "text/plain": [
       "count    1534.000000\n",
       "mean       24.903520\n",
       "std         4.572367\n",
       "min        12.000000\n",
       "25%        22.000000\n",
       "50%        25.000000\n",
       "75%        28.000000\n",
       "max        43.000000\n",
       "Name: age, dtype: float64"
      ]
     },
     "execution_count": 47,
     "metadata": {},
     "output_type": "execute_result"
    }
   ],
   "source": [
    "data_users['age'].describe()"
   ]
  },
  {
   "cell_type": "markdown",
   "id": "c606ad5b",
   "metadata": {},
   "source": [
    "Первые строки данных про поездки"
   ]
  },
  {
   "cell_type": "code",
   "execution_count": 48,
   "id": "72c40036",
   "metadata": {},
   "outputs": [
    {
     "data": {
      "text/html": [
       "<div>\n",
       "<style scoped>\n",
       "    .dataframe tbody tr th:only-of-type {\n",
       "        vertical-align: middle;\n",
       "    }\n",
       "\n",
       "    .dataframe tbody tr th {\n",
       "        vertical-align: top;\n",
       "    }\n",
       "\n",
       "    .dataframe thead th {\n",
       "        text-align: right;\n",
       "    }\n",
       "</style>\n",
       "<table border=\"1\" class=\"dataframe\">\n",
       "  <thead>\n",
       "    <tr style=\"text-align: right;\">\n",
       "      <th></th>\n",
       "      <th>user_id</th>\n",
       "      <th>distance</th>\n",
       "      <th>duration</th>\n",
       "      <th>date</th>\n",
       "      <th>date_month</th>\n",
       "      <th>date_day</th>\n",
       "    </tr>\n",
       "  </thead>\n",
       "  <tbody>\n",
       "    <tr>\n",
       "      <th>0</th>\n",
       "      <td>1</td>\n",
       "      <td>4409.919140</td>\n",
       "      <td>25.599769</td>\n",
       "      <td>2021-01-01</td>\n",
       "      <td>1</td>\n",
       "      <td>1</td>\n",
       "    </tr>\n",
       "    <tr>\n",
       "      <th>1</th>\n",
       "      <td>1</td>\n",
       "      <td>2617.592153</td>\n",
       "      <td>15.816871</td>\n",
       "      <td>2021-01-18</td>\n",
       "      <td>1</td>\n",
       "      <td>18</td>\n",
       "    </tr>\n",
       "    <tr>\n",
       "      <th>2</th>\n",
       "      <td>1</td>\n",
       "      <td>754.159807</td>\n",
       "      <td>6.232113</td>\n",
       "      <td>2021-04-20</td>\n",
       "      <td>4</td>\n",
       "      <td>20</td>\n",
       "    </tr>\n",
       "    <tr>\n",
       "      <th>3</th>\n",
       "      <td>1</td>\n",
       "      <td>2694.783254</td>\n",
       "      <td>18.511000</td>\n",
       "      <td>2021-08-11</td>\n",
       "      <td>8</td>\n",
       "      <td>11</td>\n",
       "    </tr>\n",
       "    <tr>\n",
       "      <th>4</th>\n",
       "      <td>1</td>\n",
       "      <td>4028.687306</td>\n",
       "      <td>26.265803</td>\n",
       "      <td>2021-08-28</td>\n",
       "      <td>8</td>\n",
       "      <td>28</td>\n",
       "    </tr>\n",
       "  </tbody>\n",
       "</table>\n",
       "</div>"
      ],
      "text/plain": [
       "   user_id     distance   duration       date  date_month  date_day\n",
       "0        1  4409.919140  25.599769 2021-01-01           1         1\n",
       "1        1  2617.592153  15.816871 2021-01-18           1        18\n",
       "2        1   754.159807   6.232113 2021-04-20           4        20\n",
       "3        1  2694.783254  18.511000 2021-08-11           8        11\n",
       "4        1  4028.687306  26.265803 2021-08-28           8        28"
      ]
     },
     "execution_count": 48,
     "metadata": {},
     "output_type": "execute_result"
    }
   ],
   "source": [
    "data_rides.head()"
   ]
  },
  {
   "cell_type": "markdown",
   "id": "220de117",
   "metadata": {},
   "source": [
    "Описательная статистика для определения среднего максимального и минимального значения для столбика \"дистанция поездок\""
   ]
  },
  {
   "cell_type": "code",
   "execution_count": 49,
   "id": "aaa68703",
   "metadata": {},
   "outputs": [
    {
     "data": {
      "text/plain": [
       "count    18068.000000\n",
       "mean      3070.659976\n",
       "std       1116.831209\n",
       "min          0.855683\n",
       "25%       2543.226360\n",
       "50%       3133.609994\n",
       "75%       3776.222735\n",
       "max       7211.007745\n",
       "Name: distance, dtype: float64"
      ]
     },
     "execution_count": 49,
     "metadata": {},
     "output_type": "execute_result"
    }
   ],
   "source": [
    "data_rides['distance'].describe()"
   ]
  },
  {
   "cell_type": "markdown",
   "id": "a4b1c4bd",
   "metadata": {},
   "source": [
    "Описательная статистика для определения среднего максимального и минимального значения для столбика \"продолжительность поездок\""
   ]
  },
  {
   "cell_type": "code",
   "execution_count": 50,
   "id": "c7897a02",
   "metadata": {},
   "outputs": [
    {
     "data": {
      "text/plain": [
       "count    18068.000000\n",
       "mean        17.805011\n",
       "std          6.091051\n",
       "min          0.500000\n",
       "25%         13.597563\n",
       "50%         17.678395\n",
       "75%         21.724800\n",
       "max         40.823963\n",
       "Name: duration, dtype: float64"
      ]
     },
     "execution_count": 50,
     "metadata": {},
     "output_type": "execute_result"
    }
   ],
   "source": [
    "data_rides['duration'].describe()"
   ]
  },
  {
   "cell_type": "markdown",
   "id": "4ab25499",
   "metadata": {},
   "source": [
    "Сводная таблица показывающая дистанцию и продолжительность поездок"
   ]
  },
  {
   "cell_type": "code",
   "execution_count": 51,
   "id": "2710291e",
   "metadata": {},
   "outputs": [
    {
     "data": {
      "text/html": [
       "<div>\n",
       "<style scoped>\n",
       "    .dataframe tbody tr th:only-of-type {\n",
       "        vertical-align: middle;\n",
       "    }\n",
       "\n",
       "    .dataframe tbody tr th {\n",
       "        vertical-align: top;\n",
       "    }\n",
       "\n",
       "    .dataframe thead th {\n",
       "        text-align: right;\n",
       "    }\n",
       "</style>\n",
       "<table border=\"1\" class=\"dataframe\">\n",
       "  <thead>\n",
       "    <tr style=\"text-align: right;\">\n",
       "      <th></th>\n",
       "      <th>distance</th>\n",
       "      <th>duration</th>\n",
       "    </tr>\n",
       "    <tr>\n",
       "      <th>user_id</th>\n",
       "      <th></th>\n",
       "      <th></th>\n",
       "    </tr>\n",
       "  </thead>\n",
       "  <tbody>\n",
       "    <tr>\n",
       "      <th>1</th>\n",
       "      <td>34070.182066</td>\n",
       "      <td>204.604909</td>\n",
       "    </tr>\n",
       "    <tr>\n",
       "      <th>2</th>\n",
       "      <td>33964.058614</td>\n",
       "      <td>197.644279</td>\n",
       "    </tr>\n",
       "    <tr>\n",
       "      <th>3</th>\n",
       "      <td>36907.597866</td>\n",
       "      <td>233.193513</td>\n",
       "    </tr>\n",
       "    <tr>\n",
       "      <th>4</th>\n",
       "      <td>44837.189916</td>\n",
       "      <td>288.563581</td>\n",
       "    </tr>\n",
       "    <tr>\n",
       "      <th>5</th>\n",
       "      <td>35556.949649</td>\n",
       "      <td>174.073932</td>\n",
       "    </tr>\n",
       "    <tr>\n",
       "      <th>...</th>\n",
       "      <td>...</td>\n",
       "      <td>...</td>\n",
       "    </tr>\n",
       "    <tr>\n",
       "      <th>1530</th>\n",
       "      <td>46758.469822</td>\n",
       "      <td>292.366839</td>\n",
       "    </tr>\n",
       "    <tr>\n",
       "      <th>1531</th>\n",
       "      <td>67054.794222</td>\n",
       "      <td>408.192206</td>\n",
       "    </tr>\n",
       "    <tr>\n",
       "      <th>1532</th>\n",
       "      <td>33902.203192</td>\n",
       "      <td>212.160144</td>\n",
       "    </tr>\n",
       "    <tr>\n",
       "      <th>1533</th>\n",
       "      <td>36890.192211</td>\n",
       "      <td>240.580297</td>\n",
       "    </tr>\n",
       "    <tr>\n",
       "      <th>1534</th>\n",
       "      <td>41898.442847</td>\n",
       "      <td>229.835127</td>\n",
       "    </tr>\n",
       "  </tbody>\n",
       "</table>\n",
       "<p>1534 rows × 2 columns</p>\n",
       "</div>"
      ],
      "text/plain": [
       "             distance    duration\n",
       "user_id                          \n",
       "1        34070.182066  204.604909\n",
       "2        33964.058614  197.644279\n",
       "3        36907.597866  233.193513\n",
       "4        44837.189916  288.563581\n",
       "5        35556.949649  174.073932\n",
       "...               ...         ...\n",
       "1530     46758.469822  292.366839\n",
       "1531     67054.794222  408.192206\n",
       "1532     33902.203192  212.160144\n",
       "1533     36890.192211  240.580297\n",
       "1534     41898.442847  229.835127\n",
       "\n",
       "[1534 rows x 2 columns]"
      ]
     },
     "execution_count": 51,
     "metadata": {},
     "output_type": "execute_result"
    }
   ],
   "source": [
    "data_rides_grouped = data_rides.groupby('user_id').sum(numeric_only=True)[['distance', 'duration']]\n",
    "data_rides_grouped"
   ]
  },
  {
   "cell_type": "markdown",
   "id": "f3f0feef",
   "metadata": {},
   "source": [
    "Гистограмма для визуализации расстояний за поездку"
   ]
  },
  {
   "cell_type": "code",
   "execution_count": 52,
   "id": "6f063085",
   "metadata": {},
   "outputs": [
    {
     "data": {
      "text/plain": [
       "Text(0, 0.5, 'Количество поездок')"
      ]
     },
     "execution_count": 52,
     "metadata": {},
     "output_type": "execute_result"
    },
    {
     "data": {
      "image/png": "[encoded data removed]",
      "text/plain": [
       "<Figure size 432x288 with 1 Axes>"
      ]
     },
     "metadata": {
      "needs_background": "light"
     },
     "output_type": "display_data"
    }
   ],
   "source": [
    "data_rides['distance'].hist(bins=500)\n",
    "plt.title('Расстояние за одну поездку')\n",
    "plt.xlabel('Расстояние в метрах')\n",
    "plt.ylabel('Количество поездок')"
   ]
  },
  {
   "cell_type": "markdown",
   "id": "0d19d716",
   "metadata": {},
   "source": [
    "Гистограмма для визуализации продолжительности поездок"
   ]
  },
  {
   "cell_type": "code",
   "execution_count": 53,
   "id": "9d0c859b",
   "metadata": {},
   "outputs": [
    {
     "data": {
      "text/plain": [
       "Text(0, 0.5, 'Количество поездок')"
      ]
     },
     "execution_count": 53,
     "metadata": {},
     "output_type": "execute_result"
    },
    {
     "data": {
      "image/png": "[encoded data removed]",
      "text/plain": [
       "<Figure size 432x288 with 1 Axes>"
      ]
     },
     "metadata": {
      "needs_background": "light"
     },
     "output_type": "display_data"
    }
   ],
   "source": [
    "data_rides['duration'].hist(bins=500)\n",
    "plt.title('Время в поездках')\n",
    "plt.xlabel('Время в минутах')\n",
    "plt.ylabel('Количество поездок')"
   ]
  },
  {
   "cell_type": "markdown",
   "id": "80568c06",
   "metadata": {},
   "source": [
    "- Минимальны возраст пользователей приложения 12 лет максимальный 43. Средний возраст использования 25 лет.\n",
    "- 53 процента не пользуются подпиской сервиса 47 процентов подключили ее\n",
    "- Наибольшее количество поездок совершено в Пятегорске \n",
    "- Наименьшее в Москве\n",
    "- Среднее количество метров за 1 поездку 3071 метров \n",
    "- Максимальное 7211 метров\n",
    "- Минимальное 0.85 метров\n",
    "- Среднее время 17.8 минут \n",
    "- Максимальнок время 40.8 минут\n",
    "- Минимальное 0.5 минут"
   ]
  },
  {
   "cell_type": "markdown",
   "id": "7802748a",
   "metadata": {},
   "source": [
    "#### Шаг 4. Объединение данных"
   ]
  },
  {
   "cell_type": "markdown",
   "id": "55394883",
   "metadata": {},
   "source": [
    "Создание полного массива данных"
   ]
  },
  {
   "cell_type": "code",
   "execution_count": 54,
   "id": "0841913b",
   "metadata": {
    "scrolled": true
   },
   "outputs": [
    {
     "data": {
      "text/html": [
       "<div>\n",
       "<style scoped>\n",
       "    .dataframe tbody tr th:only-of-type {\n",
       "        vertical-align: middle;\n",
       "    }\n",
       "\n",
       "    .dataframe tbody tr th {\n",
       "        vertical-align: top;\n",
       "    }\n",
       "\n",
       "    .dataframe thead th {\n",
       "        text-align: right;\n",
       "    }\n",
       "</style>\n",
       "<table border=\"1\" class=\"dataframe\">\n",
       "  <thead>\n",
       "    <tr style=\"text-align: right;\">\n",
       "      <th></th>\n",
       "      <th>user_id</th>\n",
       "      <th>name</th>\n",
       "      <th>age</th>\n",
       "      <th>city</th>\n",
       "      <th>subscription_type</th>\n",
       "      <th>distance</th>\n",
       "      <th>duration</th>\n",
       "      <th>date</th>\n",
       "      <th>date_month</th>\n",
       "      <th>date_day</th>\n",
       "      <th>minute_price</th>\n",
       "      <th>start_ride_price</th>\n",
       "      <th>subscription_fee</th>\n",
       "    </tr>\n",
       "  </thead>\n",
       "  <tbody>\n",
       "    <tr>\n",
       "      <th>0</th>\n",
       "      <td>1</td>\n",
       "      <td>Кира</td>\n",
       "      <td>22</td>\n",
       "      <td>Тюмень</td>\n",
       "      <td>ultra</td>\n",
       "      <td>4409.919140</td>\n",
       "      <td>25.599769</td>\n",
       "      <td>2021-01-01</td>\n",
       "      <td>1</td>\n",
       "      <td>1</td>\n",
       "      <td>6</td>\n",
       "      <td>0</td>\n",
       "      <td>199</td>\n",
       "    </tr>\n",
       "    <tr>\n",
       "      <th>1</th>\n",
       "      <td>1</td>\n",
       "      <td>Кира</td>\n",
       "      <td>22</td>\n",
       "      <td>Тюмень</td>\n",
       "      <td>ultra</td>\n",
       "      <td>2617.592153</td>\n",
       "      <td>15.816871</td>\n",
       "      <td>2021-01-18</td>\n",
       "      <td>1</td>\n",
       "      <td>18</td>\n",
       "      <td>6</td>\n",
       "      <td>0</td>\n",
       "      <td>199</td>\n",
       "    </tr>\n",
       "    <tr>\n",
       "      <th>2</th>\n",
       "      <td>1</td>\n",
       "      <td>Кира</td>\n",
       "      <td>22</td>\n",
       "      <td>Тюмень</td>\n",
       "      <td>ultra</td>\n",
       "      <td>754.159807</td>\n",
       "      <td>6.232113</td>\n",
       "      <td>2021-04-20</td>\n",
       "      <td>4</td>\n",
       "      <td>20</td>\n",
       "      <td>6</td>\n",
       "      <td>0</td>\n",
       "      <td>199</td>\n",
       "    </tr>\n",
       "    <tr>\n",
       "      <th>3</th>\n",
       "      <td>1</td>\n",
       "      <td>Кира</td>\n",
       "      <td>22</td>\n",
       "      <td>Тюмень</td>\n",
       "      <td>ultra</td>\n",
       "      <td>2694.783254</td>\n",
       "      <td>18.511000</td>\n",
       "      <td>2021-08-11</td>\n",
       "      <td>8</td>\n",
       "      <td>11</td>\n",
       "      <td>6</td>\n",
       "      <td>0</td>\n",
       "      <td>199</td>\n",
       "    </tr>\n",
       "    <tr>\n",
       "      <th>4</th>\n",
       "      <td>1</td>\n",
       "      <td>Кира</td>\n",
       "      <td>22</td>\n",
       "      <td>Тюмень</td>\n",
       "      <td>ultra</td>\n",
       "      <td>4028.687306</td>\n",
       "      <td>26.265803</td>\n",
       "      <td>2021-08-28</td>\n",
       "      <td>8</td>\n",
       "      <td>28</td>\n",
       "      <td>6</td>\n",
       "      <td>0</td>\n",
       "      <td>199</td>\n",
       "    </tr>\n",
       "    <tr>\n",
       "      <th>...</th>\n",
       "      <td>...</td>\n",
       "      <td>...</td>\n",
       "      <td>...</td>\n",
       "      <td>...</td>\n",
       "      <td>...</td>\n",
       "      <td>...</td>\n",
       "      <td>...</td>\n",
       "      <td>...</td>\n",
       "      <td>...</td>\n",
       "      <td>...</td>\n",
       "      <td>...</td>\n",
       "      <td>...</td>\n",
       "      <td>...</td>\n",
       "    </tr>\n",
       "    <tr>\n",
       "      <th>18063</th>\n",
       "      <td>1534</td>\n",
       "      <td>Альберт</td>\n",
       "      <td>25</td>\n",
       "      <td>Краснодар</td>\n",
       "      <td>free</td>\n",
       "      <td>3781.098080</td>\n",
       "      <td>19.822962</td>\n",
       "      <td>2021-11-04</td>\n",
       "      <td>11</td>\n",
       "      <td>4</td>\n",
       "      <td>8</td>\n",
       "      <td>50</td>\n",
       "      <td>0</td>\n",
       "    </tr>\n",
       "    <tr>\n",
       "      <th>18064</th>\n",
       "      <td>1534</td>\n",
       "      <td>Альберт</td>\n",
       "      <td>25</td>\n",
       "      <td>Краснодар</td>\n",
       "      <td>free</td>\n",
       "      <td>2840.423057</td>\n",
       "      <td>21.409799</td>\n",
       "      <td>2021-11-16</td>\n",
       "      <td>11</td>\n",
       "      <td>16</td>\n",
       "      <td>8</td>\n",
       "      <td>50</td>\n",
       "      <td>0</td>\n",
       "    </tr>\n",
       "    <tr>\n",
       "      <th>18065</th>\n",
       "      <td>1534</td>\n",
       "      <td>Альберт</td>\n",
       "      <td>25</td>\n",
       "      <td>Краснодар</td>\n",
       "      <td>free</td>\n",
       "      <td>3826.185507</td>\n",
       "      <td>18.435051</td>\n",
       "      <td>2021-11-18</td>\n",
       "      <td>11</td>\n",
       "      <td>18</td>\n",
       "      <td>8</td>\n",
       "      <td>50</td>\n",
       "      <td>0</td>\n",
       "    </tr>\n",
       "    <tr>\n",
       "      <th>18066</th>\n",
       "      <td>1534</td>\n",
       "      <td>Альберт</td>\n",
       "      <td>25</td>\n",
       "      <td>Краснодар</td>\n",
       "      <td>free</td>\n",
       "      <td>2902.308661</td>\n",
       "      <td>16.674362</td>\n",
       "      <td>2021-11-27</td>\n",
       "      <td>11</td>\n",
       "      <td>27</td>\n",
       "      <td>8</td>\n",
       "      <td>50</td>\n",
       "      <td>0</td>\n",
       "    </tr>\n",
       "    <tr>\n",
       "      <th>18067</th>\n",
       "      <td>1534</td>\n",
       "      <td>Альберт</td>\n",
       "      <td>25</td>\n",
       "      <td>Краснодар</td>\n",
       "      <td>free</td>\n",
       "      <td>2371.711192</td>\n",
       "      <td>15.893917</td>\n",
       "      <td>2021-12-29</td>\n",
       "      <td>12</td>\n",
       "      <td>29</td>\n",
       "      <td>8</td>\n",
       "      <td>50</td>\n",
       "      <td>0</td>\n",
       "    </tr>\n",
       "  </tbody>\n",
       "</table>\n",
       "<p>18068 rows × 13 columns</p>\n",
       "</div>"
      ],
      "text/plain": [
       "       user_id     name  age       city subscription_type     distance  \\\n",
       "0            1     Кира   22     Тюмень             ultra  4409.919140   \n",
       "1            1     Кира   22     Тюмень             ultra  2617.592153   \n",
       "2            1     Кира   22     Тюмень             ultra   754.159807   \n",
       "3            1     Кира   22     Тюмень             ultra  2694.783254   \n",
       "4            1     Кира   22     Тюмень             ultra  4028.687306   \n",
       "...        ...      ...  ...        ...               ...          ...   \n",
       "18063     1534  Альберт   25  Краснодар              free  3781.098080   \n",
       "18064     1534  Альберт   25  Краснодар              free  2840.423057   \n",
       "18065     1534  Альберт   25  Краснодар              free  3826.185507   \n",
       "18066     1534  Альберт   25  Краснодар              free  2902.308661   \n",
       "18067     1534  Альберт   25  Краснодар              free  2371.711192   \n",
       "\n",
       "        duration       date  date_month  date_day  minute_price  \\\n",
       "0      25.599769 2021-01-01           1         1             6   \n",
       "1      15.816871 2021-01-18           1        18             6   \n",
       "2       6.232113 2021-04-20           4        20             6   \n",
       "3      18.511000 2021-08-11           8        11             6   \n",
       "4      26.265803 2021-08-28           8        28             6   \n",
       "...          ...        ...         ...       ...           ...   \n",
       "18063  19.822962 2021-11-04          11         4             8   \n",
       "18064  21.409799 2021-11-16          11        16             8   \n",
       "18065  18.435051 2021-11-18          11        18             8   \n",
       "18066  16.674362 2021-11-27          11        27             8   \n",
       "18067  15.893917 2021-12-29          12        29             8   \n",
       "\n",
       "       start_ride_price  subscription_fee  \n",
       "0                     0               199  \n",
       "1                     0               199  \n",
       "2                     0               199  \n",
       "3                     0               199  \n",
       "4                     0               199  \n",
       "...                 ...               ...  \n",
       "18063                50                 0  \n",
       "18064                50                 0  \n",
       "18065                50                 0  \n",
       "18066                50                 0  \n",
       "18067                50                 0  \n",
       "\n",
       "[18068 rows x 13 columns]"
      ]
     },
     "execution_count": 54,
     "metadata": {},
     "output_type": "execute_result"
    }
   ],
   "source": [
    "full_data = data_users.merge(data_rides).merge(data_subscriptions)\n",
    "full_data"
   ]
  },
  {
   "cell_type": "markdown",
   "id": "f53d967d",
   "metadata": {},
   "source": [
    "Проверка на дубликаты нового датафрейма"
   ]
  },
  {
   "cell_type": "code",
   "execution_count": 55,
   "id": "76be8928",
   "metadata": {},
   "outputs": [
    {
     "data": {
      "text/plain": [
       "0"
      ]
     },
     "execution_count": 55,
     "metadata": {},
     "output_type": "execute_result"
    }
   ],
   "source": [
    "full_data.duplicated().sum()"
   ]
  },
  {
   "cell_type": "markdown",
   "id": "53368f01",
   "metadata": {},
   "source": [
    "Проверка на пропущенные значения нового датафрейма"
   ]
  },
  {
   "cell_type": "code",
   "execution_count": 56,
   "id": "71c2ea5c",
   "metadata": {},
   "outputs": [
    {
     "data": {
      "text/plain": [
       "user_id              0\n",
       "name                 0\n",
       "age                  0\n",
       "city                 0\n",
       "subscription_type    0\n",
       "distance             0\n",
       "duration             0\n",
       "date                 0\n",
       "date_month           0\n",
       "date_day             0\n",
       "minute_price         0\n",
       "start_ride_price     0\n",
       "subscription_fee     0\n",
       "dtype: int64"
      ]
     },
     "execution_count": 56,
     "metadata": {},
     "output_type": "execute_result"
    }
   ],
   "source": [
    "full_data.isnull().sum()"
   ]
  },
  {
   "cell_type": "markdown",
   "id": "f57e76a3",
   "metadata": {},
   "source": [
    "Создание таблицы для пользователей без подписки"
   ]
  },
  {
   "cell_type": "code",
   "execution_count": 57,
   "id": "92806af4",
   "metadata": {},
   "outputs": [
    {
     "data": {
      "text/html": [
       "<div>\n",
       "<style scoped>\n",
       "    .dataframe tbody tr th:only-of-type {\n",
       "        vertical-align: middle;\n",
       "    }\n",
       "\n",
       "    .dataframe tbody tr th {\n",
       "        vertical-align: top;\n",
       "    }\n",
       "\n",
       "    .dataframe thead th {\n",
       "        text-align: right;\n",
       "    }\n",
       "</style>\n",
       "<table border=\"1\" class=\"dataframe\">\n",
       "  <thead>\n",
       "    <tr style=\"text-align: right;\">\n",
       "      <th></th>\n",
       "      <th>user_id</th>\n",
       "      <th>name</th>\n",
       "      <th>age</th>\n",
       "      <th>city</th>\n",
       "      <th>subscription_type</th>\n",
       "      <th>distance</th>\n",
       "      <th>duration</th>\n",
       "      <th>date</th>\n",
       "      <th>date_month</th>\n",
       "      <th>date_day</th>\n",
       "      <th>minute_price</th>\n",
       "      <th>start_ride_price</th>\n",
       "      <th>subscription_fee</th>\n",
       "    </tr>\n",
       "  </thead>\n",
       "  <tbody>\n",
       "    <tr>\n",
       "      <th>6500</th>\n",
       "      <td>700</td>\n",
       "      <td>Айдар</td>\n",
       "      <td>22</td>\n",
       "      <td>Омск</td>\n",
       "      <td>free</td>\n",
       "      <td>2515.690719</td>\n",
       "      <td>14.944286</td>\n",
       "      <td>2021-01-02</td>\n",
       "      <td>1</td>\n",
       "      <td>2</td>\n",
       "      <td>8</td>\n",
       "      <td>50</td>\n",
       "      <td>0</td>\n",
       "    </tr>\n",
       "    <tr>\n",
       "      <th>6501</th>\n",
       "      <td>700</td>\n",
       "      <td>Айдар</td>\n",
       "      <td>22</td>\n",
       "      <td>Омск</td>\n",
       "      <td>free</td>\n",
       "      <td>846.932642</td>\n",
       "      <td>16.234663</td>\n",
       "      <td>2021-02-01</td>\n",
       "      <td>2</td>\n",
       "      <td>1</td>\n",
       "      <td>8</td>\n",
       "      <td>50</td>\n",
       "      <td>0</td>\n",
       "    </tr>\n",
       "    <tr>\n",
       "      <th>6502</th>\n",
       "      <td>700</td>\n",
       "      <td>Айдар</td>\n",
       "      <td>22</td>\n",
       "      <td>Омск</td>\n",
       "      <td>free</td>\n",
       "      <td>4004.434142</td>\n",
       "      <td>20.016628</td>\n",
       "      <td>2021-02-04</td>\n",
       "      <td>2</td>\n",
       "      <td>4</td>\n",
       "      <td>8</td>\n",
       "      <td>50</td>\n",
       "      <td>0</td>\n",
       "    </tr>\n",
       "    <tr>\n",
       "      <th>6503</th>\n",
       "      <td>700</td>\n",
       "      <td>Айдар</td>\n",
       "      <td>22</td>\n",
       "      <td>Омск</td>\n",
       "      <td>free</td>\n",
       "      <td>1205.911290</td>\n",
       "      <td>9.782872</td>\n",
       "      <td>2021-02-10</td>\n",
       "      <td>2</td>\n",
       "      <td>10</td>\n",
       "      <td>8</td>\n",
       "      <td>50</td>\n",
       "      <td>0</td>\n",
       "    </tr>\n",
       "    <tr>\n",
       "      <th>6504</th>\n",
       "      <td>700</td>\n",
       "      <td>Айдар</td>\n",
       "      <td>22</td>\n",
       "      <td>Омск</td>\n",
       "      <td>free</td>\n",
       "      <td>3047.379435</td>\n",
       "      <td>17.427673</td>\n",
       "      <td>2021-02-14</td>\n",
       "      <td>2</td>\n",
       "      <td>14</td>\n",
       "      <td>8</td>\n",
       "      <td>50</td>\n",
       "      <td>0</td>\n",
       "    </tr>\n",
       "  </tbody>\n",
       "</table>\n",
       "</div>"
      ],
      "text/plain": [
       "      user_id   name  age  city subscription_type     distance   duration  \\\n",
       "6500      700  Айдар   22  Омск              free  2515.690719  14.944286   \n",
       "6501      700  Айдар   22  Омск              free   846.932642  16.234663   \n",
       "6502      700  Айдар   22  Омск              free  4004.434142  20.016628   \n",
       "6503      700  Айдар   22  Омск              free  1205.911290   9.782872   \n",
       "6504      700  Айдар   22  Омск              free  3047.379435  17.427673   \n",
       "\n",
       "           date  date_month  date_day  minute_price  start_ride_price  \\\n",
       "6500 2021-01-02           1         2             8                50   \n",
       "6501 2021-02-01           2         1             8                50   \n",
       "6502 2021-02-04           2         4             8                50   \n",
       "6503 2021-02-10           2        10             8                50   \n",
       "6504 2021-02-14           2        14             8                50   \n",
       "\n",
       "      subscription_fee  \n",
       "6500                 0  \n",
       "6501                 0  \n",
       "6502                 0  \n",
       "6503                 0  \n",
       "6504                 0  "
      ]
     },
     "execution_count": 57,
     "metadata": {},
     "output_type": "execute_result"
    }
   ],
   "source": [
    "free_sub = full_data.query(\"`subscription_type` == 'free'\")\n",
    "free_sub.head()"
   ]
  },
  {
   "cell_type": "markdown",
   "id": "68551462",
   "metadata": {},
   "source": [
    "Создание таблицы для пользователей c подпиской"
   ]
  },
  {
   "cell_type": "code",
   "execution_count": 58,
   "id": "18c737a8",
   "metadata": {},
   "outputs": [
    {
     "data": {
      "text/html": [
       "<div>\n",
       "<style scoped>\n",
       "    .dataframe tbody tr th:only-of-type {\n",
       "        vertical-align: middle;\n",
       "    }\n",
       "\n",
       "    .dataframe tbody tr th {\n",
       "        vertical-align: top;\n",
       "    }\n",
       "\n",
       "    .dataframe thead th {\n",
       "        text-align: right;\n",
       "    }\n",
       "</style>\n",
       "<table border=\"1\" class=\"dataframe\">\n",
       "  <thead>\n",
       "    <tr style=\"text-align: right;\">\n",
       "      <th></th>\n",
       "      <th>user_id</th>\n",
       "      <th>name</th>\n",
       "      <th>age</th>\n",
       "      <th>city</th>\n",
       "      <th>subscription_type</th>\n",
       "      <th>distance</th>\n",
       "      <th>duration</th>\n",
       "      <th>date</th>\n",
       "      <th>date_month</th>\n",
       "      <th>date_day</th>\n",
       "      <th>minute_price</th>\n",
       "      <th>start_ride_price</th>\n",
       "      <th>subscription_fee</th>\n",
       "    </tr>\n",
       "  </thead>\n",
       "  <tbody>\n",
       "    <tr>\n",
       "      <th>0</th>\n",
       "      <td>1</td>\n",
       "      <td>Кира</td>\n",
       "      <td>22</td>\n",
       "      <td>Тюмень</td>\n",
       "      <td>ultra</td>\n",
       "      <td>4409.919140</td>\n",
       "      <td>25.599769</td>\n",
       "      <td>2021-01-01</td>\n",
       "      <td>1</td>\n",
       "      <td>1</td>\n",
       "      <td>6</td>\n",
       "      <td>0</td>\n",
       "      <td>199</td>\n",
       "    </tr>\n",
       "    <tr>\n",
       "      <th>1</th>\n",
       "      <td>1</td>\n",
       "      <td>Кира</td>\n",
       "      <td>22</td>\n",
       "      <td>Тюмень</td>\n",
       "      <td>ultra</td>\n",
       "      <td>2617.592153</td>\n",
       "      <td>15.816871</td>\n",
       "      <td>2021-01-18</td>\n",
       "      <td>1</td>\n",
       "      <td>18</td>\n",
       "      <td>6</td>\n",
       "      <td>0</td>\n",
       "      <td>199</td>\n",
       "    </tr>\n",
       "    <tr>\n",
       "      <th>2</th>\n",
       "      <td>1</td>\n",
       "      <td>Кира</td>\n",
       "      <td>22</td>\n",
       "      <td>Тюмень</td>\n",
       "      <td>ultra</td>\n",
       "      <td>754.159807</td>\n",
       "      <td>6.232113</td>\n",
       "      <td>2021-04-20</td>\n",
       "      <td>4</td>\n",
       "      <td>20</td>\n",
       "      <td>6</td>\n",
       "      <td>0</td>\n",
       "      <td>199</td>\n",
       "    </tr>\n",
       "    <tr>\n",
       "      <th>3</th>\n",
       "      <td>1</td>\n",
       "      <td>Кира</td>\n",
       "      <td>22</td>\n",
       "      <td>Тюмень</td>\n",
       "      <td>ultra</td>\n",
       "      <td>2694.783254</td>\n",
       "      <td>18.511000</td>\n",
       "      <td>2021-08-11</td>\n",
       "      <td>8</td>\n",
       "      <td>11</td>\n",
       "      <td>6</td>\n",
       "      <td>0</td>\n",
       "      <td>199</td>\n",
       "    </tr>\n",
       "    <tr>\n",
       "      <th>4</th>\n",
       "      <td>1</td>\n",
       "      <td>Кира</td>\n",
       "      <td>22</td>\n",
       "      <td>Тюмень</td>\n",
       "      <td>ultra</td>\n",
       "      <td>4028.687306</td>\n",
       "      <td>26.265803</td>\n",
       "      <td>2021-08-28</td>\n",
       "      <td>8</td>\n",
       "      <td>28</td>\n",
       "      <td>6</td>\n",
       "      <td>0</td>\n",
       "      <td>199</td>\n",
       "    </tr>\n",
       "  </tbody>\n",
       "</table>\n",
       "</div>"
      ],
      "text/plain": [
       "   user_id  name  age    city subscription_type     distance   duration  \\\n",
       "0        1  Кира   22  Тюмень             ultra  4409.919140  25.599769   \n",
       "1        1  Кира   22  Тюмень             ultra  2617.592153  15.816871   \n",
       "2        1  Кира   22  Тюмень             ultra   754.159807   6.232113   \n",
       "3        1  Кира   22  Тюмень             ultra  2694.783254  18.511000   \n",
       "4        1  Кира   22  Тюмень             ultra  4028.687306  26.265803   \n",
       "\n",
       "        date  date_month  date_day  minute_price  start_ride_price  \\\n",
       "0 2021-01-01           1         1             6                 0   \n",
       "1 2021-01-18           1        18             6                 0   \n",
       "2 2021-04-20           4        20             6                 0   \n",
       "3 2021-08-11           8        11             6                 0   \n",
       "4 2021-08-28           8        28             6                 0   \n",
       "\n",
       "   subscription_fee  \n",
       "0               199  \n",
       "1               199  \n",
       "2               199  \n",
       "3               199  \n",
       "4               199  "
      ]
     },
     "execution_count": 58,
     "metadata": {},
     "output_type": "execute_result"
    }
   ],
   "source": [
    "ultra_sub = full_data.query(\"`subscription_type` == 'ultra'\")\n",
    "ultra_sub.head()"
   ]
  },
  {
   "cell_type": "markdown",
   "id": "68a96b0a",
   "metadata": {},
   "source": [
    "Гисторгамма по всем данным для расстояния поездок"
   ]
  },
  {
   "cell_type": "code",
   "execution_count": 59,
   "id": "abc4553f",
   "metadata": {
    "scrolled": false
   },
   "outputs": [
    {
     "data": {
      "text/plain": [
       "Text(0, 0.5, 'Количество поездок')"
      ]
     },
     "execution_count": 59,
     "metadata": {},
     "output_type": "execute_result"
    },
    {
     "data": {
      "image/png": "[encoded data removed]",
      "text/plain": [
       "<Figure size 432x288 with 1 Axes>"
      ]
     },
     "metadata": {
      "needs_background": "light"
     },
     "output_type": "display_data"
    }
   ],
   "source": [
    "full_data['distance'].hist(bins=100)\n",
    "plt.title('Расстояние для всех пользователей')\n",
    "plt.xlabel('Расстояние')\n",
    "plt.ylabel('Количество поездок')"
   ]
  },
  {
   "cell_type": "markdown",
   "id": "77688bcc",
   "metadata": {},
   "source": [
    "Гистограмма по всем данным для продолжительности поездок"
   ]
  },
  {
   "cell_type": "code",
   "execution_count": 60,
   "id": "df67a59f",
   "metadata": {},
   "outputs": [
    {
     "data": {
      "text/plain": [
       "Text(0, 0.5, 'Количество поездок')"
      ]
     },
     "execution_count": 60,
     "metadata": {},
     "output_type": "execute_result"
    },
    {
     "data": {
      "image/png": "[encoded data removed]",
      "text/plain": [
       "<Figure size 432x288 with 1 Axes>"
      ]
     },
     "metadata": {
      "needs_background": "light"
     },
     "output_type": "display_data"
    }
   ],
   "source": [
    "full_data['duration'].hist(bins=100)\n",
    "plt.title('Продолжительность для всех пользователей')\n",
    "plt.xlabel('Время')\n",
    "plt.ylabel('Количество поездок')"
   ]
  },
  {
   "cell_type": "markdown",
   "id": "4fbb4ebc",
   "metadata": {},
   "source": [
    "Гистограмма расстояния для пользователей без подписки"
   ]
  },
  {
   "cell_type": "code",
   "execution_count": 61,
   "id": "dc1d0e6e",
   "metadata": {},
   "outputs": [
    {
     "data": {
      "text/plain": [
       "Text(0, 0.5, 'Количество поездок')"
      ]
     },
     "execution_count": 61,
     "metadata": {},
     "output_type": "execute_result"
    },
    {
     "data": {
      "image/png": "[encoded data removed]",
      "text/plain": [
       "<Figure size 432x288 with 1 Axes>"
      ]
     },
     "metadata": {
      "needs_background": "light"
     },
     "output_type": "display_data"
    }
   ],
   "source": [
    "full_data.loc[full_data['subscription_type']=='free', 'distance'].hist(bins=100)\n",
    "plt.title('Расстояние для бесплатного тарифа')\n",
    "plt.xlabel('Расстояние')\n",
    "plt.ylabel('Количество поездок')"
   ]
  },
  {
   "cell_type": "markdown",
   "id": "43d8d3eb",
   "metadata": {},
   "source": [
    "Гистограмма продолжительности для пользователей без подписки"
   ]
  },
  {
   "cell_type": "code",
   "execution_count": 62,
   "id": "217d8328",
   "metadata": {},
   "outputs": [
    {
     "data": {
      "text/plain": [
       "Text(0, 0.5, 'Количество поездок')"
      ]
     },
     "execution_count": 62,
     "metadata": {},
     "output_type": "execute_result"
    },
    {
     "data": {
      "image/png": "[encoded data removed]",
      "text/plain": [
       "<Figure size 432x288 with 1 Axes>"
      ]
     },
     "metadata": {
      "needs_background": "light"
     },
     "output_type": "display_data"
    }
   ],
   "source": [
    "full_data.loc[full_data['subscription_type']=='free', 'duration'].hist(bins=100)\n",
    "plt.title('Продолжительность для бесплатного тарифа')\n",
    "plt.xlabel('Время')\n",
    "plt.ylabel('Количество поездок')"
   ]
  },
  {
   "cell_type": "markdown",
   "id": "37b4bec4",
   "metadata": {},
   "source": [
    "Гистограмма продолжительности для пользователей c подпиской"
   ]
  },
  {
   "cell_type": "code",
   "execution_count": 63,
   "id": "0e566d39",
   "metadata": {},
   "outputs": [
    {
     "data": {
      "text/plain": [
       "Text(0, 0.5, 'Количество поездок')"
      ]
     },
     "execution_count": 63,
     "metadata": {},
     "output_type": "execute_result"
    },
    {
     "data": {
      "image/png": "[encoded data removed]",
      "text/plain": [
       "<Figure size 432x288 with 1 Axes>"
      ]
     },
     "metadata": {
      "needs_background": "light"
     },
     "output_type": "display_data"
    }
   ],
   "source": [
    "full_data.loc[full_data['subscription_type']=='ultra', 'duration'].hist(bins=100)\n",
    "plt.title('Продолжительность для платного тарифа')\n",
    "plt.xlabel('Время')\n",
    "plt.ylabel('Количество поездок')"
   ]
  },
  {
   "cell_type": "markdown",
   "id": "a30c4bdc",
   "metadata": {},
   "source": [
    "Гистограмма расстояния для пользователей c подпиской"
   ]
  },
  {
   "cell_type": "code",
   "execution_count": 64,
   "id": "9efe0544",
   "metadata": {},
   "outputs": [
    {
     "data": {
      "text/plain": [
       "Text(0, 0.5, 'Количество поездок')"
      ]
     },
     "execution_count": 64,
     "metadata": {},
     "output_type": "execute_result"
    },
    {
     "data": {
      "image/png": "[encoded data removed]",
      "text/plain": [
       "<Figure size 432x288 with 1 Axes>"
      ]
     },
     "metadata": {
      "needs_background": "light"
     },
     "output_type": "display_data"
    }
   ],
   "source": [
    "full_data.loc[full_data['subscription_type']=='ultra', 'distance'].hist(bins=100)\n",
    "plt.title('Расстояние платного тарифа')\n",
    "plt.xlabel('Расстояние')\n",
    "plt.ylabel('Количество поездок')"
   ]
  },
  {
   "cell_type": "markdown",
   "id": "ba32bc96",
   "metadata": {},
   "source": [
    "Обьединенный график расстояния для платных и бесплатных подписок"
   ]
  },
  {
   "cell_type": "code",
   "execution_count": 65,
   "id": "f9a372be",
   "metadata": {},
   "outputs": [
    {
     "data": {
      "image/png": "[encoded data removed]",
      "text/plain": [
       "<Figure size 432x288 with 1 Axes>"
      ]
     },
     "metadata": {
      "needs_background": "light"
     },
     "output_type": "display_data"
    }
   ],
   "source": [
    "plt.hist(full_data.loc[full_data['subscription_type']=='free', 'distance'], \n",
    "         alpha=0.5,\n",
    "         bins=500,\n",
    "         label='Бесплатный тариф') \n",
    "\n",
    "plt.hist(full_data.loc[full_data['subscription_type']=='ultra', 'distance'],\n",
    "         alpha=0.5,\n",
    "         bins=500,\n",
    "         label='Платный тариф') \n",
    "  \n",
    "  \n",
    "plt.legend(loc='upper right') \n",
    "plt.title('Расстояние для тарифа ultra и free') \n",
    "plt.xlabel('Расстояние')\n",
    "plt.ylabel('Количество поездок')\n",
    "plt.show()"
   ]
  },
  {
   "cell_type": "markdown",
   "id": "7c1b8c9a",
   "metadata": {},
   "source": [
    "Обьединенный график продолжительности поездок для платных и бесплатных подписок"
   ]
  },
  {
   "cell_type": "code",
   "execution_count": 66,
   "id": "fbc1f7d8",
   "metadata": {},
   "outputs": [
    {
     "data": {
      "image/png": "[encoded data removed]",
      "text/plain": [
       "<Figure size 432x288 with 1 Axes>"
      ]
     },
     "metadata": {
      "needs_background": "light"
     },
     "output_type": "display_data"
    }
   ],
   "source": [
    "plt.hist(full_data.loc[full_data['subscription_type']=='free', 'duration'], \n",
    "         alpha=0.5,\n",
    "         label='Бесплатный тариф') \n",
    "\n",
    "plt.hist(full_data.loc[full_data['subscription_type']=='ultra', 'duration'],\n",
    "         alpha=0.5,\n",
    "         label='Платный тариф') \n",
    "  \n",
    "  \n",
    "plt.legend(loc='upper right') \n",
    "plt.title('Продолжительность поездки для тарифа ultra и free') \n",
    "plt.show()"
   ]
  },
  {
   "cell_type": "markdown",
   "id": "bf1c8cc4",
   "metadata": {},
   "source": [
    "Было произведено соединение данных и построения графиков по столбикам distance, duration всего, с подпиской, без подписки. \n",
    "- У бесплатного тарифа среднее время поездки составляет 10-30 минут а дистанция 2-5 км.\n",
    "- У платного тарифа среднее время поездки составляет 15-25 минут а дистанция 2.5-3.5 км.\n",
    "\n",
    "Пользователи без подписки совершают в среднем более долгие и протяженные поездки"
   ]
  },
  {
   "cell_type": "markdown",
   "id": "39e0f68a",
   "metadata": {},
   "source": [
    "#### Шаг 5. Подсчёт выручки"
   ]
  },
  {
   "cell_type": "markdown",
   "id": "660fb34f",
   "metadata": {},
   "source": [
    "Создадим таблицу для дальнейшего подсчета выручки"
   ]
  },
  {
   "cell_type": "code",
   "execution_count": 67,
   "id": "73dbd3a1",
   "metadata": {},
   "outputs": [
    {
     "data": {
      "text/html": [
       "<div>\n",
       "<style scoped>\n",
       "    .dataframe tbody tr th:only-of-type {\n",
       "        vertical-align: middle;\n",
       "    }\n",
       "\n",
       "    .dataframe tbody tr th {\n",
       "        vertical-align: top;\n",
       "    }\n",
       "\n",
       "    .dataframe thead th {\n",
       "        text-align: right;\n",
       "    }\n",
       "</style>\n",
       "<table border=\"1\" class=\"dataframe\">\n",
       "  <thead>\n",
       "    <tr style=\"text-align: right;\">\n",
       "      <th></th>\n",
       "      <th></th>\n",
       "      <th>count</th>\n",
       "      <th>distance</th>\n",
       "      <th>duration</th>\n",
       "      <th>minute_price</th>\n",
       "      <th>start_ride_price</th>\n",
       "      <th>subscription_fee</th>\n",
       "    </tr>\n",
       "    <tr>\n",
       "      <th>user_id</th>\n",
       "      <th>date_month</th>\n",
       "      <th></th>\n",
       "      <th></th>\n",
       "      <th></th>\n",
       "      <th></th>\n",
       "      <th></th>\n",
       "      <th></th>\n",
       "    </tr>\n",
       "  </thead>\n",
       "  <tbody>\n",
       "    <tr>\n",
       "      <th rowspan=\"5\" valign=\"top\">1</th>\n",
       "      <th>1</th>\n",
       "      <td>2</td>\n",
       "      <td>7027.511294</td>\n",
       "      <td>42.0</td>\n",
       "      <td>6.0</td>\n",
       "      <td>0.0</td>\n",
       "      <td>199.0</td>\n",
       "    </tr>\n",
       "    <tr>\n",
       "      <th>4</th>\n",
       "      <td>1</td>\n",
       "      <td>754.159807</td>\n",
       "      <td>7.0</td>\n",
       "      <td>6.0</td>\n",
       "      <td>0.0</td>\n",
       "      <td>199.0</td>\n",
       "    </tr>\n",
       "    <tr>\n",
       "      <th>8</th>\n",
       "      <td>2</td>\n",
       "      <td>6723.470560</td>\n",
       "      <td>46.0</td>\n",
       "      <td>6.0</td>\n",
       "      <td>0.0</td>\n",
       "      <td>199.0</td>\n",
       "    </tr>\n",
       "    <tr>\n",
       "      <th>10</th>\n",
       "      <td>2</td>\n",
       "      <td>5809.911100</td>\n",
       "      <td>32.0</td>\n",
       "      <td>6.0</td>\n",
       "      <td>0.0</td>\n",
       "      <td>199.0</td>\n",
       "    </tr>\n",
       "    <tr>\n",
       "      <th>11</th>\n",
       "      <td>3</td>\n",
       "      <td>7003.499363</td>\n",
       "      <td>56.0</td>\n",
       "      <td>6.0</td>\n",
       "      <td>0.0</td>\n",
       "      <td>199.0</td>\n",
       "    </tr>\n",
       "    <tr>\n",
       "      <th>...</th>\n",
       "      <th>...</th>\n",
       "      <td>...</td>\n",
       "      <td>...</td>\n",
       "      <td>...</td>\n",
       "      <td>...</td>\n",
       "      <td>...</td>\n",
       "      <td>...</td>\n",
       "    </tr>\n",
       "    <tr>\n",
       "      <th rowspan=\"5\" valign=\"top\">1534</th>\n",
       "      <th>6</th>\n",
       "      <td>2</td>\n",
       "      <td>3409.468534</td>\n",
       "      <td>26.0</td>\n",
       "      <td>8.0</td>\n",
       "      <td>50.0</td>\n",
       "      <td>0.0</td>\n",
       "    </tr>\n",
       "    <tr>\n",
       "      <th>8</th>\n",
       "      <td>2</td>\n",
       "      <td>7622.453034</td>\n",
       "      <td>48.0</td>\n",
       "      <td>8.0</td>\n",
       "      <td>50.0</td>\n",
       "      <td>0.0</td>\n",
       "    </tr>\n",
       "    <tr>\n",
       "      <th>9</th>\n",
       "      <td>1</td>\n",
       "      <td>4928.173852</td>\n",
       "      <td>23.0</td>\n",
       "      <td>8.0</td>\n",
       "      <td>50.0</td>\n",
       "      <td>0.0</td>\n",
       "    </tr>\n",
       "    <tr>\n",
       "      <th>11</th>\n",
       "      <td>4</td>\n",
       "      <td>13350.015305</td>\n",
       "      <td>78.0</td>\n",
       "      <td>8.0</td>\n",
       "      <td>50.0</td>\n",
       "      <td>0.0</td>\n",
       "    </tr>\n",
       "    <tr>\n",
       "      <th>12</th>\n",
       "      <td>1</td>\n",
       "      <td>2371.711192</td>\n",
       "      <td>16.0</td>\n",
       "      <td>8.0</td>\n",
       "      <td>50.0</td>\n",
       "      <td>0.0</td>\n",
       "    </tr>\n",
       "  </tbody>\n",
       "</table>\n",
       "<p>11331 rows × 6 columns</p>\n",
       "</div>"
      ],
      "text/plain": [
       "                    count      distance  duration  minute_price  \\\n",
       "user_id date_month                                                \n",
       "1       1               2   7027.511294      42.0           6.0   \n",
       "        4               1    754.159807       7.0           6.0   \n",
       "        8               2   6723.470560      46.0           6.0   \n",
       "        10              2   5809.911100      32.0           6.0   \n",
       "        11              3   7003.499363      56.0           6.0   \n",
       "...                   ...           ...       ...           ...   \n",
       "1534    6               2   3409.468534      26.0           8.0   \n",
       "        8               2   7622.453034      48.0           8.0   \n",
       "        9               1   4928.173852      23.0           8.0   \n",
       "        11              4  13350.015305      78.0           8.0   \n",
       "        12              1   2371.711192      16.0           8.0   \n",
       "\n",
       "                    start_ride_price  subscription_fee  \n",
       "user_id date_month                                      \n",
       "1       1                        0.0             199.0  \n",
       "        4                        0.0             199.0  \n",
       "        8                        0.0             199.0  \n",
       "        10                       0.0             199.0  \n",
       "        11                       0.0             199.0  \n",
       "...                              ...               ...  \n",
       "1534    6                       50.0               0.0  \n",
       "        8                       50.0               0.0  \n",
       "        9                       50.0               0.0  \n",
       "        11                      50.0               0.0  \n",
       "        12                      50.0               0.0  \n",
       "\n",
       "[11331 rows x 6 columns]"
      ]
     },
     "execution_count": 67,
     "metadata": {},
     "output_type": "execute_result"
    }
   ],
   "source": [
    "full_data['duration'] = np.ceil(full_data['duration'])\n",
    "user_drive_in_month = full_data.pivot_table(\n",
    "    index=('user_id', 'date_month'), \n",
    "    values=(\n",
    "        'distance', \n",
    "        'duration', \n",
    "        'minute_price', \n",
    "        'start_ride_price', \n",
    "        'subscription_fee'\n",
    "    ), \n",
    "    aggfunc=('count', 'sum'))\n",
    "\n",
    "user_drive_in_month.columns = [\n",
    "    'count', 'distance', \n",
    "    'count2', 'duration', \n",
    "    'count3', 'minute_price',\n",
    "    'count4', 'start_ride_price', \n",
    "    'count5', 'subscription_fee'\n",
    "]\n",
    "user_drive_in_month = user_drive_in_month.drop(['count2', 'count3', 'count4', 'count5'], axis=1)\n",
    "user_drive_in_month['start_ride_price'] = user_drive_in_month['start_ride_price'] / user_drive_in_month['count']\n",
    "user_drive_in_month['minute_price'] = user_drive_in_month['minute_price'] / user_drive_in_month['count']\n",
    "user_drive_in_month['subscription_fee'] = user_drive_in_month['subscription_fee'] / user_drive_in_month['count']\n",
    "\n",
    "user_drive_in_month"
   ]
  },
  {
   "cell_type": "markdown",
   "id": "07f1e584",
   "metadata": {},
   "source": [
    "Таблица подсчета выручки"
   ]
  },
  {
   "cell_type": "code",
   "execution_count": 68,
   "id": "cb986f5e",
   "metadata": {},
   "outputs": [
    {
     "data": {
      "text/html": [
       "<div>\n",
       "<style scoped>\n",
       "    .dataframe tbody tr th:only-of-type {\n",
       "        vertical-align: middle;\n",
       "    }\n",
       "\n",
       "    .dataframe tbody tr th {\n",
       "        vertical-align: top;\n",
       "    }\n",
       "\n",
       "    .dataframe thead th {\n",
       "        text-align: right;\n",
       "    }\n",
       "</style>\n",
       "<table border=\"1\" class=\"dataframe\">\n",
       "  <thead>\n",
       "    <tr style=\"text-align: right;\">\n",
       "      <th></th>\n",
       "      <th></th>\n",
       "      <th>count</th>\n",
       "      <th>distance</th>\n",
       "      <th>duration</th>\n",
       "      <th>subscription_fee</th>\n",
       "      <th>revenue</th>\n",
       "    </tr>\n",
       "    <tr>\n",
       "      <th>user_id</th>\n",
       "      <th>date_month</th>\n",
       "      <th></th>\n",
       "      <th></th>\n",
       "      <th></th>\n",
       "      <th></th>\n",
       "      <th></th>\n",
       "    </tr>\n",
       "  </thead>\n",
       "  <tbody>\n",
       "    <tr>\n",
       "      <th rowspan=\"5\" valign=\"top\">1</th>\n",
       "      <th>1</th>\n",
       "      <td>2</td>\n",
       "      <td>7027.511294</td>\n",
       "      <td>42.0</td>\n",
       "      <td>199.0</td>\n",
       "      <td>451</td>\n",
       "    </tr>\n",
       "    <tr>\n",
       "      <th>4</th>\n",
       "      <td>1</td>\n",
       "      <td>754.159807</td>\n",
       "      <td>7.0</td>\n",
       "      <td>199.0</td>\n",
       "      <td>241</td>\n",
       "    </tr>\n",
       "    <tr>\n",
       "      <th>8</th>\n",
       "      <td>2</td>\n",
       "      <td>6723.470560</td>\n",
       "      <td>46.0</td>\n",
       "      <td>199.0</td>\n",
       "      <td>475</td>\n",
       "    </tr>\n",
       "    <tr>\n",
       "      <th>10</th>\n",
       "      <td>2</td>\n",
       "      <td>5809.911100</td>\n",
       "      <td>32.0</td>\n",
       "      <td>199.0</td>\n",
       "      <td>391</td>\n",
       "    </tr>\n",
       "    <tr>\n",
       "      <th>11</th>\n",
       "      <td>3</td>\n",
       "      <td>7003.499363</td>\n",
       "      <td>56.0</td>\n",
       "      <td>199.0</td>\n",
       "      <td>535</td>\n",
       "    </tr>\n",
       "    <tr>\n",
       "      <th>...</th>\n",
       "      <th>...</th>\n",
       "      <td>...</td>\n",
       "      <td>...</td>\n",
       "      <td>...</td>\n",
       "      <td>...</td>\n",
       "      <td>...</td>\n",
       "    </tr>\n",
       "    <tr>\n",
       "      <th rowspan=\"5\" valign=\"top\">1534</th>\n",
       "      <th>6</th>\n",
       "      <td>2</td>\n",
       "      <td>3409.468534</td>\n",
       "      <td>26.0</td>\n",
       "      <td>0.0</td>\n",
       "      <td>308</td>\n",
       "    </tr>\n",
       "    <tr>\n",
       "      <th>8</th>\n",
       "      <td>2</td>\n",
       "      <td>7622.453034</td>\n",
       "      <td>48.0</td>\n",
       "      <td>0.0</td>\n",
       "      <td>484</td>\n",
       "    </tr>\n",
       "    <tr>\n",
       "      <th>9</th>\n",
       "      <td>1</td>\n",
       "      <td>4928.173852</td>\n",
       "      <td>23.0</td>\n",
       "      <td>0.0</td>\n",
       "      <td>234</td>\n",
       "    </tr>\n",
       "    <tr>\n",
       "      <th>11</th>\n",
       "      <td>4</td>\n",
       "      <td>13350.015305</td>\n",
       "      <td>78.0</td>\n",
       "      <td>0.0</td>\n",
       "      <td>824</td>\n",
       "    </tr>\n",
       "    <tr>\n",
       "      <th>12</th>\n",
       "      <td>1</td>\n",
       "      <td>2371.711192</td>\n",
       "      <td>16.0</td>\n",
       "      <td>0.0</td>\n",
       "      <td>178</td>\n",
       "    </tr>\n",
       "  </tbody>\n",
       "</table>\n",
       "<p>11331 rows × 5 columns</p>\n",
       "</div>"
      ],
      "text/plain": [
       "                    count      distance  duration  subscription_fee  revenue\n",
       "user_id date_month                                                          \n",
       "1       1               2   7027.511294      42.0             199.0      451\n",
       "        4               1    754.159807       7.0             199.0      241\n",
       "        8               2   6723.470560      46.0             199.0      475\n",
       "        10              2   5809.911100      32.0             199.0      391\n",
       "        11              3   7003.499363      56.0             199.0      535\n",
       "...                   ...           ...       ...               ...      ...\n",
       "1534    6               2   3409.468534      26.0               0.0      308\n",
       "        8               2   7622.453034      48.0               0.0      484\n",
       "        9               1   4928.173852      23.0               0.0      234\n",
       "        11              4  13350.015305      78.0               0.0      824\n",
       "        12              1   2371.711192      16.0               0.0      178\n",
       "\n",
       "[11331 rows x 5 columns]"
      ]
     },
     "execution_count": 68,
     "metadata": {},
     "output_type": "execute_result"
    }
   ],
   "source": [
    "user_drive_in_month['revenue'] = (\n",
    "    (user_drive_in_month['start_ride_price'] * user_drive_in_month['count']) \n",
    "    + (user_drive_in_month['minute_price'] * user_drive_in_month['duration']) \n",
    "    + user_drive_in_month['subscription_fee']\n",
    ")\n",
    "user_drive_in_month['revenue'] = user_drive_in_month['revenue'].astype('uint16')\n",
    "user_drive_in_month = user_drive_in_month.drop(['start_ride_price', 'minute_price'], axis=1)\n",
    "\n",
    "user_drive_in_month"
   ]
  },
  {
   "cell_type": "markdown",
   "id": "e8548ed9",
   "metadata": {},
   "source": [
    "Для каждого пользователя мы вычислили общее расстояние, количество поездок и общее время за каждый месяц. Кроме того, мы добавили столбец с месячным доходом, который получил каждый пользователь."
   ]
  },
  {
   "cell_type": "markdown",
   "id": "3e4a885c",
   "metadata": {},
   "source": [
    "#### Шаг 6. Проверка гипотез"
   ]
  },
  {
   "cell_type": "markdown",
   "id": "7a6dc8e8",
   "metadata": {},
   "source": [
    "Рассчитаем среднюю продолжительность поездок для пользователей с подпиской"
   ]
  },
  {
   "cell_type": "code",
   "execution_count": 69,
   "id": "8d16c212",
   "metadata": {},
   "outputs": [
    {
     "data": {
      "text/plain": [
       "18.54198516280583"
      ]
     },
     "execution_count": 69,
     "metadata": {},
     "output_type": "execute_result"
    }
   ],
   "source": [
    "ultra_sub['duration'].mean()"
   ]
  },
  {
   "cell_type": "markdown",
   "id": "f84f16f3",
   "metadata": {},
   "source": [
    "Рассчитаем среднюю продолжительность поездок для пользователей без подписки"
   ]
  },
  {
   "cell_type": "code",
   "execution_count": 70,
   "id": "e5b68eb3",
   "metadata": {},
   "outputs": [
    {
     "data": {
      "text/plain": [
       "17.39090929866399"
      ]
     },
     "execution_count": 70,
     "metadata": {},
     "output_type": "execute_result"
    }
   ],
   "source": [
    "free_sub['duration'].mean()"
   ]
  },
  {
   "cell_type": "markdown",
   "id": "733000ed",
   "metadata": {},
   "source": [
    "Проверка гипотезы о том что пользователи с подпиской тратят больше времени на поездки чем пользователи без подписки.\n",
    "\n",
    "\n",
    "<b>Гипотеза Н0:</b>  Средняя продолжительность поездок с подпиской ‘ultra’ и ‘free’ равна.\n",
    "\n",
    "<b>Гипотеза Н1:</b> Средняя продолжительность поездок с подпиской ‘ultra’ больше, чем с подпиской ‘free’."
   ]
  },
  {
   "cell_type": "code",
   "execution_count": 71,
   "id": "7f6420bd",
   "metadata": {},
   "outputs": [
    {
     "name": "stdout",
     "output_type": "stream",
     "text": [
      "Отвергаем нулевую гипотезу. Значение= 5.6757813771289775e-37\n"
     ]
    }
   ],
   "source": [
    "results1=st.ttest_ind(ultra_sub['duration'], free_sub['duration'], equal_var=False, alternative='greater')\n",
    "if results1.pvalue < .05:\n",
    "    print('Отвергаем нулевую гипотезу.','Значение=', results1.pvalue)\n",
    "else:\n",
    "    print('Не получилось отвергнуть нулевую гипотезу.', 'Значение=',results1.pvalue)"
   ]
  },
  {
   "cell_type": "markdown",
   "id": "0462981e",
   "metadata": {},
   "source": [
    "После проведения статистического теста с использованием двухвыборочного t-теста для независимых выборок с альтернативной гипотезой о том, что средняя продолжительность поездок с подпиской 'ultra' больше, чем с подпиской 'free', было получено статистически значимое значение p-value равное 5.68e-37, что значительно меньше уровня значимости 0.05. Следовательно, мы отвергаем нулевую гипотезу о равенстве средних продолжительностей поездок и принимаем альтернативную гипотезу о том, что пользователи с подпиской 'ultra' действительно тратят больше времени на поездки по сравнению с пользователями без подписки 'free'."
   ]
  },
  {
   "cell_type": "markdown",
   "id": "ce460690",
   "metadata": {},
   "source": [
    "Рассчитаем среднее расстояние поездок для пользователей с подпиской"
   ]
  },
  {
   "cell_type": "code",
   "execution_count": 72,
   "id": "e5e2a2df",
   "metadata": {},
   "outputs": [
    {
     "data": {
      "text/plain": [
       "3115.4453880370247"
      ]
     },
     "execution_count": 72,
     "metadata": {},
     "output_type": "execute_result"
    }
   ],
   "source": [
    "ultra_sub['distance'].mean()"
   ]
  },
  {
   "cell_type": "markdown",
   "id": "cfc2af34",
   "metadata": {},
   "source": [
    "Рассчитаем среднее расстояние поездок для пользователей без подписки"
   ]
  },
  {
   "cell_type": "code",
   "execution_count": 73,
   "id": "e392fd20",
   "metadata": {},
   "outputs": [
    {
     "data": {
      "text/plain": [
       "3045.495281671816"
      ]
     },
     "execution_count": 73,
     "metadata": {},
     "output_type": "execute_result"
    }
   ],
   "source": [
    "free_sub['distance'].mean()"
   ]
  },
  {
   "cell_type": "markdown",
   "id": "baf0c521",
   "metadata": {},
   "source": [
    "Проверка гипотезы о том что пользователи с подпиской не преодолевают расстояние более 3130 метров за одну поездку.\n",
    "\n",
    "<b>Гипотеза Н0:</b>  Среднее расстояние поездок с использованием подписки ‘ultra’ равно оптимальному расстоянию в 3130 метров.\n",
    "\n",
    "<b>Гипотеза Н1:</b> Среднее расстояние поездок с использованием подписки ‘ultra’ более 3130 метров."
   ]
  },
  {
   "cell_type": "code",
   "execution_count": 74,
   "id": "ada929b7",
   "metadata": {},
   "outputs": [
    {
     "name": "stdout",
     "output_type": "stream",
     "text": [
      "Не получилось отвергнуть нулевую гипотезу. Значение= 0.9195368847849785\n"
     ]
    }
   ],
   "source": [
    "results2 = st.ttest_1samp(ultra_sub['distance'], 3130, alternative='greater')\n",
    "if results2.pvalue < .05:\n",
    "    print('Отвергаем нулевую гипотезу.','Значение=', results2.pvalue)\n",
    "else:\n",
    "    print('Не получилось отвергнуть нулевую гипотезу.','Значение=', results2.pvalue)"
   ]
  },
  {
   "cell_type": "markdown",
   "id": "041227e8",
   "metadata": {},
   "source": [
    "Гипотеза Н0 о том, что среднее расстояние поездок с использованием подписки Ultra равно оптимальному расстоянию в 3130 метров, не была отвергнута при уровне значимости 0.05 (p-value = 0.92). Это означает, что нет статистически значимых доказательств в пользу того, что пользователи с подпиской Ultra преодолевают расстояние более 3130 метров за одну поездку. Вероятно, среднее расстояние поездок с использованием подписки Ultra остается близким к оптимальному значению./"
   ]
  },
  {
   "cell_type": "markdown",
   "id": "91f258f3",
   "metadata": {},
   "source": [
    "Гипотеза: Средняя ежемесячная выручка от пользователей с подпиской на тариф Ultra меньше, чем от пользователей без подписки.\n",
    "\n",
    "<b>Гипотеза Н0:</b>  Средняя выручка от пользователей с подпиской на тариф Ultra равна средней выручке от пользователей без подписки.\n",
    "\n",
    "<b>Гипотеза Н1:</b> Средняя выручка от пользователей с подпиской на тариф Ultra больше, чем от пользователей без подписки."
   ]
  },
  {
   "cell_type": "code",
   "execution_count": 75,
   "id": "1dfb185b",
   "metadata": {},
   "outputs": [
    {
     "name": "stdout",
     "output_type": "stream",
     "text": [
      "Отвергаем нулевую гипотезу Значение= 1.8850394384715216e-31\n"
     ]
    }
   ],
   "source": [
    "ultra_revenue = user_drive_in_month.loc[user_drive_in_month.subscription_fee == 199.0, 'revenue'] \n",
    "\n",
    "free_revenue = user_drive_in_month.loc[user_drive_in_month.subscription_fee == 0, 'revenue'] \n",
    "\n",
    "results3 = st.ttest_ind(ultra_revenue, \n",
    "                       free_revenue,\n",
    "                       alternative = 'greater')\n",
    "\n",
    "if results3.pvalue < .05:\n",
    "    print('Отвергаем нулевую гипотезу','Значение=', results3.pvalue)\n",
    "else:\n",
    "    print('Не удалось отвергнуть нулевую гипотезу','Значение=', results3.pvalue)"
   ]
  },
  {
   "cell_type": "markdown",
   "id": "bf2279a5",
   "metadata": {},
   "source": [
    "Гипотеза Н0 о равенстве средней выручки от пользователей с подпиской на тариф Ultra и без подписки была отвергнута при уровне значимости 0.05 (p-value = 1.89e-31). Это означает, что есть статистически значимые доказательства в пользу того, что средняя выручка от пользователей с подпиской Ultra отличается от средней выручки от пользователей без подписки.\n",
    "\n",
    "Таким образом, наша альтернативная гипотеза Н1 подтвердилась: средняя выручка от пользователей с подпиской на тариф Ultra больше, чем от пользователей без подписки."
   ]
  },
  {
   "cell_type": "markdown",
   "id": "4f343d4e",
   "metadata": {},
   "source": [
    "Не удалось опровергнуть нулевую гипотезу о том, что средняя выручка от поездок с использованием подписки \"ultra\" равна или превышает среднюю выручку от поездок с использованием подписки \"free\"."
   ]
  },
  {
   "cell_type": "markdown",
   "id": "3391bb45",
   "metadata": {},
   "source": [
    "Представьте такую ситуацию: техническая команда сервиса обновила сервера, с которыми взаимодействует мобильное приложение. Она надеется, что из-за этого количество обращений в техподдержку значимо снизилось. Некоторый файл содержит для каждого пользователя данные о количестве обращений до обновления и после него. Какой тест вам понадобился бы для проверки этой гипотезы?"
   ]
  },
  {
   "cell_type": "markdown",
   "id": "c9b54278",
   "metadata": {},
   "source": [
    "Предполагаю что нужно использовать гипотезу о равенстве средних для зависимых (парных) выборок.\n",
    "\"st.ttest_rel(before, after, alternative=’less’)\""
   ]
  },
  {
   "cell_type": "markdown",
   "id": "eee51d75",
   "metadata": {},
   "source": [
    "Все предложенные гипотезы не получилось опровергнуть"
   ]
  },
  {
   "cell_type": "markdown",
   "id": "aa03ee2c",
   "metadata": {},
   "source": [
    "---------------------"
   ]
  },
  {
   "cell_type": "markdown",
   "id": "6569c2d9",
   "metadata": {},
   "source": [
    "<b>Вывод:</b>\n",
    "\n",
    "Три датафрейма были загружены: с информацией о пользователях, поездках и подписках. После проверки на наличие пропусков и изменения типа данных столбца с датой, был добавлен столбец с номером месяца. Дубликаты строк были удалены из датафрейма с пользователями.\n",
    "\n",
    "Исследовательский анализ данных показал, что количество пользователей по городам примерно одинаково, с небольшим перевесом в пользу Пятигорска. Большинство пользователей используют бесплатную подписку, а возрастная группа пользователей обычно составляет от 20 до 30 лет. Средняя длительность поездки составляет 13-22 минуты, а расстояние - от 2.5 до 4 км.\n",
    "\n",
    "Данные о пользователях, поездках и подписках были объединены в один датафрейм, а затем разделены на два: для пользователей с платной и бесплатной подпиской. Информация о расстоянии и времени поездки была визуализирована для каждого тарифа.\n",
    "\n",
    "Создан датафрейм total_data, содержащий суммарное расстояние, количество поездок и время для каждого пользователя за каждый месяц, а также добавлен столбец с помесячной выручкой.\n",
    "\n",
    "Проверены гипотезы о времени поездки и расстоянии для пользователей с подпиской и без нее, а также о выручке от пользователей с подпиской и без нее. Нулевые гипотезы были отвергнуты в первом случае и не отвергнуты во втором.\n"
   ]
  }
 ],
 "metadata": {
  "ExecuteTimeLog": [
   {
    "duration": 1469,
    "start_time": "2024-03-25T17:24:57.433Z"
   },
   {
    "duration": 100,
    "start_time": "2024-03-25T17:25:10.335Z"
   },
   {
    "duration": 95,
    "start_time": "2024-03-25T17:25:23.798Z"
   },
   {
    "duration": 12,
    "start_time": "2024-03-25T17:25:28.023Z"
   },
   {
    "duration": 9,
    "start_time": "2024-03-25T17:25:41.487Z"
   },
   {
    "duration": 12,
    "start_time": "2024-03-25T17:25:53.814Z"
   },
   {
    "duration": 5,
    "start_time": "2024-03-25T17:26:20.294Z"
   },
   {
    "duration": 155,
    "start_time": "2024-03-25T17:27:52.111Z"
   },
   {
    "duration": 126,
    "start_time": "2024-03-25T17:28:04.589Z"
   },
   {
    "duration": 166,
    "start_time": "2024-03-25T17:28:08.502Z"
   },
   {
    "duration": 133,
    "start_time": "2024-03-25T17:28:23.950Z"
   },
   {
    "duration": 141,
    "start_time": "2024-03-25T17:28:46.174Z"
   },
   {
    "duration": 11,
    "start_time": "2024-03-25T17:37:11.100Z"
   },
   {
    "duration": 5,
    "start_time": "2024-03-25T17:37:15.932Z"
   },
   {
    "duration": 28,
    "start_time": "2024-03-25T17:38:38.003Z"
   },
   {
    "duration": 59,
    "start_time": "2024-03-25T17:39:27.412Z"
   },
   {
    "duration": 187,
    "start_time": "2024-03-25T17:39:34.819Z"
   },
   {
    "duration": 52,
    "start_time": "2024-03-25T17:39:37.051Z"
   },
   {
    "duration": 117,
    "start_time": "2024-03-25T17:40:05.140Z"
   },
   {
    "duration": 12,
    "start_time": "2024-03-25T17:43:47.066Z"
   },
   {
    "duration": 8,
    "start_time": "2024-03-25T17:44:09.948Z"
   },
   {
    "duration": 11,
    "start_time": "2024-03-25T17:56:05.247Z"
   },
   {
    "duration": 8,
    "start_time": "2024-03-25T17:56:22.655Z"
   },
   {
    "duration": 126,
    "start_time": "2024-03-25T18:05:26.005Z"
   },
   {
    "duration": 28,
    "start_time": "2024-03-25T18:05:39.253Z"
   },
   {
    "duration": 38,
    "start_time": "2024-03-25T18:06:00.949Z"
   },
   {
    "duration": 17,
    "start_time": "2024-03-25T18:12:20.763Z"
   },
   {
    "duration": 9,
    "start_time": "2024-03-25T18:12:31.091Z"
   },
   {
    "duration": 25,
    "start_time": "2024-03-25T18:13:39.595Z"
   },
   {
    "duration": 10,
    "start_time": "2024-03-25T18:14:13.179Z"
   },
   {
    "duration": 10,
    "start_time": "2024-03-25T18:14:28.676Z"
   },
   {
    "duration": 152,
    "start_time": "2024-03-25T18:15:02.170Z"
   },
   {
    "duration": 7,
    "start_time": "2024-03-25T18:53:02.673Z"
   },
   {
    "duration": 7,
    "start_time": "2024-03-25T18:57:19.944Z"
   },
   {
    "duration": 5,
    "start_time": "2024-03-25T18:57:33.814Z"
   },
   {
    "duration": 5,
    "start_time": "2024-03-25T18:57:51.254Z"
   },
   {
    "duration": 13,
    "start_time": "2024-03-25T18:58:14.902Z"
   },
   {
    "duration": 8,
    "start_time": "2024-03-25T18:58:20.558Z"
   },
   {
    "duration": 11,
    "start_time": "2024-03-25T18:58:28.438Z"
   },
   {
    "duration": 9,
    "start_time": "2024-03-25T18:58:37.862Z"
   },
   {
    "duration": 7,
    "start_time": "2024-03-25T18:58:40.774Z"
   },
   {
    "duration": 7,
    "start_time": "2024-03-25T18:58:55.830Z"
   },
   {
    "duration": 7,
    "start_time": "2024-03-25T18:59:50.822Z"
   },
   {
    "duration": 5,
    "start_time": "2024-03-25T19:03:36.204Z"
   },
   {
    "duration": 8,
    "start_time": "2024-03-25T19:03:59.940Z"
   },
   {
    "duration": 7,
    "start_time": "2024-03-25T19:05:15.380Z"
   },
   {
    "duration": 9,
    "start_time": "2024-03-25T19:05:42.580Z"
   },
   {
    "duration": 9,
    "start_time": "2024-03-25T19:13:23.937Z"
   },
   {
    "duration": 7,
    "start_time": "2024-03-25T19:16:08.712Z"
   },
   {
    "duration": 132,
    "start_time": "2024-03-25T19:16:50.689Z"
   },
   {
    "duration": 224,
    "start_time": "2024-03-25T19:17:07.224Z"
   },
   {
    "duration": 141,
    "start_time": "2024-03-25T19:17:16.537Z"
   },
   {
    "duration": 227,
    "start_time": "2024-03-25T19:17:20.688Z"
   },
   {
    "duration": 179,
    "start_time": "2024-03-25T19:17:33.456Z"
   },
   {
    "duration": 172,
    "start_time": "2024-03-25T19:19:45.896Z"
   },
   {
    "duration": 285,
    "start_time": "2024-03-25T19:21:45.359Z"
   },
   {
    "duration": 235,
    "start_time": "2024-03-25T19:22:00.135Z"
   },
   {
    "duration": 227,
    "start_time": "2024-03-25T19:22:18.470Z"
   },
   {
    "duration": 188,
    "start_time": "2024-03-25T19:22:25.951Z"
   },
   {
    "duration": 297,
    "start_time": "2024-03-25T19:22:35.991Z"
   },
   {
    "duration": 199,
    "start_time": "2024-03-25T19:22:42.558Z"
   },
   {
    "duration": 193,
    "start_time": "2024-03-25T19:22:45.599Z"
   },
   {
    "duration": 191,
    "start_time": "2024-03-25T19:22:52.767Z"
   },
   {
    "duration": 181,
    "start_time": "2024-03-25T19:22:59.383Z"
   },
   {
    "duration": 63,
    "start_time": "2024-03-27T17:52:11.590Z"
   },
   {
    "duration": 1536,
    "start_time": "2024-03-27T17:52:17.158Z"
   },
   {
    "duration": 74,
    "start_time": "2024-03-27T17:52:18.696Z"
   },
   {
    "duration": 14,
    "start_time": "2024-03-27T17:52:18.771Z"
   },
   {
    "duration": 14,
    "start_time": "2024-03-27T17:52:18.786Z"
   },
   {
    "duration": 173,
    "start_time": "2024-03-27T17:52:18.802Z"
   },
   {
    "duration": 6,
    "start_time": "2024-03-27T17:52:18.981Z"
   },
   {
    "duration": 9,
    "start_time": "2024-03-27T17:52:18.988Z"
   },
   {
    "duration": 5,
    "start_time": "2024-03-27T17:52:18.999Z"
   },
   {
    "duration": 226,
    "start_time": "2024-03-27T17:52:19.005Z"
   },
   {
    "duration": 77,
    "start_time": "2024-03-27T17:52:19.233Z"
   },
   {
    "duration": 13,
    "start_time": "2024-03-27T17:52:19.311Z"
   },
   {
    "duration": 10,
    "start_time": "2024-03-27T17:52:19.325Z"
   },
   {
    "duration": 12,
    "start_time": "2024-03-27T17:52:19.336Z"
   },
   {
    "duration": 8,
    "start_time": "2024-03-27T17:52:19.351Z"
   },
   {
    "duration": 9,
    "start_time": "2024-03-27T17:52:19.361Z"
   },
   {
    "duration": 10,
    "start_time": "2024-03-27T17:52:19.383Z"
   },
   {
    "duration": 6,
    "start_time": "2024-03-27T17:52:19.395Z"
   },
   {
    "duration": 10,
    "start_time": "2024-03-27T17:52:19.403Z"
   },
   {
    "duration": 7,
    "start_time": "2024-03-27T17:52:19.414Z"
   },
   {
    "duration": 9,
    "start_time": "2024-03-27T17:52:19.422Z"
   },
   {
    "duration": 59,
    "start_time": "2024-03-27T17:52:19.432Z"
   },
   {
    "duration": 11,
    "start_time": "2024-03-27T17:52:19.492Z"
   },
   {
    "duration": 15,
    "start_time": "2024-03-27T17:52:19.504Z"
   },
   {
    "duration": 10,
    "start_time": "2024-03-27T17:52:19.521Z"
   },
   {
    "duration": 5,
    "start_time": "2024-03-27T17:52:27.835Z"
   },
   {
    "duration": 6,
    "start_time": "2024-03-27T17:52:33.147Z"
   },
   {
    "duration": 7,
    "start_time": "2024-03-27T17:52:38.426Z"
   },
   {
    "duration": 8,
    "start_time": "2024-03-27T17:52:43.659Z"
   },
   {
    "duration": 10,
    "start_time": "2024-03-27T17:53:38.746Z"
   },
   {
    "duration": 11,
    "start_time": "2024-03-27T17:53:53.322Z"
   },
   {
    "duration": 18,
    "start_time": "2024-03-27T17:54:05.570Z"
   },
   {
    "duration": 74,
    "start_time": "2024-03-27T17:55:53.760Z"
   },
   {
    "duration": 9,
    "start_time": "2024-03-27T17:55:57.264Z"
   },
   {
    "duration": 9,
    "start_time": "2024-03-27T17:56:10.752Z"
   },
   {
    "duration": 9,
    "start_time": "2024-03-27T17:57:45.831Z"
   },
   {
    "duration": 17,
    "start_time": "2024-03-27T17:57:56.080Z"
   },
   {
    "duration": 9,
    "start_time": "2024-03-27T17:58:20.399Z"
   },
   {
    "duration": 8,
    "start_time": "2024-03-27T17:58:24.551Z"
   },
   {
    "duration": 9,
    "start_time": "2024-03-27T17:58:34.023Z"
   },
   {
    "duration": 8,
    "start_time": "2024-03-27T17:58:43.007Z"
   },
   {
    "duration": 8,
    "start_time": "2024-03-27T18:00:04.230Z"
   },
   {
    "duration": 10,
    "start_time": "2024-03-27T18:00:26.934Z"
   },
   {
    "duration": 17,
    "start_time": "2024-03-27T18:00:46.286Z"
   },
   {
    "duration": 9,
    "start_time": "2024-03-27T18:00:51.318Z"
   },
   {
    "duration": 13,
    "start_time": "2024-03-27T18:00:55.495Z"
   },
   {
    "duration": 47,
    "start_time": "2024-03-27T18:01:22.009Z"
   },
   {
    "duration": 4,
    "start_time": "2024-03-27T18:01:28.886Z"
   },
   {
    "duration": 3,
    "start_time": "2024-03-27T18:01:47.766Z"
   },
   {
    "duration": 111,
    "start_time": "2024-03-27T18:01:50.661Z"
   },
   {
    "duration": 52,
    "start_time": "2024-03-27T18:01:58.693Z"
   },
   {
    "duration": 11,
    "start_time": "2024-03-27T18:02:06.173Z"
   },
   {
    "duration": 4,
    "start_time": "2024-03-27T18:03:46.717Z"
   },
   {
    "duration": 10,
    "start_time": "2024-03-27T18:04:07.324Z"
   },
   {
    "duration": 5,
    "start_time": "2024-03-27T18:07:55.275Z"
   },
   {
    "duration": 7,
    "start_time": "2024-03-27T18:09:34.377Z"
   },
   {
    "duration": 8,
    "start_time": "2024-03-27T18:09:43.122Z"
   },
   {
    "duration": 15,
    "start_time": "2024-03-27T18:11:07.905Z"
   },
   {
    "duration": 8,
    "start_time": "2024-03-27T18:11:34.936Z"
   },
   {
    "duration": 6,
    "start_time": "2024-03-27T18:12:15.384Z"
   },
   {
    "duration": 9,
    "start_time": "2024-03-27T18:12:59.920Z"
   },
   {
    "duration": 8,
    "start_time": "2024-03-27T18:13:06.112Z"
   },
   {
    "duration": 4,
    "start_time": "2024-03-27T18:13:09.904Z"
   },
   {
    "duration": 9,
    "start_time": "2024-03-27T18:13:34.665Z"
   },
   {
    "duration": 9,
    "start_time": "2024-03-27T18:13:37.463Z"
   },
   {
    "duration": 5,
    "start_time": "2024-03-27T18:14:31.655Z"
   },
   {
    "duration": 9,
    "start_time": "2024-03-27T18:14:45.296Z"
   },
   {
    "duration": 6,
    "start_time": "2024-03-27T18:15:09.455Z"
   },
   {
    "duration": 5,
    "start_time": "2024-03-27T18:16:17.494Z"
   },
   {
    "duration": 4,
    "start_time": "2024-03-27T18:16:31.542Z"
   },
   {
    "duration": 9,
    "start_time": "2024-03-27T18:17:00.647Z"
   },
   {
    "duration": 6,
    "start_time": "2024-03-27T18:17:20.654Z"
   },
   {
    "duration": 5,
    "start_time": "2024-03-27T18:18:40.926Z"
   },
   {
    "duration": 5,
    "start_time": "2024-03-27T18:18:53.773Z"
   },
   {
    "duration": 10,
    "start_time": "2024-03-27T18:19:04.085Z"
   },
   {
    "duration": 7,
    "start_time": "2024-03-27T18:19:25.493Z"
   },
   {
    "duration": 9,
    "start_time": "2024-03-27T18:27:29.723Z"
   },
   {
    "duration": 9,
    "start_time": "2024-03-27T18:27:32.457Z"
   },
   {
    "duration": 5,
    "start_time": "2024-03-27T18:28:28.649Z"
   },
   {
    "duration": 4,
    "start_time": "2024-03-27T18:34:23.896Z"
   },
   {
    "duration": 7,
    "start_time": "2024-03-27T18:34:31.703Z"
   },
   {
    "duration": 9,
    "start_time": "2024-03-27T18:35:14.967Z"
   },
   {
    "duration": 5,
    "start_time": "2024-03-27T18:39:27.077Z"
   },
   {
    "duration": 9,
    "start_time": "2024-03-27T18:39:33.142Z"
   },
   {
    "duration": 7,
    "start_time": "2024-03-27T18:39:39.037Z"
   },
   {
    "duration": 6,
    "start_time": "2024-03-27T18:39:40.167Z"
   },
   {
    "duration": 3,
    "start_time": "2024-03-27T18:40:02.790Z"
   },
   {
    "duration": 6,
    "start_time": "2024-03-27T18:40:09.165Z"
   },
   {
    "duration": 5,
    "start_time": "2024-03-27T18:40:58.189Z"
   },
   {
    "duration": 6,
    "start_time": "2024-03-27T18:41:05.925Z"
   },
   {
    "duration": 136,
    "start_time": "2024-03-27T18:41:52.060Z"
   },
   {
    "duration": 235,
    "start_time": "2024-03-27T18:43:20.948Z"
   },
   {
    "duration": 238,
    "start_time": "2024-03-27T18:43:24.676Z"
   },
   {
    "duration": 173,
    "start_time": "2024-03-27T18:43:29.316Z"
   },
   {
    "duration": 149,
    "start_time": "2024-03-27T18:43:40.460Z"
   },
   {
    "duration": 130,
    "start_time": "2024-03-27T18:43:45.465Z"
   },
   {
    "duration": 135,
    "start_time": "2024-03-27T18:43:49.076Z"
   },
   {
    "duration": 184,
    "start_time": "2024-03-27T18:51:11.253Z"
   },
   {
    "duration": 7,
    "start_time": "2024-03-27T18:57:02.851Z"
   },
   {
    "duration": 6,
    "start_time": "2024-03-27T18:57:12.276Z"
   },
   {
    "duration": 4,
    "start_time": "2024-03-27T19:02:32.863Z"
   },
   {
    "duration": 4,
    "start_time": "2024-03-27T19:02:39.879Z"
   },
   {
    "duration": 5,
    "start_time": "2024-03-27T19:02:58.376Z"
   },
   {
    "duration": 5,
    "start_time": "2024-03-27T19:03:24.368Z"
   },
   {
    "duration": 6,
    "start_time": "2024-03-27T19:15:02.128Z"
   },
   {
    "duration": 8,
    "start_time": "2024-03-27T19:15:11.697Z"
   },
   {
    "duration": 8,
    "start_time": "2024-03-27T19:15:23.458Z"
   },
   {
    "duration": 9,
    "start_time": "2024-03-27T19:17:26.954Z"
   },
   {
    "duration": 9,
    "start_time": "2024-03-27T19:17:51.296Z"
   },
   {
    "duration": 1017,
    "start_time": "2024-03-27T19:18:23.074Z"
   },
   {
    "duration": 8,
    "start_time": "2024-03-27T19:18:39.050Z"
   },
   {
    "duration": 8,
    "start_time": "2024-03-27T19:19:48.313Z"
   },
   {
    "duration": 8,
    "start_time": "2024-03-27T19:19:50.370Z"
   },
   {
    "duration": 15,
    "start_time": "2024-03-27T19:21:14.708Z"
   },
   {
    "duration": 7,
    "start_time": "2024-03-27T19:22:35.496Z"
   },
   {
    "duration": 14,
    "start_time": "2024-03-27T19:22:48.693Z"
   },
   {
    "duration": 12,
    "start_time": "2024-03-27T19:36:02.248Z"
   },
   {
    "duration": 12,
    "start_time": "2024-03-27T19:36:07.447Z"
   },
   {
    "duration": 7,
    "start_time": "2024-03-27T19:36:15.511Z"
   },
   {
    "duration": 10,
    "start_time": "2024-03-27T19:37:43.743Z"
   },
   {
    "duration": 18,
    "start_time": "2024-03-27T19:37:53.398Z"
   },
   {
    "duration": 44,
    "start_time": "2024-03-27T19:38:01.566Z"
   },
   {
    "duration": 9,
    "start_time": "2024-03-27T19:49:07.803Z"
   },
   {
    "duration": 9,
    "start_time": "2024-03-27T19:50:59.066Z"
   },
   {
    "duration": 9,
    "start_time": "2024-03-27T19:51:16.546Z"
   },
   {
    "duration": 144,
    "start_time": "2024-03-27T19:53:25.074Z"
   },
   {
    "duration": 179,
    "start_time": "2024-03-27T19:53:35.905Z"
   },
   {
    "duration": 181,
    "start_time": "2024-03-27T19:54:21.081Z"
   },
   {
    "duration": 352,
    "start_time": "2024-03-27T19:54:27.601Z"
   },
   {
    "duration": 247,
    "start_time": "2024-03-27T19:54:57.561Z"
   },
   {
    "duration": 1446,
    "start_time": "2024-03-28T18:59:43.638Z"
   },
   {
    "duration": 70,
    "start_time": "2024-03-28T18:59:45.086Z"
   },
   {
    "duration": 12,
    "start_time": "2024-03-28T18:59:45.158Z"
   },
   {
    "duration": 123,
    "start_time": "2024-03-28T18:59:45.172Z"
   },
   {
    "duration": 146,
    "start_time": "2024-03-28T18:59:45.297Z"
   },
   {
    "duration": 74,
    "start_time": "2024-03-28T18:59:45.445Z"
   },
   {
    "duration": 14,
    "start_time": "2024-03-28T18:59:45.521Z"
   },
   {
    "duration": 26,
    "start_time": "2024-03-28T18:59:45.537Z"
   },
   {
    "duration": 47,
    "start_time": "2024-03-28T18:59:45.565Z"
   },
   {
    "duration": 22,
    "start_time": "2024-03-28T18:59:45.613Z"
   },
   {
    "duration": 24,
    "start_time": "2024-03-28T18:59:45.637Z"
   },
   {
    "duration": 15,
    "start_time": "2024-03-28T18:59:45.663Z"
   },
   {
    "duration": 17,
    "start_time": "2024-03-28T18:59:45.679Z"
   },
   {
    "duration": 19,
    "start_time": "2024-03-28T18:59:45.699Z"
   },
   {
    "duration": 31,
    "start_time": "2024-03-28T18:59:45.719Z"
   },
   {
    "duration": 24,
    "start_time": "2024-03-28T18:59:45.752Z"
   },
   {
    "duration": 58,
    "start_time": "2024-03-28T18:59:45.778Z"
   },
   {
    "duration": 9,
    "start_time": "2024-03-28T18:59:45.838Z"
   },
   {
    "duration": 12,
    "start_time": "2024-03-28T18:59:45.849Z"
   },
   {
    "duration": 18,
    "start_time": "2024-03-28T18:59:45.863Z"
   },
   {
    "duration": 15,
    "start_time": "2024-03-28T18:59:45.882Z"
   },
   {
    "duration": 9,
    "start_time": "2024-03-28T18:59:45.898Z"
   },
   {
    "duration": 8,
    "start_time": "2024-03-28T18:59:45.908Z"
   },
   {
    "duration": 12,
    "start_time": "2024-03-28T18:59:45.917Z"
   },
   {
    "duration": 7,
    "start_time": "2024-03-28T18:59:45.930Z"
   },
   {
    "duration": 12,
    "start_time": "2024-03-28T18:59:45.939Z"
   },
   {
    "duration": 5,
    "start_time": "2024-03-28T18:59:45.952Z"
   },
   {
    "duration": 11,
    "start_time": "2024-03-28T18:59:45.959Z"
   },
   {
    "duration": 5,
    "start_time": "2024-03-28T18:59:45.971Z"
   },
   {
    "duration": 10,
    "start_time": "2024-03-28T18:59:45.978Z"
   },
   {
    "duration": 33,
    "start_time": "2024-03-28T18:59:45.990Z"
   },
   {
    "duration": 5,
    "start_time": "2024-03-28T18:59:46.025Z"
   },
   {
    "duration": 10,
    "start_time": "2024-03-28T18:59:46.031Z"
   },
   {
    "duration": 10,
    "start_time": "2024-03-28T18:59:46.042Z"
   },
   {
    "duration": 10,
    "start_time": "2024-03-28T18:59:46.054Z"
   },
   {
    "duration": 8,
    "start_time": "2024-03-28T18:59:46.065Z"
   },
   {
    "duration": 11,
    "start_time": "2024-03-28T18:59:46.074Z"
   },
   {
    "duration": 19,
    "start_time": "2024-03-28T18:59:46.087Z"
   },
   {
    "duration": 21,
    "start_time": "2024-03-28T18:59:46.108Z"
   },
   {
    "duration": 4,
    "start_time": "2024-03-28T18:59:46.130Z"
   },
   {
    "duration": 204,
    "start_time": "2024-03-28T18:59:46.137Z"
   },
   {
    "duration": 6,
    "start_time": "2024-03-28T18:59:46.343Z"
   },
   {
    "duration": 8,
    "start_time": "2024-03-28T18:59:46.351Z"
   },
   {
    "duration": 29,
    "start_time": "2024-03-28T18:59:46.361Z"
   },
   {
    "duration": 10,
    "start_time": "2024-03-28T18:59:46.392Z"
   },
   {
    "duration": 11,
    "start_time": "2024-03-28T18:59:46.403Z"
   },
   {
    "duration": 9,
    "start_time": "2024-03-28T18:59:46.416Z"
   },
   {
    "duration": 32,
    "start_time": "2024-03-28T18:59:46.426Z"
   },
   {
    "duration": 35,
    "start_time": "2024-03-28T18:59:46.460Z"
   },
   {
    "duration": 271,
    "start_time": "2024-03-28T18:59:46.497Z"
   },
   {
    "duration": 254,
    "start_time": "2024-03-28T18:59:46.770Z"
   },
   {
    "duration": 107,
    "start_time": "2024-03-28T19:00:38.307Z"
   },
   {
    "duration": 24,
    "start_time": "2024-03-28T19:01:44.020Z"
   },
   {
    "duration": 325,
    "start_time": "2024-03-28T19:02:52.251Z"
   },
   {
    "duration": 259,
    "start_time": "2024-03-28T19:03:11.436Z"
   },
   {
    "duration": 22,
    "start_time": "2024-03-28T19:03:42.251Z"
   },
   {
    "duration": 20,
    "start_time": "2024-03-28T19:04:01.020Z"
   },
   {
    "duration": 255,
    "start_time": "2024-03-28T19:04:20.749Z"
   },
   {
    "duration": 257,
    "start_time": "2024-03-28T19:04:41.161Z"
   },
   {
    "duration": 9,
    "start_time": "2024-03-28T19:09:48.131Z"
   },
   {
    "duration": 21,
    "start_time": "2024-03-28T19:10:01.885Z"
   },
   {
    "duration": 257,
    "start_time": "2024-03-28T19:10:34.598Z"
   },
   {
    "duration": 336,
    "start_time": "2024-03-28T19:11:08.340Z"
   },
   {
    "duration": 271,
    "start_time": "2024-03-28T19:11:40.410Z"
   },
   {
    "duration": 243,
    "start_time": "2024-03-28T19:11:56.685Z"
   },
   {
    "duration": 243,
    "start_time": "2024-03-28T19:13:21.309Z"
   },
   {
    "duration": 235,
    "start_time": "2024-03-28T19:14:22.877Z"
   },
   {
    "duration": 17,
    "start_time": "2024-03-28T19:16:13.668Z"
   },
   {
    "duration": 55,
    "start_time": "2024-03-28T19:17:21.804Z"
   },
   {
    "duration": 49,
    "start_time": "2024-03-28T19:17:26.772Z"
   },
   {
    "duration": 10,
    "start_time": "2024-03-28T19:20:20.539Z"
   },
   {
    "duration": 16,
    "start_time": "2024-03-28T19:21:38.243Z"
   },
   {
    "duration": 15,
    "start_time": "2024-03-28T19:21:40.524Z"
   },
   {
    "duration": 996,
    "start_time": "2024-03-28T19:22:10.203Z"
   },
   {
    "duration": 937,
    "start_time": "2024-03-28T19:22:18.491Z"
   },
   {
    "duration": 886,
    "start_time": "2024-03-28T19:23:09.068Z"
   },
   {
    "duration": 915,
    "start_time": "2024-03-28T19:24:30.227Z"
   },
   {
    "duration": 935,
    "start_time": "2024-03-28T19:27:08.075Z"
   },
   {
    "duration": 13,
    "start_time": "2024-03-28T20:22:11.283Z"
   },
   {
    "duration": 63,
    "start_time": "2024-03-28T20:22:34.202Z"
   },
   {
    "duration": 52,
    "start_time": "2024-03-28T20:22:47.275Z"
   },
   {
    "duration": 88,
    "start_time": "2024-03-28T20:23:16.395Z"
   },
   {
    "duration": 60,
    "start_time": "2024-03-28T20:24:07.907Z"
   },
   {
    "duration": 53,
    "start_time": "2024-03-28T20:24:36.762Z"
   },
   {
    "duration": 54,
    "start_time": "2024-03-28T20:25:22.866Z"
   },
   {
    "duration": 54,
    "start_time": "2024-03-28T20:25:28.250Z"
   },
   {
    "duration": 12,
    "start_time": "2024-03-28T20:36:12.409Z"
   },
   {
    "duration": 35,
    "start_time": "2024-03-28T20:41:21.656Z"
   },
   {
    "duration": 57,
    "start_time": "2024-03-28T21:19:31.937Z"
   },
   {
    "duration": 15,
    "start_time": "2024-03-28T21:20:26.944Z"
   },
   {
    "duration": 20,
    "start_time": "2024-03-28T21:21:23.159Z"
   },
   {
    "duration": 60,
    "start_time": "2024-03-28T21:21:45.567Z"
   },
   {
    "duration": 61,
    "start_time": "2024-03-28T21:24:35.102Z"
   },
   {
    "duration": 60,
    "start_time": "2024-03-28T21:24:38.077Z"
   },
   {
    "duration": 75,
    "start_time": "2024-03-28T21:29:10.772Z"
   },
   {
    "duration": 356,
    "start_time": "2024-03-28T21:30:02.075Z"
   },
   {
    "duration": 53,
    "start_time": "2024-03-28T21:30:34.947Z"
   },
   {
    "duration": 53,
    "start_time": "2024-03-28T21:30:39.228Z"
   },
   {
    "duration": 60,
    "start_time": "2024-03-28T21:31:19.563Z"
   },
   {
    "duration": 86,
    "start_time": "2024-03-28T21:31:26.506Z"
   },
   {
    "duration": 67,
    "start_time": "2024-03-28T21:34:40.201Z"
   },
   {
    "duration": 262,
    "start_time": "2024-03-28T21:35:22.945Z"
   },
   {
    "duration": 243,
    "start_time": "2024-03-28T21:35:55.767Z"
   },
   {
    "duration": 279,
    "start_time": "2024-03-28T21:36:26.688Z"
   },
   {
    "duration": 62,
    "start_time": "2024-03-28T21:36:49.528Z"
   },
   {
    "duration": 1451,
    "start_time": "2024-04-02T08:27:35.349Z"
   },
   {
    "duration": 73,
    "start_time": "2024-04-02T08:27:36.802Z"
   },
   {
    "duration": 12,
    "start_time": "2024-04-02T08:27:36.877Z"
   },
   {
    "duration": 30,
    "start_time": "2024-04-02T08:27:36.891Z"
   },
   {
    "duration": 157,
    "start_time": "2024-04-02T08:27:36.923Z"
   },
   {
    "duration": 80,
    "start_time": "2024-04-02T08:27:37.082Z"
   },
   {
    "duration": 12,
    "start_time": "2024-04-02T08:27:37.164Z"
   },
   {
    "duration": 14,
    "start_time": "2024-04-02T08:27:37.177Z"
   },
   {
    "duration": 9,
    "start_time": "2024-04-02T08:27:37.192Z"
   },
   {
    "duration": 39,
    "start_time": "2024-04-02T08:27:37.203Z"
   },
   {
    "duration": 9,
    "start_time": "2024-04-02T08:27:37.243Z"
   },
   {
    "duration": 7,
    "start_time": "2024-04-02T08:27:37.254Z"
   },
   {
    "duration": 4,
    "start_time": "2024-04-02T08:27:37.263Z"
   },
   {
    "duration": 16,
    "start_time": "2024-04-02T08:27:37.268Z"
   },
   {
    "duration": 8,
    "start_time": "2024-04-02T08:27:37.285Z"
   },
   {
    "duration": 6,
    "start_time": "2024-04-02T08:27:37.294Z"
   },
   {
    "duration": 59,
    "start_time": "2024-04-02T08:27:37.302Z"
   },
   {
    "duration": 10,
    "start_time": "2024-04-02T08:27:37.363Z"
   },
   {
    "duration": 8,
    "start_time": "2024-04-02T08:27:37.374Z"
   },
   {
    "duration": 6,
    "start_time": "2024-04-02T08:27:37.383Z"
   },
   {
    "duration": 7,
    "start_time": "2024-04-02T08:27:37.390Z"
   },
   {
    "duration": 9,
    "start_time": "2024-04-02T08:27:37.398Z"
   },
   {
    "duration": 8,
    "start_time": "2024-04-02T08:27:37.408Z"
   },
   {
    "duration": 43,
    "start_time": "2024-04-02T08:27:37.417Z"
   },
   {
    "duration": 7,
    "start_time": "2024-04-02T08:27:37.461Z"
   },
   {
    "duration": 17,
    "start_time": "2024-04-02T08:27:37.469Z"
   },
   {
    "duration": 5,
    "start_time": "2024-04-02T08:27:37.487Z"
   },
   {
    "duration": 7,
    "start_time": "2024-04-02T08:27:37.495Z"
   },
   {
    "duration": 28,
    "start_time": "2024-04-02T08:27:37.503Z"
   },
   {
    "duration": 11,
    "start_time": "2024-04-02T08:27:37.533Z"
   },
   {
    "duration": 27,
    "start_time": "2024-04-02T08:27:37.546Z"
   },
   {
    "duration": 17,
    "start_time": "2024-04-02T08:27:37.574Z"
   },
   {
    "duration": 19,
    "start_time": "2024-04-02T08:27:37.593Z"
   },
   {
    "duration": 9,
    "start_time": "2024-04-02T08:27:37.613Z"
   },
   {
    "duration": 14,
    "start_time": "2024-04-02T08:27:37.623Z"
   },
   {
    "duration": 19,
    "start_time": "2024-04-02T08:27:37.640Z"
   },
   {
    "duration": 8,
    "start_time": "2024-04-02T08:27:37.661Z"
   },
   {
    "duration": 7,
    "start_time": "2024-04-02T08:27:37.670Z"
   },
   {
    "duration": 7,
    "start_time": "2024-04-02T08:27:37.678Z"
   },
   {
    "duration": 5,
    "start_time": "2024-04-02T08:27:37.687Z"
   },
   {
    "duration": 229,
    "start_time": "2024-04-02T08:27:37.693Z"
   },
   {
    "duration": 6,
    "start_time": "2024-04-02T08:27:37.924Z"
   },
   {
    "duration": 11,
    "start_time": "2024-04-02T08:27:37.933Z"
   },
   {
    "duration": 21,
    "start_time": "2024-04-02T08:27:37.945Z"
   },
   {
    "duration": 10,
    "start_time": "2024-04-02T08:27:37.967Z"
   },
   {
    "duration": 12,
    "start_time": "2024-04-02T08:27:37.979Z"
   },
   {
    "duration": 8,
    "start_time": "2024-04-02T08:27:37.993Z"
   },
   {
    "duration": 15,
    "start_time": "2024-04-02T08:27:38.003Z"
   },
   {
    "duration": 68,
    "start_time": "2024-04-02T08:27:38.020Z"
   },
   {
    "duration": 259,
    "start_time": "2024-04-02T08:27:38.090Z"
   },
   {
    "duration": 254,
    "start_time": "2024-04-02T08:27:38.350Z"
   },
   {
    "duration": 323,
    "start_time": "2024-04-02T08:27:38.606Z"
   },
   {
    "duration": 243,
    "start_time": "2024-04-02T08:27:38.931Z"
   },
   {
    "duration": 275,
    "start_time": "2024-04-02T08:27:39.176Z"
   },
   {
    "duration": 238,
    "start_time": "2024-04-02T08:27:39.453Z"
   },
   {
    "duration": 76,
    "start_time": "2024-04-02T08:27:39.693Z"
   },
   {
    "duration": 1246,
    "start_time": "2024-04-02T08:31:09.213Z"
   },
   {
    "duration": 976,
    "start_time": "2024-04-02T08:31:22.942Z"
   },
   {
    "duration": 6,
    "start_time": "2024-04-02T08:31:35.088Z"
   },
   {
    "duration": 13,
    "start_time": "2024-04-02T08:33:18.568Z"
   },
   {
    "duration": 15,
    "start_time": "2024-04-02T08:33:33.175Z"
   },
   {
    "duration": 11,
    "start_time": "2024-04-02T08:34:41.790Z"
   },
   {
    "duration": 21,
    "start_time": "2024-04-02T08:34:49.334Z"
   },
   {
    "duration": 9,
    "start_time": "2024-04-02T08:43:40.759Z"
   },
   {
    "duration": 14,
    "start_time": "2024-04-02T08:43:56.869Z"
   },
   {
    "duration": 8,
    "start_time": "2024-04-02T08:43:59.132Z"
   },
   {
    "duration": 6,
    "start_time": "2024-04-02T08:45:13.460Z"
   },
   {
    "duration": 7,
    "start_time": "2024-04-02T08:45:23.500Z"
   },
   {
    "duration": 8,
    "start_time": "2024-04-02T08:45:25.436Z"
   },
   {
    "duration": 11,
    "start_time": "2024-04-02T08:46:59.172Z"
   },
   {
    "duration": 6,
    "start_time": "2024-04-02T08:47:05.524Z"
   },
   {
    "duration": 7,
    "start_time": "2024-04-02T08:48:23.380Z"
   },
   {
    "duration": 4,
    "start_time": "2024-04-02T08:48:28.748Z"
   },
   {
    "duration": 5,
    "start_time": "2024-04-02T08:48:33.188Z"
   },
   {
    "duration": 5,
    "start_time": "2024-04-02T08:48:43.988Z"
   },
   {
    "duration": 4,
    "start_time": "2024-04-02T08:48:50.188Z"
   },
   {
    "duration": 5,
    "start_time": "2024-04-02T09:37:20.017Z"
   },
   {
    "duration": 5,
    "start_time": "2024-04-02T09:37:53.025Z"
   },
   {
    "duration": 5,
    "start_time": "2024-04-02T09:37:55.137Z"
   },
   {
    "duration": 5,
    "start_time": "2024-04-02T09:37:57.593Z"
   },
   {
    "duration": 4,
    "start_time": "2024-04-02T09:38:20.561Z"
   },
   {
    "duration": 5,
    "start_time": "2024-04-02T09:38:21.569Z"
   },
   {
    "duration": 7,
    "start_time": "2024-04-02T09:38:40.097Z"
   },
   {
    "duration": 7,
    "start_time": "2024-04-02T09:39:04.737Z"
   },
   {
    "duration": 5,
    "start_time": "2024-04-02T09:41:07.641Z"
   },
   {
    "duration": 9,
    "start_time": "2024-04-02T09:41:25.816Z"
   },
   {
    "duration": 5,
    "start_time": "2024-04-02T09:41:39.728Z"
   },
   {
    "duration": 5,
    "start_time": "2024-04-02T09:42:06.104Z"
   },
   {
    "duration": 5,
    "start_time": "2024-04-02T09:42:23.928Z"
   },
   {
    "duration": 9,
    "start_time": "2024-04-02T10:40:00.951Z"
   },
   {
    "duration": 8,
    "start_time": "2024-04-02T12:08:27.192Z"
   },
   {
    "duration": 1376,
    "start_time": "2024-04-02T13:36:18.589Z"
   },
   {
    "duration": 106,
    "start_time": "2024-04-02T13:36:19.967Z"
   },
   {
    "duration": 14,
    "start_time": "2024-04-02T13:36:20.075Z"
   },
   {
    "duration": 22,
    "start_time": "2024-04-02T13:36:20.090Z"
   },
   {
    "duration": 166,
    "start_time": "2024-04-02T13:36:20.114Z"
   },
   {
    "duration": 136,
    "start_time": "2024-04-02T13:36:20.281Z"
   },
   {
    "duration": 11,
    "start_time": "2024-04-02T13:36:20.418Z"
   },
   {
    "duration": 31,
    "start_time": "2024-04-02T13:36:20.430Z"
   },
   {
    "duration": 12,
    "start_time": "2024-04-02T13:36:20.463Z"
   },
   {
    "duration": 38,
    "start_time": "2024-04-02T13:36:20.477Z"
   },
   {
    "duration": 28,
    "start_time": "2024-04-02T13:36:20.516Z"
   },
   {
    "duration": 10,
    "start_time": "2024-04-02T13:36:20.545Z"
   },
   {
    "duration": 7,
    "start_time": "2024-04-02T13:36:20.556Z"
   },
   {
    "duration": 9,
    "start_time": "2024-04-02T13:36:20.566Z"
   },
   {
    "duration": 44,
    "start_time": "2024-04-02T13:36:20.576Z"
   },
   {
    "duration": 20,
    "start_time": "2024-04-02T13:36:20.622Z"
   },
   {
    "duration": 68,
    "start_time": "2024-04-02T13:36:20.644Z"
   },
   {
    "duration": 10,
    "start_time": "2024-04-02T13:36:20.713Z"
   },
   {
    "duration": 14,
    "start_time": "2024-04-02T13:36:20.725Z"
   },
   {
    "duration": 14,
    "start_time": "2024-04-02T13:36:20.741Z"
   },
   {
    "duration": 9,
    "start_time": "2024-04-02T13:36:20.756Z"
   },
   {
    "duration": 22,
    "start_time": "2024-04-02T13:36:20.767Z"
   },
   {
    "duration": 30,
    "start_time": "2024-04-02T13:36:20.790Z"
   },
   {
    "duration": 51,
    "start_time": "2024-04-02T13:36:20.821Z"
   },
   {
    "duration": 18,
    "start_time": "2024-04-02T13:36:20.873Z"
   },
   {
    "duration": 7,
    "start_time": "2024-04-02T13:36:20.893Z"
   },
   {
    "duration": 35,
    "start_time": "2024-04-02T13:36:20.901Z"
   },
   {
    "duration": 19,
    "start_time": "2024-04-02T13:36:20.937Z"
   },
   {
    "duration": 16,
    "start_time": "2024-04-02T13:36:20.958Z"
   },
   {
    "duration": 11,
    "start_time": "2024-04-02T13:36:20.975Z"
   },
   {
    "duration": 20,
    "start_time": "2024-04-02T13:36:20.988Z"
   },
   {
    "duration": 6,
    "start_time": "2024-04-02T13:36:21.009Z"
   },
   {
    "duration": 5,
    "start_time": "2024-04-02T13:36:21.016Z"
   },
   {
    "duration": 14,
    "start_time": "2024-04-02T13:36:21.023Z"
   },
   {
    "duration": 17,
    "start_time": "2024-04-02T13:36:21.039Z"
   },
   {
    "duration": 17,
    "start_time": "2024-04-02T13:36:21.058Z"
   },
   {
    "duration": 25,
    "start_time": "2024-04-02T13:36:21.076Z"
   },
   {
    "duration": 33,
    "start_time": "2024-04-02T13:36:21.103Z"
   },
   {
    "duration": 14,
    "start_time": "2024-04-02T13:36:21.138Z"
   },
   {
    "duration": 10,
    "start_time": "2024-04-02T13:36:21.154Z"
   },
   {
    "duration": 38,
    "start_time": "2024-04-02T13:36:21.169Z"
   },
   {
    "duration": 215,
    "start_time": "2024-04-02T13:36:21.209Z"
   },
   {
    "duration": 5,
    "start_time": "2024-04-02T13:36:21.426Z"
   },
   {
    "duration": 11,
    "start_time": "2024-04-02T13:36:21.433Z"
   },
   {
    "duration": 13,
    "start_time": "2024-04-02T13:36:21.446Z"
   },
   {
    "duration": 28,
    "start_time": "2024-04-02T13:36:21.462Z"
   },
   {
    "duration": 12,
    "start_time": "2024-04-02T13:36:21.492Z"
   },
   {
    "duration": 8,
    "start_time": "2024-04-02T13:36:21.506Z"
   },
   {
    "duration": 15,
    "start_time": "2024-04-02T13:36:21.515Z"
   },
   {
    "duration": 43,
    "start_time": "2024-04-02T13:36:21.532Z"
   },
   {
    "duration": 243,
    "start_time": "2024-04-02T13:36:21.577Z"
   },
   {
    "duration": 243,
    "start_time": "2024-04-02T13:36:21.822Z"
   },
   {
    "duration": 299,
    "start_time": "2024-04-02T13:36:22.067Z"
   },
   {
    "duration": 246,
    "start_time": "2024-04-02T13:36:22.367Z"
   },
   {
    "duration": 236,
    "start_time": "2024-04-02T13:36:22.615Z"
   },
   {
    "duration": 221,
    "start_time": "2024-04-02T13:36:22.858Z"
   },
   {
    "duration": 59,
    "start_time": "2024-04-02T13:36:23.081Z"
   },
   {
    "duration": 35,
    "start_time": "2024-04-02T13:36:23.142Z"
   },
   {
    "duration": 6,
    "start_time": "2024-04-02T13:36:23.179Z"
   },
   {
    "duration": 7,
    "start_time": "2024-04-02T13:36:23.187Z"
   },
   {
    "duration": 5,
    "start_time": "2024-04-02T13:36:23.195Z"
   },
   {
    "duration": 7,
    "start_time": "2024-04-02T13:36:23.202Z"
   },
   {
    "duration": 4,
    "start_time": "2024-04-02T13:36:23.211Z"
   },
   {
    "duration": 150,
    "start_time": "2024-04-02T13:36:23.216Z"
   },
   {
    "duration": 1177,
    "start_time": "2024-04-02T13:47:40.602Z"
   },
   {
    "duration": 27,
    "start_time": "2024-04-02T13:47:41.781Z"
   },
   {
    "duration": 10,
    "start_time": "2024-04-02T13:47:41.809Z"
   },
   {
    "duration": 13,
    "start_time": "2024-04-02T13:47:41.821Z"
   },
   {
    "duration": 128,
    "start_time": "2024-04-02T13:47:41.835Z"
   },
   {
    "duration": 28,
    "start_time": "2024-04-02T13:47:41.964Z"
   },
   {
    "duration": 14,
    "start_time": "2024-04-02T13:47:41.993Z"
   },
   {
    "duration": 16,
    "start_time": "2024-04-02T13:47:42.008Z"
   },
   {
    "duration": 6,
    "start_time": "2024-04-02T13:47:42.026Z"
   },
   {
    "duration": 5,
    "start_time": "2024-04-02T13:47:42.035Z"
   },
   {
    "duration": 9,
    "start_time": "2024-04-02T13:47:42.041Z"
   },
   {
    "duration": 12,
    "start_time": "2024-04-02T13:47:42.059Z"
   },
   {
    "duration": 4,
    "start_time": "2024-04-02T13:47:42.072Z"
   },
   {
    "duration": 13,
    "start_time": "2024-04-02T13:47:42.077Z"
   },
   {
    "duration": 7,
    "start_time": "2024-04-02T13:47:42.091Z"
   },
   {
    "duration": 6,
    "start_time": "2024-04-02T13:47:42.099Z"
   },
   {
    "duration": 15,
    "start_time": "2024-04-02T13:47:42.106Z"
   },
   {
    "duration": 9,
    "start_time": "2024-04-02T13:47:42.123Z"
   },
   {
    "duration": 40,
    "start_time": "2024-04-02T13:47:42.133Z"
   },
   {
    "duration": 23,
    "start_time": "2024-04-02T13:47:42.175Z"
   },
   {
    "duration": 6,
    "start_time": "2024-04-02T13:47:42.199Z"
   },
   {
    "duration": 10,
    "start_time": "2024-04-02T13:47:42.206Z"
   },
   {
    "duration": 12,
    "start_time": "2024-04-02T13:47:42.217Z"
   },
   {
    "duration": 9,
    "start_time": "2024-04-02T13:47:42.230Z"
   },
   {
    "duration": 31,
    "start_time": "2024-04-02T13:47:42.240Z"
   },
   {
    "duration": 7,
    "start_time": "2024-04-02T13:47:42.273Z"
   },
   {
    "duration": 28,
    "start_time": "2024-04-02T13:47:42.281Z"
   },
   {
    "duration": 7,
    "start_time": "2024-04-02T13:47:42.312Z"
   },
   {
    "duration": 9,
    "start_time": "2024-04-02T13:47:42.321Z"
   },
   {
    "duration": 16,
    "start_time": "2024-04-02T13:47:42.332Z"
   },
   {
    "duration": 9,
    "start_time": "2024-04-02T13:47:42.350Z"
   },
   {
    "duration": 6,
    "start_time": "2024-04-02T13:47:42.360Z"
   },
   {
    "duration": 6,
    "start_time": "2024-04-02T13:47:42.367Z"
   },
   {
    "duration": 17,
    "start_time": "2024-04-02T13:47:42.374Z"
   },
   {
    "duration": 8,
    "start_time": "2024-04-02T13:47:42.392Z"
   },
   {
    "duration": 7,
    "start_time": "2024-04-02T13:47:42.402Z"
   },
   {
    "duration": 8,
    "start_time": "2024-04-02T13:47:42.411Z"
   },
   {
    "duration": 11,
    "start_time": "2024-04-02T13:47:42.420Z"
   },
   {
    "duration": 5,
    "start_time": "2024-04-02T13:47:42.432Z"
   },
   {
    "duration": 20,
    "start_time": "2024-04-02T13:47:42.439Z"
   },
   {
    "duration": 6,
    "start_time": "2024-04-02T13:47:42.460Z"
   },
   {
    "duration": 192,
    "start_time": "2024-04-02T13:47:42.468Z"
   },
   {
    "duration": 5,
    "start_time": "2024-04-02T13:47:42.661Z"
   },
   {
    "duration": 18,
    "start_time": "2024-04-02T13:47:42.667Z"
   },
   {
    "duration": 8,
    "start_time": "2024-04-02T13:47:42.686Z"
   },
   {
    "duration": 7,
    "start_time": "2024-04-02T13:47:42.696Z"
   },
   {
    "duration": 9,
    "start_time": "2024-04-02T13:47:42.704Z"
   },
   {
    "duration": 7,
    "start_time": "2024-04-02T13:47:42.714Z"
   },
   {
    "duration": 37,
    "start_time": "2024-04-02T13:47:42.723Z"
   },
   {
    "duration": 30,
    "start_time": "2024-04-02T13:47:42.761Z"
   },
   {
    "duration": 230,
    "start_time": "2024-04-02T13:47:42.793Z"
   },
   {
    "duration": 225,
    "start_time": "2024-04-02T13:47:43.025Z"
   },
   {
    "duration": 300,
    "start_time": "2024-04-02T13:47:43.251Z"
   },
   {
    "duration": 231,
    "start_time": "2024-04-02T13:47:43.553Z"
   },
   {
    "duration": 223,
    "start_time": "2024-04-02T13:47:43.786Z"
   },
   {
    "duration": 211,
    "start_time": "2024-04-02T13:47:44.012Z"
   },
   {
    "duration": 67,
    "start_time": "2024-04-02T13:47:44.225Z"
   },
   {
    "duration": 18,
    "start_time": "2024-04-02T13:47:44.293Z"
   },
   {
    "duration": 6,
    "start_time": "2024-04-02T13:47:44.313Z"
   },
   {
    "duration": 26,
    "start_time": "2024-04-02T13:47:44.321Z"
   },
   {
    "duration": 5,
    "start_time": "2024-04-02T13:47:44.348Z"
   },
   {
    "duration": 6,
    "start_time": "2024-04-02T13:47:44.354Z"
   },
   {
    "duration": 4,
    "start_time": "2024-04-02T13:47:44.361Z"
   },
   {
    "duration": 113,
    "start_time": "2024-04-02T13:47:44.366Z"
   },
   {
    "duration": 47,
    "start_time": "2024-04-02T14:36:32.881Z"
   },
   {
    "duration": 1338,
    "start_time": "2024-04-02T14:36:53.446Z"
   },
   {
    "duration": 105,
    "start_time": "2024-04-02T14:36:54.786Z"
   },
   {
    "duration": 12,
    "start_time": "2024-04-02T14:36:54.892Z"
   },
   {
    "duration": 20,
    "start_time": "2024-04-02T14:36:54.906Z"
   },
   {
    "duration": 180,
    "start_time": "2024-04-02T14:36:54.928Z"
   },
   {
    "duration": 160,
    "start_time": "2024-04-02T14:36:55.109Z"
   },
   {
    "duration": 11,
    "start_time": "2024-04-02T14:36:55.270Z"
   },
   {
    "duration": 11,
    "start_time": "2024-04-02T14:36:55.282Z"
   },
   {
    "duration": 32,
    "start_time": "2024-04-02T14:36:55.295Z"
   },
   {
    "duration": 22,
    "start_time": "2024-04-02T14:36:55.329Z"
   },
   {
    "duration": 22,
    "start_time": "2024-04-02T14:36:55.353Z"
   },
   {
    "duration": 27,
    "start_time": "2024-04-02T14:36:55.376Z"
   },
   {
    "duration": 43,
    "start_time": "2024-04-02T14:36:55.404Z"
   },
   {
    "duration": 39,
    "start_time": "2024-04-02T14:36:55.449Z"
   },
   {
    "duration": 14,
    "start_time": "2024-04-02T14:36:55.489Z"
   },
   {
    "duration": 26,
    "start_time": "2024-04-02T14:36:55.505Z"
   },
   {
    "duration": 82,
    "start_time": "2024-04-02T14:36:55.533Z"
   },
   {
    "duration": 9,
    "start_time": "2024-04-02T14:36:55.616Z"
   },
   {
    "duration": 39,
    "start_time": "2024-04-02T14:36:55.626Z"
   },
   {
    "duration": 29,
    "start_time": "2024-04-02T14:36:55.667Z"
   },
   {
    "duration": 9,
    "start_time": "2024-04-02T14:36:55.698Z"
   },
   {
    "duration": 49,
    "start_time": "2024-04-02T14:36:55.708Z"
   },
   {
    "duration": 26,
    "start_time": "2024-04-02T14:36:55.759Z"
   },
   {
    "duration": 34,
    "start_time": "2024-04-02T14:36:55.786Z"
   },
   {
    "duration": 46,
    "start_time": "2024-04-02T14:36:55.822Z"
   },
   {
    "duration": 25,
    "start_time": "2024-04-02T14:36:55.870Z"
   },
   {
    "duration": 28,
    "start_time": "2024-04-02T14:36:55.897Z"
   },
   {
    "duration": 9,
    "start_time": "2024-04-02T14:36:55.929Z"
   },
   {
    "duration": 27,
    "start_time": "2024-04-02T14:36:55.939Z"
   },
   {
    "duration": 13,
    "start_time": "2024-04-02T14:36:55.968Z"
   },
   {
    "duration": 27,
    "start_time": "2024-04-02T14:36:55.982Z"
   },
   {
    "duration": 16,
    "start_time": "2024-04-02T14:36:56.010Z"
   },
   {
    "duration": 62,
    "start_time": "2024-04-02T14:36:56.027Z"
   },
   {
    "duration": 28,
    "start_time": "2024-04-02T14:36:56.091Z"
   },
   {
    "duration": 25,
    "start_time": "2024-04-02T14:36:56.121Z"
   },
   {
    "duration": 44,
    "start_time": "2024-04-02T14:36:56.148Z"
   },
   {
    "duration": 38,
    "start_time": "2024-04-02T14:36:56.194Z"
   },
   {
    "duration": 31,
    "start_time": "2024-04-02T14:36:56.234Z"
   },
   {
    "duration": 36,
    "start_time": "2024-04-02T14:36:56.267Z"
   },
   {
    "duration": 50,
    "start_time": "2024-04-02T14:36:56.305Z"
   },
   {
    "duration": 33,
    "start_time": "2024-04-02T14:36:56.357Z"
   },
   {
    "duration": 182,
    "start_time": "2024-04-02T14:36:56.391Z"
   },
   {
    "duration": 6,
    "start_time": "2024-04-02T14:36:56.574Z"
   },
   {
    "duration": 43,
    "start_time": "2024-04-02T14:36:56.582Z"
   },
   {
    "duration": 52,
    "start_time": "2024-04-02T14:36:56.626Z"
   },
   {
    "duration": 32,
    "start_time": "2024-04-02T14:36:56.680Z"
   },
   {
    "duration": 35,
    "start_time": "2024-04-02T14:36:56.714Z"
   },
   {
    "duration": 20,
    "start_time": "2024-04-02T14:36:56.751Z"
   },
   {
    "duration": 40,
    "start_time": "2024-04-02T14:36:56.773Z"
   },
   {
    "duration": 41,
    "start_time": "2024-04-02T14:36:56.814Z"
   },
   {
    "duration": 252,
    "start_time": "2024-04-02T14:36:56.856Z"
   },
   {
    "duration": 253,
    "start_time": "2024-04-02T14:36:57.110Z"
   },
   {
    "duration": 329,
    "start_time": "2024-04-02T14:36:57.365Z"
   },
   {
    "duration": 243,
    "start_time": "2024-04-02T14:36:57.696Z"
   },
   {
    "duration": 248,
    "start_time": "2024-04-02T14:36:57.940Z"
   },
   {
    "duration": 234,
    "start_time": "2024-04-02T14:36:58.190Z"
   },
   {
    "duration": 60,
    "start_time": "2024-04-02T14:36:58.425Z"
   },
   {
    "duration": 20,
    "start_time": "2024-04-02T14:36:58.494Z"
   },
   {
    "duration": 6,
    "start_time": "2024-04-02T14:36:58.516Z"
   },
   {
    "duration": 32,
    "start_time": "2024-04-02T14:36:58.523Z"
   },
   {
    "duration": 27,
    "start_time": "2024-04-02T14:36:58.557Z"
   },
   {
    "duration": 31,
    "start_time": "2024-04-02T14:36:58.585Z"
   },
   {
    "duration": 32,
    "start_time": "2024-04-02T14:36:58.618Z"
   },
   {
    "duration": 88,
    "start_time": "2024-04-02T14:36:58.651Z"
   },
   {
    "duration": 9,
    "start_time": "2024-04-02T14:38:07.604Z"
   },
   {
    "duration": 85,
    "start_time": "2024-04-02T14:38:18.257Z"
   },
   {
    "duration": 114,
    "start_time": "2024-04-02T14:38:48.372Z"
   },
   {
    "duration": 83,
    "start_time": "2024-04-02T14:38:50.652Z"
   },
   {
    "duration": 156,
    "start_time": "2024-04-02T14:39:11.011Z"
   },
   {
    "duration": 164,
    "start_time": "2024-04-02T14:42:09.320Z"
   },
   {
    "duration": 1396,
    "start_time": "2024-04-02T14:42:18.224Z"
   },
   {
    "duration": 127,
    "start_time": "2024-04-02T14:42:44.114Z"
   },
   {
    "duration": 8,
    "start_time": "2024-04-02T14:43:50.217Z"
   },
   {
    "duration": 88,
    "start_time": "2024-04-02T14:44:01.194Z"
   },
   {
    "duration": 87,
    "start_time": "2024-04-02T14:44:06.673Z"
   },
   {
    "duration": 86,
    "start_time": "2024-04-02T14:44:39.321Z"
   },
   {
    "duration": 87,
    "start_time": "2024-04-02T14:44:52.306Z"
   },
   {
    "duration": 89,
    "start_time": "2024-04-02T14:44:54.849Z"
   },
   {
    "duration": 86,
    "start_time": "2024-04-02T14:44:57.953Z"
   },
   {
    "duration": 91,
    "start_time": "2024-04-02T14:45:02.846Z"
   },
   {
    "duration": 94,
    "start_time": "2024-04-02T14:47:22.380Z"
   },
   {
    "duration": 109,
    "start_time": "2024-04-02T14:47:27.346Z"
   },
   {
    "duration": 82,
    "start_time": "2024-04-02T14:47:32.624Z"
   },
   {
    "duration": 82,
    "start_time": "2024-04-02T14:47:36.624Z"
   },
   {
    "duration": 114,
    "start_time": "2024-04-02T14:47:41.361Z"
   },
   {
    "duration": 96,
    "start_time": "2024-04-02T14:47:44.592Z"
   },
   {
    "duration": 96,
    "start_time": "2024-04-02T14:47:47.473Z"
   },
   {
    "duration": 114,
    "start_time": "2024-04-02T14:47:51.424Z"
   },
   {
    "duration": 1201,
    "start_time": "2024-04-03T06:55:20.806Z"
   },
   {
    "duration": 115,
    "start_time": "2024-04-03T06:55:22.009Z"
   },
   {
    "duration": 11,
    "start_time": "2024-04-03T06:55:22.125Z"
   },
   {
    "duration": 23,
    "start_time": "2024-04-03T06:55:22.137Z"
   },
   {
    "duration": 117,
    "start_time": "2024-04-03T06:55:22.161Z"
   },
   {
    "duration": 135,
    "start_time": "2024-04-03T06:55:22.279Z"
   },
   {
    "duration": 9,
    "start_time": "2024-04-03T06:55:22.415Z"
   },
   {
    "duration": 30,
    "start_time": "2024-04-03T06:55:22.425Z"
   },
   {
    "duration": 8,
    "start_time": "2024-04-03T06:55:22.456Z"
   },
   {
    "duration": 5,
    "start_time": "2024-04-03T06:55:22.466Z"
   },
   {
    "duration": 9,
    "start_time": "2024-04-03T06:55:22.472Z"
   },
   {
    "duration": 6,
    "start_time": "2024-04-03T06:55:22.483Z"
   },
   {
    "duration": 3,
    "start_time": "2024-04-03T06:55:22.490Z"
   },
   {
    "duration": 9,
    "start_time": "2024-04-03T06:55:22.494Z"
   },
   {
    "duration": 20,
    "start_time": "2024-04-03T06:55:22.504Z"
   },
   {
    "duration": 5,
    "start_time": "2024-04-03T06:55:22.525Z"
   },
   {
    "duration": 68,
    "start_time": "2024-04-03T06:55:22.532Z"
   },
   {
    "duration": 8,
    "start_time": "2024-04-03T06:55:22.602Z"
   },
   {
    "duration": 8,
    "start_time": "2024-04-03T06:55:22.611Z"
   },
   {
    "duration": 12,
    "start_time": "2024-04-03T06:55:22.620Z"
   },
   {
    "duration": 11,
    "start_time": "2024-04-03T06:55:22.633Z"
   },
   {
    "duration": 12,
    "start_time": "2024-04-03T06:55:22.645Z"
   },
   {
    "duration": 15,
    "start_time": "2024-04-03T06:55:22.658Z"
   },
   {
    "duration": 20,
    "start_time": "2024-04-03T06:55:22.674Z"
   },
   {
    "duration": 27,
    "start_time": "2024-04-03T06:55:22.696Z"
   },
   {
    "duration": 10,
    "start_time": "2024-04-03T06:55:22.724Z"
   },
   {
    "duration": 9,
    "start_time": "2024-04-03T06:55:22.735Z"
   },
   {
    "duration": 6,
    "start_time": "2024-04-03T06:55:22.747Z"
   },
   {
    "duration": 7,
    "start_time": "2024-04-03T06:55:22.754Z"
   },
   {
    "duration": 7,
    "start_time": "2024-04-03T06:55:22.762Z"
   },
   {
    "duration": 12,
    "start_time": "2024-04-03T06:55:22.770Z"
   },
   {
    "duration": 15,
    "start_time": "2024-04-03T06:55:22.783Z"
   },
   {
    "duration": 17,
    "start_time": "2024-04-03T06:55:22.799Z"
   },
   {
    "duration": 45,
    "start_time": "2024-04-03T06:55:22.817Z"
   },
   {
    "duration": 56,
    "start_time": "2024-04-03T06:55:22.863Z"
   },
   {
    "duration": 68,
    "start_time": "2024-04-03T06:55:22.920Z"
   },
   {
    "duration": 25,
    "start_time": "2024-04-03T06:55:22.990Z"
   },
   {
    "duration": 14,
    "start_time": "2024-04-03T06:55:23.016Z"
   },
   {
    "duration": 35,
    "start_time": "2024-04-03T06:55:23.031Z"
   },
   {
    "duration": 44,
    "start_time": "2024-04-03T06:55:23.068Z"
   },
   {
    "duration": 28,
    "start_time": "2024-04-03T06:55:23.114Z"
   },
   {
    "duration": 152,
    "start_time": "2024-04-03T06:55:23.143Z"
   },
   {
    "duration": 5,
    "start_time": "2024-04-03T06:55:23.296Z"
   },
   {
    "duration": 45,
    "start_time": "2024-04-03T06:55:23.302Z"
   },
   {
    "duration": 78,
    "start_time": "2024-04-03T06:55:23.348Z"
   },
   {
    "duration": 6,
    "start_time": "2024-04-03T06:55:23.427Z"
   },
   {
    "duration": 25,
    "start_time": "2024-04-03T06:55:23.434Z"
   },
   {
    "duration": 11,
    "start_time": "2024-04-03T06:55:23.461Z"
   },
   {
    "duration": 16,
    "start_time": "2024-04-03T06:55:23.473Z"
   },
   {
    "duration": 20,
    "start_time": "2024-04-03T06:55:23.490Z"
   },
   {
    "duration": 81,
    "start_time": "2024-04-03T06:55:23.511Z"
   },
   {
    "duration": 82,
    "start_time": "2024-04-03T06:55:23.593Z"
   },
   {
    "duration": 26,
    "start_time": "2024-04-03T06:55:23.685Z"
   },
   {
    "duration": 247,
    "start_time": "2024-04-03T06:55:23.713Z"
   },
   {
    "duration": 194,
    "start_time": "2024-04-03T06:55:23.962Z"
   },
   {
    "duration": 193,
    "start_time": "2024-04-03T06:55:24.158Z"
   },
   {
    "duration": 187,
    "start_time": "2024-04-03T06:55:24.353Z"
   },
   {
    "duration": 200,
    "start_time": "2024-04-03T06:55:24.541Z"
   },
   {
    "duration": 188,
    "start_time": "2024-04-03T06:55:24.742Z"
   },
   {
    "duration": 111,
    "start_time": "2024-04-03T06:55:24.931Z"
   },
   {
    "duration": 17,
    "start_time": "2024-04-03T06:55:25.043Z"
   },
   {
    "duration": 5,
    "start_time": "2024-04-03T06:55:25.061Z"
   },
   {
    "duration": 23,
    "start_time": "2024-04-03T06:55:25.068Z"
   },
   {
    "duration": 14,
    "start_time": "2024-04-03T06:55:25.092Z"
   },
   {
    "duration": 29,
    "start_time": "2024-04-03T06:55:25.107Z"
   },
   {
    "duration": 11,
    "start_time": "2024-04-03T06:55:25.138Z"
   },
   {
    "duration": 132,
    "start_time": "2024-04-03T06:55:25.150Z"
   },
   {
    "duration": 1550,
    "start_time": "2024-04-15T19:24:08.274Z"
   },
   {
    "duration": 107,
    "start_time": "2024-04-15T19:24:09.826Z"
   },
   {
    "duration": 12,
    "start_time": "2024-04-15T19:24:09.935Z"
   },
   {
    "duration": 11,
    "start_time": "2024-04-15T19:24:09.949Z"
   },
   {
    "duration": 143,
    "start_time": "2024-04-15T19:24:09.962Z"
   },
   {
    "duration": 11,
    "start_time": "2024-04-15T19:24:10.107Z"
   },
   {
    "duration": 39,
    "start_time": "2024-04-15T19:24:10.119Z"
   },
   {
    "duration": 24,
    "start_time": "2024-04-15T19:24:10.159Z"
   },
   {
    "duration": 15,
    "start_time": "2024-04-15T19:24:10.185Z"
   },
   {
    "duration": 20,
    "start_time": "2024-04-15T19:24:10.201Z"
   },
   {
    "duration": 9,
    "start_time": "2024-04-15T19:24:10.222Z"
   },
   {
    "duration": 13,
    "start_time": "2024-04-15T19:24:10.233Z"
   },
   {
    "duration": 9,
    "start_time": "2024-04-15T19:24:10.247Z"
   },
   {
    "duration": 8,
    "start_time": "2024-04-15T19:24:10.259Z"
   },
   {
    "duration": 6,
    "start_time": "2024-04-15T19:24:10.268Z"
   },
   {
    "duration": 72,
    "start_time": "2024-04-15T19:24:10.276Z"
   },
   {
    "duration": 10,
    "start_time": "2024-04-15T19:24:10.350Z"
   },
   {
    "duration": 41,
    "start_time": "2024-04-15T19:24:10.362Z"
   },
   {
    "duration": 33,
    "start_time": "2024-04-15T19:24:10.405Z"
   },
   {
    "duration": 12,
    "start_time": "2024-04-15T19:24:10.440Z"
   },
   {
    "duration": 29,
    "start_time": "2024-04-15T19:24:10.454Z"
   },
   {
    "duration": 13,
    "start_time": "2024-04-15T19:24:10.485Z"
   },
   {
    "duration": 11,
    "start_time": "2024-04-15T19:24:10.500Z"
   },
   {
    "duration": 17,
    "start_time": "2024-04-15T19:24:10.512Z"
   },
   {
    "duration": 32,
    "start_time": "2024-04-15T19:24:10.530Z"
   },
   {
    "duration": 33,
    "start_time": "2024-04-15T19:24:10.563Z"
   },
   {
    "duration": 26,
    "start_time": "2024-04-15T19:24:10.597Z"
   },
   {
    "duration": 44,
    "start_time": "2024-04-15T19:24:10.625Z"
   },
   {
    "duration": 37,
    "start_time": "2024-04-15T19:24:10.670Z"
   },
   {
    "duration": 27,
    "start_time": "2024-04-15T19:24:10.709Z"
   },
   {
    "duration": 16,
    "start_time": "2024-04-15T19:24:10.738Z"
   },
   {
    "duration": 12,
    "start_time": "2024-04-15T19:24:10.756Z"
   },
   {
    "duration": 35,
    "start_time": "2024-04-15T19:24:10.770Z"
   },
   {
    "duration": 27,
    "start_time": "2024-04-15T19:24:10.807Z"
   },
   {
    "duration": 14,
    "start_time": "2024-04-15T19:24:10.838Z"
   },
   {
    "duration": 23,
    "start_time": "2024-04-15T19:24:10.854Z"
   },
   {
    "duration": 33,
    "start_time": "2024-04-15T19:24:10.879Z"
   },
   {
    "duration": 172,
    "start_time": "2024-04-15T19:24:10.914Z"
   },
   {
    "duration": 6,
    "start_time": "2024-04-15T19:24:11.088Z"
   },
   {
    "duration": 9,
    "start_time": "2024-04-15T19:24:11.095Z"
   },
   {
    "duration": 13,
    "start_time": "2024-04-15T19:24:11.108Z"
   },
   {
    "duration": 196,
    "start_time": "2024-04-15T19:24:11.122Z"
   },
   {
    "duration": 6,
    "start_time": "2024-04-15T19:24:11.319Z"
   },
   {
    "duration": 14,
    "start_time": "2024-04-15T19:24:11.327Z"
   },
   {
    "duration": 96,
    "start_time": "2024-04-15T19:24:11.343Z"
   },
   {
    "duration": 8,
    "start_time": "2024-04-15T19:24:11.441Z"
   },
   {
    "duration": 23,
    "start_time": "2024-04-15T19:24:11.450Z"
   },
   {
    "duration": 13,
    "start_time": "2024-04-15T19:24:11.475Z"
   },
   {
    "duration": 8,
    "start_time": "2024-04-15T19:24:11.489Z"
   },
   {
    "duration": 16,
    "start_time": "2024-04-15T19:24:11.498Z"
   },
   {
    "duration": 121,
    "start_time": "2024-04-15T19:24:11.516Z"
   },
   {
    "duration": 118,
    "start_time": "2024-04-15T19:24:11.638Z"
   },
   {
    "duration": 38,
    "start_time": "2024-04-15T19:24:11.758Z"
   },
   {
    "duration": 277,
    "start_time": "2024-04-15T19:24:11.798Z"
   },
   {
    "duration": 354,
    "start_time": "2024-04-15T19:24:12.077Z"
   },
   {
    "duration": 257,
    "start_time": "2024-04-15T19:24:12.433Z"
   },
   {
    "duration": 256,
    "start_time": "2024-04-15T19:24:12.692Z"
   },
   {
    "duration": 266,
    "start_time": "2024-04-15T19:24:12.950Z"
   },
   {
    "duration": 257,
    "start_time": "2024-04-15T19:24:13.218Z"
   },
   {
    "duration": 70,
    "start_time": "2024-04-15T19:24:13.478Z"
   },
   {
    "duration": 40,
    "start_time": "2024-04-15T19:24:13.549Z"
   },
   {
    "duration": 8,
    "start_time": "2024-04-15T19:24:13.590Z"
   },
   {
    "duration": 13,
    "start_time": "2024-04-15T19:24:13.599Z"
   },
   {
    "duration": 6,
    "start_time": "2024-04-15T19:24:13.613Z"
   },
   {
    "duration": 8,
    "start_time": "2024-04-15T19:24:13.621Z"
   },
   {
    "duration": 6,
    "start_time": "2024-04-15T19:24:13.631Z"
   },
   {
    "duration": 143,
    "start_time": "2024-04-15T19:24:13.639Z"
   },
   {
    "duration": 8,
    "start_time": "2024-04-15T21:43:58.404Z"
   },
   {
    "duration": 1385,
    "start_time": "2024-04-16T16:11:56.597Z"
   },
   {
    "duration": 72,
    "start_time": "2024-04-16T16:11:57.984Z"
   },
   {
    "duration": 15,
    "start_time": "2024-04-16T16:11:58.057Z"
   },
   {
    "duration": 23,
    "start_time": "2024-04-16T16:11:58.076Z"
   },
   {
    "duration": 92,
    "start_time": "2024-04-16T16:11:58.101Z"
   },
   {
    "duration": 10,
    "start_time": "2024-04-16T16:11:58.195Z"
   },
   {
    "duration": 7,
    "start_time": "2024-04-16T16:11:58.207Z"
   },
   {
    "duration": 5,
    "start_time": "2024-04-16T16:11:58.216Z"
   },
   {
    "duration": 15,
    "start_time": "2024-04-16T16:11:58.223Z"
   },
   {
    "duration": 20,
    "start_time": "2024-04-16T16:11:58.240Z"
   },
   {
    "duration": 25,
    "start_time": "2024-04-16T16:11:58.261Z"
   },
   {
    "duration": 6,
    "start_time": "2024-04-16T16:11:58.287Z"
   },
   {
    "duration": 14,
    "start_time": "2024-04-16T16:11:58.294Z"
   },
   {
    "duration": 33,
    "start_time": "2024-04-16T16:11:58.309Z"
   },
   {
    "duration": 10,
    "start_time": "2024-04-16T16:11:58.344Z"
   },
   {
    "duration": 76,
    "start_time": "2024-04-16T16:11:58.356Z"
   },
   {
    "duration": 11,
    "start_time": "2024-04-16T16:11:58.433Z"
   },
   {
    "duration": 9,
    "start_time": "2024-04-16T16:11:58.445Z"
   },
   {
    "duration": 28,
    "start_time": "2024-04-16T16:11:58.455Z"
   },
   {
    "duration": 6,
    "start_time": "2024-04-16T16:11:58.485Z"
   },
   {
    "duration": 8,
    "start_time": "2024-04-16T16:11:58.492Z"
   },
   {
    "duration": 8,
    "start_time": "2024-04-16T16:11:58.501Z"
   },
   {
    "duration": 9,
    "start_time": "2024-04-16T16:11:58.511Z"
   },
   {
    "duration": 12,
    "start_time": "2024-04-16T16:11:58.521Z"
   },
   {
    "duration": 7,
    "start_time": "2024-04-16T16:11:58.534Z"
   },
   {
    "duration": 41,
    "start_time": "2024-04-16T16:11:58.542Z"
   },
   {
    "duration": 6,
    "start_time": "2024-04-16T16:11:58.585Z"
   },
   {
    "duration": 8,
    "start_time": "2024-04-16T16:11:58.595Z"
   },
   {
    "duration": 5,
    "start_time": "2024-04-16T16:11:58.605Z"
   },
   {
    "duration": 9,
    "start_time": "2024-04-16T16:11:58.611Z"
   },
   {
    "duration": 12,
    "start_time": "2024-04-16T16:11:58.621Z"
   },
   {
    "duration": 30,
    "start_time": "2024-04-16T16:11:58.635Z"
   },
   {
    "duration": 11,
    "start_time": "2024-04-16T16:11:58.667Z"
   },
   {
    "duration": 8,
    "start_time": "2024-04-16T16:11:58.680Z"
   },
   {
    "duration": 11,
    "start_time": "2024-04-16T16:11:58.690Z"
   },
   {
    "duration": 12,
    "start_time": "2024-04-16T16:11:58.703Z"
   },
   {
    "duration": 21,
    "start_time": "2024-04-16T16:11:58.716Z"
   },
   {
    "duration": 162,
    "start_time": "2024-04-16T16:11:58.739Z"
   },
   {
    "duration": 7,
    "start_time": "2024-04-16T16:11:58.903Z"
   },
   {
    "duration": 17,
    "start_time": "2024-04-16T16:11:58.911Z"
   },
   {
    "duration": 9,
    "start_time": "2024-04-16T16:11:58.931Z"
   },
   {
    "duration": 196,
    "start_time": "2024-04-16T16:11:58.941Z"
   },
   {
    "duration": 5,
    "start_time": "2024-04-16T16:11:59.139Z"
   },
   {
    "duration": 33,
    "start_time": "2024-04-16T16:11:59.146Z"
   },
   {
    "duration": 102,
    "start_time": "2024-04-16T16:11:59.181Z"
   },
   {
    "duration": 8,
    "start_time": "2024-04-16T16:11:59.285Z"
   },
   {
    "duration": 21,
    "start_time": "2024-04-16T16:11:59.295Z"
   },
   {
    "duration": 9,
    "start_time": "2024-04-16T16:11:59.317Z"
   },
   {
    "duration": 9,
    "start_time": "2024-04-16T16:11:59.328Z"
   },
   {
    "duration": 38,
    "start_time": "2024-04-16T16:11:59.338Z"
   },
   {
    "duration": 129,
    "start_time": "2024-04-16T16:11:59.379Z"
   },
   {
    "duration": 119,
    "start_time": "2024-04-16T16:11:59.510Z"
   },
   {
    "duration": 39,
    "start_time": "2024-04-16T16:11:59.631Z"
   },
   {
    "duration": 309,
    "start_time": "2024-04-16T16:11:59.672Z"
   },
   {
    "duration": 319,
    "start_time": "2024-04-16T16:11:59.983Z"
   },
   {
    "duration": 245,
    "start_time": "2024-04-16T16:12:00.304Z"
   },
   {
    "duration": 245,
    "start_time": "2024-04-16T16:12:00.551Z"
   },
   {
    "duration": 259,
    "start_time": "2024-04-16T16:12:00.798Z"
   },
   {
    "duration": 265,
    "start_time": "2024-04-16T16:12:01.059Z"
   },
   {
    "duration": 80,
    "start_time": "2024-04-16T16:12:01.326Z"
   },
   {
    "duration": 50,
    "start_time": "2024-04-16T16:12:01.408Z"
   },
   {
    "duration": 63,
    "start_time": "2024-04-16T16:12:01.459Z"
   },
   {
    "duration": 23,
    "start_time": "2024-04-16T16:12:01.524Z"
   },
   {
    "duration": 34,
    "start_time": "2024-04-16T16:12:01.548Z"
   },
   {
    "duration": 52,
    "start_time": "2024-04-16T16:12:01.584Z"
   },
   {
    "duration": 48,
    "start_time": "2024-04-16T16:12:01.637Z"
   },
   {
    "duration": 319,
    "start_time": "2024-04-16T16:12:01.686Z"
   },
   {
    "duration": 3,
    "start_time": "2024-04-16T16:12:39.450Z"
   },
   {
    "duration": 50,
    "start_time": "2024-04-16T16:12:39.455Z"
   },
   {
    "duration": 10,
    "start_time": "2024-04-16T16:12:39.507Z"
   },
   {
    "duration": 30,
    "start_time": "2024-04-16T16:12:39.518Z"
   },
   {
    "duration": 45,
    "start_time": "2024-04-16T16:12:39.550Z"
   },
   {
    "duration": 12,
    "start_time": "2024-04-16T16:12:39.597Z"
   },
   {
    "duration": 11,
    "start_time": "2024-04-16T16:12:39.611Z"
   },
   {
    "duration": 15,
    "start_time": "2024-04-16T16:12:39.623Z"
   },
   {
    "duration": 14,
    "start_time": "2024-04-16T16:12:39.639Z"
   },
   {
    "duration": 20,
    "start_time": "2024-04-16T16:12:39.655Z"
   },
   {
    "duration": 9,
    "start_time": "2024-04-16T16:12:39.679Z"
   },
   {
    "duration": 10,
    "start_time": "2024-04-16T16:12:39.690Z"
   },
   {
    "duration": 12,
    "start_time": "2024-04-16T16:12:39.701Z"
   },
   {
    "duration": 6,
    "start_time": "2024-04-16T16:12:39.715Z"
   },
   {
    "duration": 9,
    "start_time": "2024-04-16T16:12:39.722Z"
   },
   {
    "duration": 14,
    "start_time": "2024-04-16T16:12:39.733Z"
   },
   {
    "duration": 10,
    "start_time": "2024-04-16T16:12:39.748Z"
   },
   {
    "duration": 16,
    "start_time": "2024-04-16T16:12:39.759Z"
   },
   {
    "duration": 21,
    "start_time": "2024-04-16T16:12:39.778Z"
   },
   {
    "duration": 13,
    "start_time": "2024-04-16T16:12:39.801Z"
   },
   {
    "duration": 9,
    "start_time": "2024-04-16T16:12:39.815Z"
   },
   {
    "duration": 13,
    "start_time": "2024-04-16T16:12:39.825Z"
   },
   {
    "duration": 8,
    "start_time": "2024-04-16T16:12:39.839Z"
   },
   {
    "duration": 31,
    "start_time": "2024-04-16T16:12:39.848Z"
   },
   {
    "duration": 13,
    "start_time": "2024-04-16T16:12:39.881Z"
   },
   {
    "duration": 9,
    "start_time": "2024-04-16T16:12:39.896Z"
   },
   {
    "duration": 16,
    "start_time": "2024-04-16T16:12:39.906Z"
   },
   {
    "duration": 27,
    "start_time": "2024-04-16T16:12:39.923Z"
   },
   {
    "duration": 5,
    "start_time": "2024-04-16T16:12:39.954Z"
   },
   {
    "duration": 12,
    "start_time": "2024-04-16T16:12:39.960Z"
   },
   {
    "duration": 7,
    "start_time": "2024-04-16T16:12:39.974Z"
   },
   {
    "duration": 14,
    "start_time": "2024-04-16T16:12:39.983Z"
   },
   {
    "duration": 28,
    "start_time": "2024-04-16T16:12:39.998Z"
   },
   {
    "duration": 19,
    "start_time": "2024-04-16T16:12:40.027Z"
   },
   {
    "duration": 37,
    "start_time": "2024-04-16T16:12:40.047Z"
   },
   {
    "duration": 10,
    "start_time": "2024-04-16T16:12:40.085Z"
   },
   {
    "duration": 17,
    "start_time": "2024-04-16T16:12:40.096Z"
   },
   {
    "duration": 136,
    "start_time": "2024-04-16T16:12:40.115Z"
   },
   {
    "duration": 5,
    "start_time": "2024-04-16T16:12:40.252Z"
   },
   {
    "duration": 32,
    "start_time": "2024-04-16T16:12:40.258Z"
   },
   {
    "duration": 7,
    "start_time": "2024-04-16T16:12:40.291Z"
   },
   {
    "duration": 249,
    "start_time": "2024-04-16T16:12:40.300Z"
   },
   {
    "duration": 6,
    "start_time": "2024-04-16T16:12:40.551Z"
   },
   {
    "duration": 10,
    "start_time": "2024-04-16T16:12:40.564Z"
   },
   {
    "duration": 102,
    "start_time": "2024-04-16T16:12:40.576Z"
   },
   {
    "duration": 9,
    "start_time": "2024-04-16T16:12:40.680Z"
   },
   {
    "duration": 15,
    "start_time": "2024-04-16T16:12:40.691Z"
   },
   {
    "duration": 12,
    "start_time": "2024-04-16T16:12:40.707Z"
   },
   {
    "duration": 14,
    "start_time": "2024-04-16T16:12:40.721Z"
   },
   {
    "duration": 32,
    "start_time": "2024-04-16T16:12:40.736Z"
   },
   {
    "duration": 111,
    "start_time": "2024-04-16T16:12:40.770Z"
   },
   {
    "duration": 101,
    "start_time": "2024-04-16T16:12:40.883Z"
   },
   {
    "duration": 31,
    "start_time": "2024-04-16T16:12:40.985Z"
   },
   {
    "duration": 264,
    "start_time": "2024-04-16T16:12:41.017Z"
   },
   {
    "duration": 231,
    "start_time": "2024-04-16T16:12:41.283Z"
   },
   {
    "duration": 268,
    "start_time": "2024-04-16T16:12:41.516Z"
   },
   {
    "duration": 342,
    "start_time": "2024-04-16T16:12:41.786Z"
   },
   {
    "duration": 255,
    "start_time": "2024-04-16T16:12:42.130Z"
   },
   {
    "duration": 232,
    "start_time": "2024-04-16T16:12:42.387Z"
   },
   {
    "duration": 67,
    "start_time": "2024-04-16T16:12:42.620Z"
   },
   {
    "duration": 19,
    "start_time": "2024-04-16T16:12:42.689Z"
   },
   {
    "duration": 18,
    "start_time": "2024-04-16T16:12:42.709Z"
   },
   {
    "duration": 8,
    "start_time": "2024-04-16T16:12:42.729Z"
   },
   {
    "duration": 5,
    "start_time": "2024-04-16T16:12:42.739Z"
   },
   {
    "duration": 18,
    "start_time": "2024-04-16T16:12:42.745Z"
   },
   {
    "duration": 16,
    "start_time": "2024-04-16T16:12:42.765Z"
   },
   {
    "duration": 6,
    "start_time": "2024-04-16T16:12:42.783Z"
   },
   {
    "duration": 45,
    "start_time": "2024-04-16T16:34:16.811Z"
   },
   {
    "duration": 55,
    "start_time": "2024-04-16T16:34:45.395Z"
   },
   {
    "duration": 32,
    "start_time": "2024-04-16T16:47:05.071Z"
   },
   {
    "duration": 15,
    "start_time": "2024-04-16T16:49:43.422Z"
   },
   {
    "duration": 13,
    "start_time": "2024-04-16T16:51:10.294Z"
   },
   {
    "duration": 15,
    "start_time": "2024-04-16T16:51:14.141Z"
   },
   {
    "duration": 9,
    "start_time": "2024-04-16T17:25:33.671Z"
   },
   {
    "duration": 17,
    "start_time": "2024-04-16T17:25:57.686Z"
   },
   {
    "duration": 15,
    "start_time": "2024-04-16T17:29:43.614Z"
   },
   {
    "duration": 273,
    "start_time": "2024-04-16T17:33:25.556Z"
   },
   {
    "duration": 256,
    "start_time": "2024-04-16T17:33:30.100Z"
   },
   {
    "duration": 113,
    "start_time": "2024-04-16T17:33:49.748Z"
   },
   {
    "duration": 109,
    "start_time": "2024-04-16T17:33:52.384Z"
   },
   {
    "duration": 50,
    "start_time": "2024-04-16T17:33:55.699Z"
   },
   {
    "duration": 123,
    "start_time": "2024-04-16T17:34:00.166Z"
   },
   {
    "duration": 437,
    "start_time": "2024-04-16T17:34:16.044Z"
   },
   {
    "duration": 269,
    "start_time": "2024-04-16T17:42:09.827Z"
   },
   {
    "duration": 268,
    "start_time": "2024-04-16T17:52:26.847Z"
   },
   {
    "duration": 273,
    "start_time": "2024-04-16T17:52:43.399Z"
   },
   {
    "duration": 208,
    "start_time": "2024-04-16T18:00:12.325Z"
   },
   {
    "duration": 145,
    "start_time": "2024-04-16T18:00:16.045Z"
   },
   {
    "duration": 263,
    "start_time": "2024-04-16T18:00:18.933Z"
   },
   {
    "duration": 7,
    "start_time": "2024-04-16T18:00:48.957Z"
   },
   {
    "duration": 453,
    "start_time": "2024-04-16T18:01:54.237Z"
   },
   {
    "duration": 265,
    "start_time": "2024-04-16T18:07:40.774Z"
   },
   {
    "duration": 290,
    "start_time": "2024-04-16T18:32:22.303Z"
   },
   {
    "duration": 454,
    "start_time": "2024-04-16T18:33:37.828Z"
   },
   {
    "duration": 254,
    "start_time": "2024-04-16T18:33:47.474Z"
   },
   {
    "duration": 279,
    "start_time": "2024-04-16T18:33:53.074Z"
   },
   {
    "duration": 250,
    "start_time": "2024-04-16T18:38:36.635Z"
   },
   {
    "duration": 486,
    "start_time": "2024-04-16T18:38:41.402Z"
   },
   {
    "duration": 245,
    "start_time": "2024-04-16T18:38:45.859Z"
   },
   {
    "duration": 239,
    "start_time": "2024-04-16T18:38:54.786Z"
   },
   {
    "duration": 235,
    "start_time": "2024-04-16T18:39:01.627Z"
   },
   {
    "duration": 246,
    "start_time": "2024-04-16T18:44:06.580Z"
   },
   {
    "duration": 1030,
    "start_time": "2024-04-16T21:48:26.605Z"
   },
   {
    "duration": 10,
    "start_time": "2024-04-16T21:50:02.837Z"
   },
   {
    "duration": 17,
    "start_time": "2024-04-16T21:50:11.981Z"
   },
   {
    "duration": 1244,
    "start_time": "2024-04-16T21:55:02.963Z"
   },
   {
    "duration": 33,
    "start_time": "2024-04-16T21:55:21.547Z"
   },
   {
    "duration": 84,
    "start_time": "2024-04-17T18:47:23.119Z"
   },
   {
    "duration": 1557,
    "start_time": "2024-04-17T18:47:29.692Z"
   },
   {
    "duration": 73,
    "start_time": "2024-04-17T18:47:31.251Z"
   },
   {
    "duration": 12,
    "start_time": "2024-04-17T18:47:31.326Z"
   },
   {
    "duration": 95,
    "start_time": "2024-04-17T18:47:31.339Z"
   },
   {
    "duration": 175,
    "start_time": "2024-04-17T18:47:31.436Z"
   },
   {
    "duration": 13,
    "start_time": "2024-04-17T18:47:31.613Z"
   },
   {
    "duration": 65,
    "start_time": "2024-04-17T18:47:31.628Z"
   },
   {
    "duration": 27,
    "start_time": "2024-04-17T18:47:31.694Z"
   },
   {
    "duration": 15,
    "start_time": "2024-04-17T18:47:31.723Z"
   },
   {
    "duration": 24,
    "start_time": "2024-04-17T18:47:31.740Z"
   },
   {
    "duration": 20,
    "start_time": "2024-04-17T18:47:31.765Z"
   },
   {
    "duration": 31,
    "start_time": "2024-04-17T18:47:31.787Z"
   },
   {
    "duration": 16,
    "start_time": "2024-04-17T18:47:31.819Z"
   },
   {
    "duration": 45,
    "start_time": "2024-04-17T18:47:31.837Z"
   },
   {
    "duration": 28,
    "start_time": "2024-04-17T18:47:31.884Z"
   },
   {
    "duration": 73,
    "start_time": "2024-04-17T18:47:31.914Z"
   },
   {
    "duration": 13,
    "start_time": "2024-04-17T18:47:31.988Z"
   },
   {
    "duration": 40,
    "start_time": "2024-04-17T18:47:32.003Z"
   },
   {
    "duration": 43,
    "start_time": "2024-04-17T18:47:32.045Z"
   },
   {
    "duration": 30,
    "start_time": "2024-04-17T18:47:32.089Z"
   },
   {
    "duration": 9,
    "start_time": "2024-04-17T18:47:32.121Z"
   },
   {
    "duration": 8,
    "start_time": "2024-04-17T18:47:32.132Z"
   },
   {
    "duration": 16,
    "start_time": "2024-04-17T18:47:32.142Z"
   },
   {
    "duration": 49,
    "start_time": "2024-04-17T18:47:32.160Z"
   },
   {
    "duration": 7,
    "start_time": "2024-04-17T18:47:32.211Z"
   },
   {
    "duration": 22,
    "start_time": "2024-04-17T18:47:32.220Z"
   },
   {
    "duration": 14,
    "start_time": "2024-04-17T18:47:32.243Z"
   },
   {
    "duration": 25,
    "start_time": "2024-04-17T18:47:32.260Z"
   },
   {
    "duration": 4,
    "start_time": "2024-04-17T18:47:32.286Z"
   },
   {
    "duration": 31,
    "start_time": "2024-04-17T18:47:32.291Z"
   },
   {
    "duration": 22,
    "start_time": "2024-04-17T18:47:32.323Z"
   },
   {
    "duration": 16,
    "start_time": "2024-04-17T18:47:32.347Z"
   },
   {
    "duration": 21,
    "start_time": "2024-04-17T18:47:32.366Z"
   },
   {
    "duration": 23,
    "start_time": "2024-04-17T18:47:32.389Z"
   },
   {
    "duration": 22,
    "start_time": "2024-04-17T18:47:32.414Z"
   },
   {
    "duration": 11,
    "start_time": "2024-04-17T18:47:32.438Z"
   },
   {
    "duration": 35,
    "start_time": "2024-04-17T18:47:32.450Z"
   },
   {
    "duration": 152,
    "start_time": "2024-04-17T18:47:32.487Z"
   },
   {
    "duration": 5,
    "start_time": "2024-04-17T18:47:32.641Z"
   },
   {
    "duration": 29,
    "start_time": "2024-04-17T18:47:32.648Z"
   },
   {
    "duration": 5,
    "start_time": "2024-04-17T18:47:32.679Z"
   },
   {
    "duration": 199,
    "start_time": "2024-04-17T18:47:32.685Z"
   },
   {
    "duration": 5,
    "start_time": "2024-04-17T18:47:32.886Z"
   },
   {
    "duration": 16,
    "start_time": "2024-04-17T18:47:32.893Z"
   },
   {
    "duration": 93,
    "start_time": "2024-04-17T18:47:32.910Z"
   },
   {
    "duration": 7,
    "start_time": "2024-04-17T18:47:33.005Z"
   },
   {
    "duration": 10,
    "start_time": "2024-04-17T18:47:33.013Z"
   },
   {
    "duration": 10,
    "start_time": "2024-04-17T18:47:33.025Z"
   },
   {
    "duration": 38,
    "start_time": "2024-04-17T18:47:33.037Z"
   },
   {
    "duration": 14,
    "start_time": "2024-04-17T18:47:33.077Z"
   },
   {
    "duration": 109,
    "start_time": "2024-04-17T18:47:33.092Z"
   },
   {
    "duration": 107,
    "start_time": "2024-04-17T18:47:33.203Z"
   },
   {
    "duration": 33,
    "start_time": "2024-04-17T18:47:33.312Z"
   },
   {
    "duration": 33,
    "start_time": "2024-04-17T18:47:33.347Z"
   },
   {
    "duration": 10,
    "start_time": "2024-04-17T18:47:33.382Z"
   },
   {
    "duration": 23,
    "start_time": "2024-04-17T18:47:33.394Z"
   },
   {
    "duration": 18,
    "start_time": "2024-04-17T18:47:33.419Z"
   },
   {
    "duration": 291,
    "start_time": "2024-04-17T18:47:33.439Z"
   },
   {
    "duration": 366,
    "start_time": "2024-04-17T18:47:33.731Z"
   },
   {
    "duration": 289,
    "start_time": "2024-04-17T18:47:34.099Z"
   },
   {
    "duration": 252,
    "start_time": "2024-04-17T18:47:34.390Z"
   },
   {
    "duration": 269,
    "start_time": "2024-04-17T18:47:34.644Z"
   },
   {
    "duration": 271,
    "start_time": "2024-04-17T18:47:34.915Z"
   },
   {
    "duration": 87,
    "start_time": "2024-04-17T18:47:35.188Z"
   },
   {
    "duration": 26,
    "start_time": "2024-04-17T18:47:35.278Z"
   },
   {
    "duration": 34,
    "start_time": "2024-04-17T18:47:35.306Z"
   },
   {
    "duration": 24,
    "start_time": "2024-04-17T18:47:35.347Z"
   },
   {
    "duration": 10,
    "start_time": "2024-04-17T18:47:35.373Z"
   },
   {
    "duration": 6,
    "start_time": "2024-04-17T18:47:35.385Z"
   },
   {
    "duration": 8,
    "start_time": "2024-04-17T18:47:35.392Z"
   },
   {
    "duration": 20,
    "start_time": "2024-04-17T18:47:35.402Z"
   },
   {
    "duration": 32,
    "start_time": "2024-04-17T18:47:35.424Z"
   },
   {
    "duration": 5,
    "start_time": "2024-04-17T18:54:58.680Z"
   },
   {
    "duration": 6,
    "start_time": "2024-04-17T18:55:20.193Z"
   },
   {
    "duration": 9,
    "start_time": "2024-04-17T18:55:33.874Z"
   },
   {
    "duration": 5,
    "start_time": "2024-04-17T18:55:35.721Z"
   },
   {
    "duration": 5,
    "start_time": "2024-04-17T18:57:54.618Z"
   },
   {
    "duration": 5,
    "start_time": "2024-04-17T19:46:19.885Z"
   },
   {
    "duration": 5,
    "start_time": "2024-04-17T19:46:36.788Z"
   },
   {
    "duration": 7,
    "start_time": "2024-04-17T19:59:07.879Z"
   },
   {
    "duration": 5,
    "start_time": "2024-04-17T20:17:46.799Z"
   },
   {
    "duration": 1232,
    "start_time": "2024-04-18T06:31:34.322Z"
   },
   {
    "duration": 31,
    "start_time": "2024-04-18T06:31:35.555Z"
   },
   {
    "duration": 19,
    "start_time": "2024-04-18T06:31:35.588Z"
   },
   {
    "duration": 45,
    "start_time": "2024-04-18T06:31:35.610Z"
   },
   {
    "duration": 47,
    "start_time": "2024-04-18T06:31:35.656Z"
   },
   {
    "duration": 15,
    "start_time": "2024-04-18T06:31:35.705Z"
   },
   {
    "duration": 13,
    "start_time": "2024-04-18T06:31:35.722Z"
   },
   {
    "duration": 15,
    "start_time": "2024-04-18T06:31:35.737Z"
   },
   {
    "duration": 26,
    "start_time": "2024-04-18T06:31:35.754Z"
   },
   {
    "duration": 15,
    "start_time": "2024-04-18T06:31:35.783Z"
   },
   {
    "duration": 12,
    "start_time": "2024-04-18T06:31:35.800Z"
   },
   {
    "duration": 21,
    "start_time": "2024-04-18T06:31:35.813Z"
   },
   {
    "duration": 24,
    "start_time": "2024-04-18T06:31:35.836Z"
   },
   {
    "duration": 9,
    "start_time": "2024-04-18T06:31:35.862Z"
   },
   {
    "duration": 11,
    "start_time": "2024-04-18T06:31:35.873Z"
   },
   {
    "duration": 17,
    "start_time": "2024-04-18T06:31:35.889Z"
   },
   {
    "duration": 10,
    "start_time": "2024-04-18T06:31:35.908Z"
   },
   {
    "duration": 24,
    "start_time": "2024-04-18T06:31:35.920Z"
   },
   {
    "duration": 14,
    "start_time": "2024-04-18T06:31:35.946Z"
   },
   {
    "duration": 18,
    "start_time": "2024-04-18T06:31:35.963Z"
   },
   {
    "duration": 25,
    "start_time": "2024-04-18T06:31:35.982Z"
   },
   {
    "duration": 52,
    "start_time": "2024-04-18T06:31:36.009Z"
   },
   {
    "duration": 30,
    "start_time": "2024-04-18T06:31:36.063Z"
   },
   {
    "duration": 36,
    "start_time": "2024-04-18T06:31:36.094Z"
   },
   {
    "duration": 6,
    "start_time": "2024-04-18T06:31:36.132Z"
   },
   {
    "duration": 12,
    "start_time": "2024-04-18T06:31:36.140Z"
   },
   {
    "duration": 5,
    "start_time": "2024-04-18T06:31:36.154Z"
   },
   {
    "duration": 12,
    "start_time": "2024-04-18T06:31:36.163Z"
   },
   {
    "duration": 6,
    "start_time": "2024-04-18T06:31:36.177Z"
   },
   {
    "duration": 22,
    "start_time": "2024-04-18T06:31:36.185Z"
   },
   {
    "duration": 9,
    "start_time": "2024-04-18T06:31:36.209Z"
   },
   {
    "duration": 5,
    "start_time": "2024-04-18T06:31:36.220Z"
   },
   {
    "duration": 13,
    "start_time": "2024-04-18T06:31:36.227Z"
   },
   {
    "duration": 7,
    "start_time": "2024-04-18T06:31:36.241Z"
   },
   {
    "duration": 31,
    "start_time": "2024-04-18T06:31:36.250Z"
   },
   {
    "duration": 10,
    "start_time": "2024-04-18T06:31:36.283Z"
   },
   {
    "duration": 17,
    "start_time": "2024-04-18T06:31:36.294Z"
   },
   {
    "duration": 148,
    "start_time": "2024-04-18T06:31:36.312Z"
   },
   {
    "duration": 11,
    "start_time": "2024-04-18T06:31:36.461Z"
   },
   {
    "duration": 8,
    "start_time": "2024-04-18T06:31:36.477Z"
   },
   {
    "duration": 7,
    "start_time": "2024-04-18T06:31:36.487Z"
   },
   {
    "duration": 172,
    "start_time": "2024-04-18T06:31:36.496Z"
   },
   {
    "duration": 12,
    "start_time": "2024-04-18T06:31:36.672Z"
   },
   {
    "duration": 8,
    "start_time": "2024-04-18T06:31:36.686Z"
   },
   {
    "duration": 89,
    "start_time": "2024-04-18T06:31:36.696Z"
   },
   {
    "duration": 8,
    "start_time": "2024-04-18T06:31:36.786Z"
   },
   {
    "duration": 13,
    "start_time": "2024-04-18T06:31:36.796Z"
   },
   {
    "duration": 11,
    "start_time": "2024-04-18T06:31:36.811Z"
   },
   {
    "duration": 13,
    "start_time": "2024-04-18T06:31:36.823Z"
   },
   {
    "duration": 45,
    "start_time": "2024-04-18T06:31:36.838Z"
   },
   {
    "duration": 106,
    "start_time": "2024-04-18T06:31:36.884Z"
   },
   {
    "duration": 120,
    "start_time": "2024-04-18T06:31:36.992Z"
   },
   {
    "duration": 31,
    "start_time": "2024-04-18T06:31:37.114Z"
   },
   {
    "duration": 38,
    "start_time": "2024-04-18T06:31:37.146Z"
   },
   {
    "duration": 9,
    "start_time": "2024-04-18T06:31:37.186Z"
   },
   {
    "duration": 38,
    "start_time": "2024-04-18T06:31:37.197Z"
   },
   {
    "duration": 15,
    "start_time": "2024-04-18T06:31:37.236Z"
   },
   {
    "duration": 315,
    "start_time": "2024-04-18T06:31:37.253Z"
   },
   {
    "duration": 325,
    "start_time": "2024-04-18T06:31:37.578Z"
   },
   {
    "duration": 249,
    "start_time": "2024-04-18T06:31:37.904Z"
   },
   {
    "duration": 273,
    "start_time": "2024-04-18T06:31:38.155Z"
   },
   {
    "duration": 296,
    "start_time": "2024-04-18T06:31:38.430Z"
   },
   {
    "duration": 311,
    "start_time": "2024-04-18T06:31:38.728Z"
   },
   {
    "duration": 71,
    "start_time": "2024-04-18T06:31:39.042Z"
   },
   {
    "duration": 15,
    "start_time": "2024-04-18T06:31:39.114Z"
   },
   {
    "duration": 44,
    "start_time": "2024-04-18T06:31:39.131Z"
   },
   {
    "duration": 7,
    "start_time": "2024-04-18T06:31:39.177Z"
   },
   {
    "duration": 13,
    "start_time": "2024-04-18T06:31:39.186Z"
   },
   {
    "duration": 121,
    "start_time": "2024-04-18T06:31:39.201Z"
   },
   {
    "duration": 0,
    "start_time": "2024-04-18T06:31:39.324Z"
   },
   {
    "duration": 0,
    "start_time": "2024-04-18T06:31:39.325Z"
   },
   {
    "duration": 0,
    "start_time": "2024-04-18T06:31:39.327Z"
   },
   {
    "duration": 0,
    "start_time": "2024-04-18T06:31:39.329Z"
   },
   {
    "duration": 1444,
    "start_time": "2024-04-22T14:19:46.559Z"
   },
   {
    "duration": 117,
    "start_time": "2024-04-22T14:19:48.005Z"
   },
   {
    "duration": 12,
    "start_time": "2024-04-22T14:19:48.124Z"
   },
   {
    "duration": 12,
    "start_time": "2024-04-22T14:19:48.138Z"
   },
   {
    "duration": 138,
    "start_time": "2024-04-22T14:19:48.152Z"
   },
   {
    "duration": 10,
    "start_time": "2024-04-22T14:19:48.292Z"
   },
   {
    "duration": 13,
    "start_time": "2024-04-22T14:19:48.304Z"
   },
   {
    "duration": 5,
    "start_time": "2024-04-22T14:19:48.318Z"
   },
   {
    "duration": 7,
    "start_time": "2024-04-22T14:19:48.324Z"
   },
   {
    "duration": 9,
    "start_time": "2024-04-22T14:19:48.333Z"
   },
   {
    "duration": 7,
    "start_time": "2024-04-22T14:19:48.343Z"
   },
   {
    "duration": 4,
    "start_time": "2024-04-22T14:19:48.352Z"
   },
   {
    "duration": 13,
    "start_time": "2024-04-22T14:19:48.357Z"
   },
   {
    "duration": 7,
    "start_time": "2024-04-22T14:19:48.371Z"
   },
   {
    "duration": 38,
    "start_time": "2024-04-22T14:19:48.379Z"
   },
   {
    "duration": 70,
    "start_time": "2024-04-22T14:19:48.418Z"
   },
   {
    "duration": 10,
    "start_time": "2024-04-22T14:19:48.489Z"
   },
   {
    "duration": 9,
    "start_time": "2024-04-22T14:19:48.501Z"
   },
   {
    "duration": 11,
    "start_time": "2024-04-22T14:19:48.511Z"
   },
   {
    "duration": 5,
    "start_time": "2024-04-22T14:19:48.523Z"
   },
   {
    "duration": 27,
    "start_time": "2024-04-22T14:19:48.530Z"
   },
   {
    "duration": 14,
    "start_time": "2024-04-22T14:19:48.558Z"
   },
   {
    "duration": 14,
    "start_time": "2024-04-22T14:19:48.574Z"
   },
   {
    "duration": 23,
    "start_time": "2024-04-22T14:19:48.590Z"
   },
   {
    "duration": 9,
    "start_time": "2024-04-22T14:19:48.615Z"
   },
   {
    "duration": 9,
    "start_time": "2024-04-22T14:19:48.626Z"
   },
   {
    "duration": 5,
    "start_time": "2024-04-22T14:19:48.637Z"
   },
   {
    "duration": 7,
    "start_time": "2024-04-22T14:19:48.645Z"
   },
   {
    "duration": 5,
    "start_time": "2024-04-22T14:19:48.653Z"
   },
   {
    "duration": 13,
    "start_time": "2024-04-22T14:19:48.660Z"
   },
   {
    "duration": 8,
    "start_time": "2024-04-22T14:19:48.675Z"
   },
   {
    "duration": 43,
    "start_time": "2024-04-22T14:19:48.684Z"
   },
   {
    "duration": 13,
    "start_time": "2024-04-22T14:19:48.729Z"
   },
   {
    "duration": 14,
    "start_time": "2024-04-22T14:19:48.743Z"
   },
   {
    "duration": 10,
    "start_time": "2024-04-22T14:19:48.758Z"
   },
   {
    "duration": 8,
    "start_time": "2024-04-22T14:19:48.769Z"
   },
   {
    "duration": 8,
    "start_time": "2024-04-22T14:19:48.779Z"
   },
   {
    "duration": 171,
    "start_time": "2024-04-22T14:19:48.789Z"
   },
   {
    "duration": 5,
    "start_time": "2024-04-22T14:19:48.962Z"
   },
   {
    "duration": 9,
    "start_time": "2024-04-22T14:19:48.969Z"
   },
   {
    "duration": 11,
    "start_time": "2024-04-22T14:19:48.979Z"
   },
   {
    "duration": 177,
    "start_time": "2024-04-22T14:19:48.992Z"
   },
   {
    "duration": 5,
    "start_time": "2024-04-22T14:19:49.171Z"
   },
   {
    "duration": 10,
    "start_time": "2024-04-22T14:19:49.177Z"
   },
   {
    "duration": 92,
    "start_time": "2024-04-22T14:19:49.188Z"
   },
   {
    "duration": 7,
    "start_time": "2024-04-22T14:19:49.281Z"
   },
   {
    "duration": 10,
    "start_time": "2024-04-22T14:19:49.290Z"
   },
   {
    "duration": 19,
    "start_time": "2024-04-22T14:19:49.302Z"
   },
   {
    "duration": 28,
    "start_time": "2024-04-22T14:19:49.322Z"
   },
   {
    "duration": 40,
    "start_time": "2024-04-22T14:19:49.352Z"
   },
   {
    "duration": 96,
    "start_time": "2024-04-22T14:19:49.393Z"
   },
   {
    "duration": 102,
    "start_time": "2024-04-22T14:19:49.490Z"
   },
   {
    "duration": 39,
    "start_time": "2024-04-22T14:19:49.593Z"
   },
   {
    "duration": 14,
    "start_time": "2024-04-22T14:19:49.633Z"
   },
   {
    "duration": 10,
    "start_time": "2024-04-22T14:19:49.648Z"
   },
   {
    "duration": 29,
    "start_time": "2024-04-22T14:19:49.660Z"
   },
   {
    "duration": 31,
    "start_time": "2024-04-22T14:19:49.691Z"
   },
   {
    "duration": 265,
    "start_time": "2024-04-22T14:19:49.724Z"
   },
   {
    "duration": 335,
    "start_time": "2024-04-22T14:19:49.991Z"
   },
   {
    "duration": 249,
    "start_time": "2024-04-22T14:19:50.328Z"
   },
   {
    "duration": 248,
    "start_time": "2024-04-22T14:19:50.578Z"
   },
   {
    "duration": 262,
    "start_time": "2024-04-22T14:19:50.828Z"
   },
   {
    "duration": 238,
    "start_time": "2024-04-22T14:19:51.091Z"
   },
   {
    "duration": 59,
    "start_time": "2024-04-22T14:19:51.331Z"
   },
   {
    "duration": 30,
    "start_time": "2024-04-22T14:19:51.392Z"
   },
   {
    "duration": 30,
    "start_time": "2024-04-22T14:19:51.424Z"
   },
   {
    "duration": 4,
    "start_time": "2024-04-22T14:19:51.456Z"
   },
   {
    "duration": 56,
    "start_time": "2024-04-22T14:19:51.462Z"
   },
   {
    "duration": 124,
    "start_time": "2024-04-22T14:19:51.519Z"
   },
   {
    "duration": 0,
    "start_time": "2024-04-22T14:19:51.644Z"
   },
   {
    "duration": 0,
    "start_time": "2024-04-22T14:19:51.645Z"
   },
   {
    "duration": 0,
    "start_time": "2024-04-22T14:19:51.646Z"
   },
   {
    "duration": 0,
    "start_time": "2024-04-22T14:19:51.647Z"
   },
   {
    "duration": 145,
    "start_time": "2024-04-22T14:40:22.936Z"
   },
   {
    "duration": 235,
    "start_time": "2024-04-22T14:46:48.401Z"
   },
   {
    "duration": 143,
    "start_time": "2024-04-22T14:46:57.525Z"
   },
   {
    "duration": 124,
    "start_time": "2024-04-22T14:48:09.725Z"
   },
   {
    "duration": 142,
    "start_time": "2024-04-22T14:49:12.531Z"
   },
   {
    "duration": 146,
    "start_time": "2024-04-22T14:49:51.405Z"
   },
   {
    "duration": 158,
    "start_time": "2024-04-22T14:50:48.432Z"
   },
   {
    "duration": 142,
    "start_time": "2024-04-22T15:21:11.279Z"
   },
   {
    "duration": 149,
    "start_time": "2024-04-22T15:21:31.333Z"
   },
   {
    "duration": 149,
    "start_time": "2024-04-22T15:21:56.285Z"
   },
   {
    "duration": 251,
    "start_time": "2024-04-22T15:53:32.608Z"
   },
   {
    "duration": 370,
    "start_time": "2024-04-22T15:53:44.577Z"
   },
   {
    "duration": 252,
    "start_time": "2024-04-22T15:56:59.214Z"
   },
   {
    "duration": 271,
    "start_time": "2024-04-22T15:57:08.153Z"
   },
   {
    "duration": 245,
    "start_time": "2024-04-22T15:57:40.388Z"
   },
   {
    "duration": 261,
    "start_time": "2024-04-22T15:58:28.577Z"
   },
   {
    "duration": 256,
    "start_time": "2024-04-22T15:59:30.161Z"
   },
   {
    "duration": 386,
    "start_time": "2024-04-22T16:00:17.320Z"
   },
   {
    "duration": 257,
    "start_time": "2024-04-22T16:01:52.672Z"
   },
   {
    "duration": 234,
    "start_time": "2024-04-22T16:02:13.062Z"
   },
   {
    "duration": 251,
    "start_time": "2024-04-22T16:02:38.908Z"
   },
   {
    "duration": 247,
    "start_time": "2024-04-22T16:07:13.838Z"
   },
   {
    "duration": 261,
    "start_time": "2024-04-22T16:14:46.175Z"
   },
   {
    "duration": 17,
    "start_time": "2024-04-22T16:31:31.318Z"
   },
   {
    "duration": 239,
    "start_time": "2024-04-22T16:32:03.085Z"
   },
   {
    "duration": 23,
    "start_time": "2024-04-22T16:32:14.390Z"
   },
   {
    "duration": 1401,
    "start_time": "2024-04-22T16:33:01.043Z"
   },
   {
    "duration": 1588,
    "start_time": "2024-04-22T16:33:12.973Z"
   },
   {
    "duration": 58,
    "start_time": "2024-04-22T16:55:39.276Z"
   },
   {
    "duration": 15,
    "start_time": "2024-04-22T16:55:44.430Z"
   },
   {
    "duration": 1589,
    "start_time": "2024-04-22T16:56:37.421Z"
   },
   {
    "duration": 1529,
    "start_time": "2024-04-22T16:57:16.064Z"
   },
   {
    "duration": 1418,
    "start_time": "2024-04-22T16:57:35.175Z"
   },
   {
    "duration": 1462,
    "start_time": "2024-04-22T17:00:18.804Z"
   },
   {
    "duration": 58,
    "start_time": "2024-04-22T17:00:27.786Z"
   },
   {
    "duration": 15,
    "start_time": "2024-04-22T17:00:30.055Z"
   },
   {
    "duration": 418,
    "start_time": "2024-04-22T17:00:48.729Z"
   },
   {
    "duration": 420,
    "start_time": "2024-04-22T17:00:57.445Z"
   },
   {
    "duration": 357,
    "start_time": "2024-04-22T17:02:03.987Z"
   },
   {
    "duration": 59,
    "start_time": "2024-04-22T17:02:43.524Z"
   },
   {
    "duration": 15,
    "start_time": "2024-04-22T17:02:45.837Z"
   },
   {
    "duration": 422,
    "start_time": "2024-04-22T17:02:48.255Z"
   },
   {
    "duration": 1400,
    "start_time": "2024-04-22T17:05:21.991Z"
   },
   {
    "duration": 64,
    "start_time": "2024-04-22T17:05:31.102Z"
   },
   {
    "duration": 22,
    "start_time": "2024-04-22T17:05:33.677Z"
   },
   {
    "duration": 1532,
    "start_time": "2024-04-22T17:05:49.131Z"
   },
   {
    "duration": 57,
    "start_time": "2024-04-22T17:05:53.894Z"
   },
   {
    "duration": 29,
    "start_time": "2024-04-22T17:05:56.119Z"
   },
   {
    "duration": 60,
    "start_time": "2024-04-22T17:06:12.896Z"
   },
   {
    "duration": 18,
    "start_time": "2024-04-22T17:06:16.432Z"
   },
   {
    "duration": 1467,
    "start_time": "2024-04-22T17:07:22.627Z"
   },
   {
    "duration": 57,
    "start_time": "2024-04-22T17:07:27.945Z"
   },
   {
    "duration": 11,
    "start_time": "2024-04-22T17:07:30.761Z"
   },
   {
    "duration": 17,
    "start_time": "2024-04-22T17:08:59.451Z"
   },
   {
    "duration": 6,
    "start_time": "2024-04-22T17:16:09.515Z"
   },
   {
    "duration": 11,
    "start_time": "2024-04-22T17:20:07.130Z"
   },
   {
    "duration": 5,
    "start_time": "2024-04-22T17:20:31.817Z"
   },
   {
    "duration": 1646,
    "start_time": "2024-04-22T17:25:41.461Z"
   },
   {
    "duration": 60,
    "start_time": "2024-04-22T17:25:45.839Z"
   },
   {
    "duration": 20,
    "start_time": "2024-04-22T17:25:47.843Z"
   },
   {
    "duration": 28,
    "start_time": "2024-04-22T17:26:25.630Z"
   },
   {
    "duration": 3,
    "start_time": "2024-04-22T17:26:39.582Z"
   },
   {
    "duration": 38,
    "start_time": "2024-04-22T17:26:39.588Z"
   },
   {
    "duration": 11,
    "start_time": "2024-04-22T17:26:39.628Z"
   },
   {
    "duration": 9,
    "start_time": "2024-04-22T17:26:39.640Z"
   },
   {
    "duration": 30,
    "start_time": "2024-04-22T17:26:39.651Z"
   },
   {
    "duration": 33,
    "start_time": "2024-04-22T17:26:39.683Z"
   },
   {
    "duration": 9,
    "start_time": "2024-04-22T17:26:39.717Z"
   },
   {
    "duration": 12,
    "start_time": "2024-04-22T17:26:39.727Z"
   },
   {
    "duration": 15,
    "start_time": "2024-04-22T17:26:39.741Z"
   },
   {
    "duration": 10,
    "start_time": "2024-04-22T17:26:39.757Z"
   },
   {
    "duration": 7,
    "start_time": "2024-04-22T17:26:39.769Z"
   },
   {
    "duration": 4,
    "start_time": "2024-04-22T17:26:39.777Z"
   },
   {
    "duration": 37,
    "start_time": "2024-04-22T17:26:39.783Z"
   },
   {
    "duration": 7,
    "start_time": "2024-04-22T17:26:39.821Z"
   },
   {
    "duration": 7,
    "start_time": "2024-04-22T17:26:39.829Z"
   },
   {
    "duration": 15,
    "start_time": "2024-04-22T17:26:39.837Z"
   },
   {
    "duration": 10,
    "start_time": "2024-04-22T17:26:39.854Z"
   },
   {
    "duration": 7,
    "start_time": "2024-04-22T17:26:39.865Z"
   },
   {
    "duration": 6,
    "start_time": "2024-04-22T17:26:39.874Z"
   },
   {
    "duration": 35,
    "start_time": "2024-04-22T17:26:39.881Z"
   },
   {
    "duration": 7,
    "start_time": "2024-04-22T17:26:39.918Z"
   },
   {
    "duration": 14,
    "start_time": "2024-04-22T17:26:39.926Z"
   },
   {
    "duration": 8,
    "start_time": "2024-04-22T17:26:39.941Z"
   },
   {
    "duration": 11,
    "start_time": "2024-04-22T17:26:39.950Z"
   },
   {
    "duration": 7,
    "start_time": "2024-04-22T17:26:39.962Z"
   },
   {
    "duration": 17,
    "start_time": "2024-04-22T17:26:39.970Z"
   },
   {
    "duration": 30,
    "start_time": "2024-04-22T17:26:39.988Z"
   },
   {
    "duration": 14,
    "start_time": "2024-04-22T17:26:40.019Z"
   },
   {
    "duration": 13,
    "start_time": "2024-04-22T17:26:40.038Z"
   },
   {
    "duration": 11,
    "start_time": "2024-04-22T17:26:40.052Z"
   },
   {
    "duration": 23,
    "start_time": "2024-04-22T17:26:40.064Z"
   },
   {
    "duration": 7,
    "start_time": "2024-04-22T17:26:40.088Z"
   },
   {
    "duration": 9,
    "start_time": "2024-04-22T17:26:40.096Z"
   },
   {
    "duration": 11,
    "start_time": "2024-04-22T17:26:40.107Z"
   },
   {
    "duration": 9,
    "start_time": "2024-04-22T17:26:40.119Z"
   },
   {
    "duration": 7,
    "start_time": "2024-04-22T17:26:40.129Z"
   },
   {
    "duration": 19,
    "start_time": "2024-04-22T17:26:40.138Z"
   },
   {
    "duration": 156,
    "start_time": "2024-04-22T17:26:40.158Z"
   },
   {
    "duration": 6,
    "start_time": "2024-04-22T17:26:40.315Z"
   },
   {
    "duration": 18,
    "start_time": "2024-04-22T17:26:40.322Z"
   },
   {
    "duration": 8,
    "start_time": "2024-04-22T17:26:40.341Z"
   },
   {
    "duration": 166,
    "start_time": "2024-04-22T17:26:40.350Z"
   },
   {
    "duration": 5,
    "start_time": "2024-04-22T17:26:40.518Z"
   },
   {
    "duration": 5,
    "start_time": "2024-04-22T17:26:40.525Z"
   },
   {
    "duration": 96,
    "start_time": "2024-04-22T17:26:40.532Z"
   },
   {
    "duration": 8,
    "start_time": "2024-04-22T17:26:40.629Z"
   },
   {
    "duration": 13,
    "start_time": "2024-04-22T17:26:40.638Z"
   },
   {
    "duration": 11,
    "start_time": "2024-04-22T17:26:40.652Z"
   },
   {
    "duration": 7,
    "start_time": "2024-04-22T17:26:40.665Z"
   },
   {
    "duration": 15,
    "start_time": "2024-04-22T17:26:40.674Z"
   },
   {
    "duration": 151,
    "start_time": "2024-04-22T17:26:40.715Z"
   },
   {
    "duration": 155,
    "start_time": "2024-04-22T17:26:40.867Z"
   },
   {
    "duration": 30,
    "start_time": "2024-04-22T17:26:41.024Z"
   },
   {
    "duration": 15,
    "start_time": "2024-04-22T17:26:41.056Z"
   },
   {
    "duration": 10,
    "start_time": "2024-04-22T17:26:41.072Z"
   },
   {
    "duration": 44,
    "start_time": "2024-04-22T17:26:41.084Z"
   },
   {
    "duration": 14,
    "start_time": "2024-04-22T17:26:41.130Z"
   },
   {
    "duration": 269,
    "start_time": "2024-04-22T17:26:41.146Z"
   },
   {
    "duration": 257,
    "start_time": "2024-04-22T17:26:41.416Z"
   },
   {
    "duration": 472,
    "start_time": "2024-04-22T17:26:41.675Z"
   },
   {
    "duration": 253,
    "start_time": "2024-04-22T17:26:42.149Z"
   },
   {
    "duration": 258,
    "start_time": "2024-04-22T17:26:42.404Z"
   },
   {
    "duration": 242,
    "start_time": "2024-04-22T17:26:42.664Z"
   },
   {
    "duration": 62,
    "start_time": "2024-04-22T17:26:42.907Z"
   },
   {
    "duration": 18,
    "start_time": "2024-04-22T17:26:42.970Z"
   },
   {
    "duration": 4,
    "start_time": "2024-04-22T17:26:42.990Z"
   },
   {
    "duration": 23,
    "start_time": "2024-04-22T17:26:42.995Z"
   },
   {
    "duration": 13,
    "start_time": "2024-04-22T17:26:43.020Z"
   },
   {
    "duration": 23,
    "start_time": "2024-04-22T17:26:43.034Z"
   },
   {
    "duration": 5,
    "start_time": "2024-04-22T17:26:43.059Z"
   },
   {
    "duration": 4,
    "start_time": "2024-04-22T17:26:43.070Z"
   },
   {
    "duration": 27,
    "start_time": "2024-04-22T17:26:43.076Z"
   },
   {
    "duration": 8,
    "start_time": "2024-04-22T17:26:58.809Z"
   },
   {
    "duration": 1188,
    "start_time": "2024-04-23T00:38:12.078Z"
   },
   {
    "duration": 28,
    "start_time": "2024-04-23T00:38:13.268Z"
   },
   {
    "duration": 10,
    "start_time": "2024-04-23T00:38:13.297Z"
   },
   {
    "duration": 13,
    "start_time": "2024-04-23T00:38:13.309Z"
   },
   {
    "duration": 30,
    "start_time": "2024-04-23T00:38:13.323Z"
   },
   {
    "duration": 10,
    "start_time": "2024-04-23T00:38:13.354Z"
   },
   {
    "duration": 10,
    "start_time": "2024-04-23T00:38:13.365Z"
   },
   {
    "duration": 7,
    "start_time": "2024-04-23T00:38:13.376Z"
   },
   {
    "duration": 27,
    "start_time": "2024-04-23T00:38:13.384Z"
   },
   {
    "duration": 13,
    "start_time": "2024-04-23T00:38:13.414Z"
   },
   {
    "duration": 7,
    "start_time": "2024-04-23T00:38:13.428Z"
   },
   {
    "duration": 13,
    "start_time": "2024-04-23T00:38:13.436Z"
   },
   {
    "duration": 9,
    "start_time": "2024-04-23T00:38:13.450Z"
   },
   {
    "duration": 7,
    "start_time": "2024-04-23T00:38:13.461Z"
   },
   {
    "duration": 7,
    "start_time": "2024-04-23T00:38:13.469Z"
   },
   {
    "duration": 15,
    "start_time": "2024-04-23T00:38:13.478Z"
   },
   {
    "duration": 10,
    "start_time": "2024-04-23T00:38:13.494Z"
   },
   {
    "duration": 40,
    "start_time": "2024-04-23T00:38:13.505Z"
   },
   {
    "duration": 18,
    "start_time": "2024-04-23T00:38:13.547Z"
   },
   {
    "duration": 28,
    "start_time": "2024-04-23T00:38:13.566Z"
   },
   {
    "duration": 9,
    "start_time": "2024-04-23T00:38:13.596Z"
   },
   {
    "duration": 11,
    "start_time": "2024-04-23T00:38:13.606Z"
   },
   {
    "duration": 11,
    "start_time": "2024-04-23T00:38:13.618Z"
   },
   {
    "duration": 15,
    "start_time": "2024-04-23T00:38:13.630Z"
   },
   {
    "duration": 7,
    "start_time": "2024-04-23T00:38:13.646Z"
   },
   {
    "duration": 15,
    "start_time": "2024-04-23T00:38:13.654Z"
   },
   {
    "duration": 7,
    "start_time": "2024-04-23T00:38:13.670Z"
   },
   {
    "duration": 13,
    "start_time": "2024-04-23T00:38:13.681Z"
   },
   {
    "duration": 4,
    "start_time": "2024-04-23T00:38:13.695Z"
   },
   {
    "duration": 26,
    "start_time": "2024-04-23T00:38:13.700Z"
   },
   {
    "duration": 21,
    "start_time": "2024-04-23T00:38:13.728Z"
   },
   {
    "duration": 16,
    "start_time": "2024-04-23T00:38:13.750Z"
   },
   {
    "duration": 14,
    "start_time": "2024-04-23T00:38:13.767Z"
   },
   {
    "duration": 8,
    "start_time": "2024-04-23T00:38:13.782Z"
   },
   {
    "duration": 9,
    "start_time": "2024-04-23T00:38:13.791Z"
   },
   {
    "duration": 12,
    "start_time": "2024-04-23T00:38:13.801Z"
   },
   {
    "duration": 27,
    "start_time": "2024-04-23T00:38:13.814Z"
   },
   {
    "duration": 150,
    "start_time": "2024-04-23T00:38:13.843Z"
   },
   {
    "duration": 5,
    "start_time": "2024-04-23T00:38:13.995Z"
   },
   {
    "duration": 14,
    "start_time": "2024-04-23T00:38:14.002Z"
   },
   {
    "duration": 16,
    "start_time": "2024-04-23T00:38:14.018Z"
   },
   {
    "duration": 162,
    "start_time": "2024-04-23T00:38:14.036Z"
   },
   {
    "duration": 5,
    "start_time": "2024-04-23T00:38:14.200Z"
   },
   {
    "duration": 11,
    "start_time": "2024-04-23T00:38:14.206Z"
   },
   {
    "duration": 85,
    "start_time": "2024-04-23T00:38:14.219Z"
   },
   {
    "duration": 7,
    "start_time": "2024-04-23T00:38:14.306Z"
   },
   {
    "duration": 12,
    "start_time": "2024-04-23T00:38:14.314Z"
   },
   {
    "duration": 11,
    "start_time": "2024-04-23T00:38:14.328Z"
   },
   {
    "duration": 11,
    "start_time": "2024-04-23T00:38:14.340Z"
   },
   {
    "duration": 14,
    "start_time": "2024-04-23T00:38:14.352Z"
   },
   {
    "duration": 167,
    "start_time": "2024-04-23T00:38:14.367Z"
   },
   {
    "duration": 139,
    "start_time": "2024-04-23T00:38:14.535Z"
   },
   {
    "duration": 39,
    "start_time": "2024-04-23T00:38:14.675Z"
   },
   {
    "duration": 13,
    "start_time": "2024-04-23T00:38:14.715Z"
   },
   {
    "duration": 7,
    "start_time": "2024-04-23T00:38:14.729Z"
   },
   {
    "duration": 23,
    "start_time": "2024-04-23T00:38:14.737Z"
   },
   {
    "duration": 13,
    "start_time": "2024-04-23T00:38:14.761Z"
   },
   {
    "duration": 273,
    "start_time": "2024-04-23T00:38:14.775Z"
   },
   {
    "duration": 310,
    "start_time": "2024-04-23T00:38:15.049Z"
   },
   {
    "duration": 262,
    "start_time": "2024-04-23T00:38:15.361Z"
   },
   {
    "duration": 247,
    "start_time": "2024-04-23T00:38:15.625Z"
   },
   {
    "duration": 244,
    "start_time": "2024-04-23T00:38:15.873Z"
   },
   {
    "duration": 223,
    "start_time": "2024-04-23T00:38:16.119Z"
   },
   {
    "duration": 60,
    "start_time": "2024-04-23T00:38:16.343Z"
   },
   {
    "duration": 16,
    "start_time": "2024-04-23T00:38:16.404Z"
   },
   {
    "duration": 33,
    "start_time": "2024-04-23T00:38:16.421Z"
   },
   {
    "duration": 24,
    "start_time": "2024-04-23T00:38:16.456Z"
   },
   {
    "duration": 7,
    "start_time": "2024-04-23T00:38:16.482Z"
   },
   {
    "duration": 13,
    "start_time": "2024-04-23T00:38:16.491Z"
   },
   {
    "duration": 36,
    "start_time": "2024-04-23T00:38:16.505Z"
   },
   {
    "duration": 7,
    "start_time": "2024-04-23T00:38:16.543Z"
   },
   {
    "duration": 17,
    "start_time": "2024-04-23T00:38:16.552Z"
   },
   {
    "duration": 8,
    "start_time": "2024-04-23T00:42:33.656Z"
   },
   {
    "duration": 1146,
    "start_time": "2024-04-23T00:53:56.327Z"
   },
   {
    "duration": 30,
    "start_time": "2024-04-23T00:53:57.475Z"
   },
   {
    "duration": 12,
    "start_time": "2024-04-23T00:53:57.507Z"
   },
   {
    "duration": 41,
    "start_time": "2024-04-23T00:53:57.521Z"
   },
   {
    "duration": 32,
    "start_time": "2024-04-23T00:53:57.563Z"
   },
   {
    "duration": 10,
    "start_time": "2024-04-23T00:53:57.597Z"
   },
   {
    "duration": 15,
    "start_time": "2024-04-23T00:53:57.609Z"
   },
   {
    "duration": 12,
    "start_time": "2024-04-23T00:53:57.625Z"
   },
   {
    "duration": 15,
    "start_time": "2024-04-23T00:53:57.638Z"
   },
   {
    "duration": 8,
    "start_time": "2024-04-23T00:53:57.655Z"
   },
   {
    "duration": 10,
    "start_time": "2024-04-23T00:53:57.664Z"
   },
   {
    "duration": 20,
    "start_time": "2024-04-23T00:53:57.675Z"
   },
   {
    "duration": 29,
    "start_time": "2024-04-23T00:53:57.696Z"
   },
   {
    "duration": 7,
    "start_time": "2024-04-23T00:53:57.727Z"
   },
   {
    "duration": 7,
    "start_time": "2024-04-23T00:53:57.736Z"
   },
   {
    "duration": 19,
    "start_time": "2024-04-23T00:53:57.744Z"
   },
   {
    "duration": 11,
    "start_time": "2024-04-23T00:53:57.765Z"
   },
   {
    "duration": 21,
    "start_time": "2024-04-23T00:53:57.778Z"
   },
   {
    "duration": 10,
    "start_time": "2024-04-23T00:53:57.800Z"
   },
   {
    "duration": 14,
    "start_time": "2024-04-23T00:53:57.811Z"
   },
   {
    "duration": 13,
    "start_time": "2024-04-23T00:53:57.826Z"
   },
   {
    "duration": 9,
    "start_time": "2024-04-23T00:53:57.841Z"
   },
   {
    "duration": 17,
    "start_time": "2024-04-23T00:53:57.851Z"
   },
   {
    "duration": 12,
    "start_time": "2024-04-23T00:53:57.870Z"
   },
   {
    "duration": 12,
    "start_time": "2024-04-23T00:53:57.884Z"
   },
   {
    "duration": 11,
    "start_time": "2024-04-23T00:53:57.898Z"
   },
   {
    "duration": 5,
    "start_time": "2024-04-23T00:53:57.910Z"
   },
   {
    "duration": 26,
    "start_time": "2024-04-23T00:53:57.918Z"
   },
   {
    "duration": 13,
    "start_time": "2024-04-23T00:53:57.945Z"
   },
   {
    "duration": 14,
    "start_time": "2024-04-23T00:53:57.959Z"
   },
   {
    "duration": 9,
    "start_time": "2024-04-23T00:53:57.974Z"
   },
   {
    "duration": 12,
    "start_time": "2024-04-23T00:53:57.984Z"
   },
   {
    "duration": 15,
    "start_time": "2024-04-23T00:53:57.997Z"
   },
   {
    "duration": 10,
    "start_time": "2024-04-23T00:53:58.013Z"
   },
   {
    "duration": 18,
    "start_time": "2024-04-23T00:53:58.024Z"
   },
   {
    "duration": 14,
    "start_time": "2024-04-23T00:53:58.043Z"
   },
   {
    "duration": 9,
    "start_time": "2024-04-23T00:53:58.058Z"
   },
   {
    "duration": 147,
    "start_time": "2024-04-23T00:53:58.068Z"
   },
   {
    "duration": 5,
    "start_time": "2024-04-23T00:53:58.216Z"
   },
   {
    "duration": 8,
    "start_time": "2024-04-23T00:53:58.222Z"
   },
   {
    "duration": 5,
    "start_time": "2024-04-23T00:53:58.231Z"
   },
   {
    "duration": 167,
    "start_time": "2024-04-23T00:53:58.238Z"
   },
   {
    "duration": 5,
    "start_time": "2024-04-23T00:53:58.406Z"
   },
   {
    "duration": 20,
    "start_time": "2024-04-23T00:53:58.412Z"
   },
   {
    "duration": 74,
    "start_time": "2024-04-23T00:53:58.433Z"
   },
   {
    "duration": 6,
    "start_time": "2024-04-23T00:53:58.509Z"
   },
   {
    "duration": 22,
    "start_time": "2024-04-23T00:53:58.516Z"
   },
   {
    "duration": 34,
    "start_time": "2024-04-23T00:53:58.540Z"
   },
   {
    "duration": 10,
    "start_time": "2024-04-23T00:53:58.576Z"
   },
   {
    "duration": 28,
    "start_time": "2024-04-23T00:53:58.587Z"
   },
   {
    "duration": 140,
    "start_time": "2024-04-23T00:53:58.617Z"
   },
   {
    "duration": 126,
    "start_time": "2024-04-23T00:53:58.759Z"
   },
   {
    "duration": 31,
    "start_time": "2024-04-23T00:53:58.893Z"
   },
   {
    "duration": 14,
    "start_time": "2024-04-23T00:53:58.926Z"
   },
   {
    "duration": 25,
    "start_time": "2024-04-23T00:53:58.941Z"
   },
   {
    "duration": 32,
    "start_time": "2024-04-23T00:53:58.967Z"
   },
   {
    "duration": 20,
    "start_time": "2024-04-23T00:53:59.001Z"
   },
   {
    "duration": 254,
    "start_time": "2024-04-23T00:53:59.022Z"
   },
   {
    "duration": 298,
    "start_time": "2024-04-23T00:53:59.277Z"
   },
   {
    "duration": 231,
    "start_time": "2024-04-23T00:53:59.577Z"
   },
   {
    "duration": 236,
    "start_time": "2024-04-23T00:53:59.809Z"
   },
   {
    "duration": 261,
    "start_time": "2024-04-23T00:54:00.047Z"
   },
   {
    "duration": 256,
    "start_time": "2024-04-23T00:54:00.310Z"
   },
   {
    "duration": 67,
    "start_time": "2024-04-23T00:54:00.567Z"
   },
   {
    "duration": 20,
    "start_time": "2024-04-23T00:54:00.635Z"
   },
   {
    "duration": 33,
    "start_time": "2024-04-23T00:54:00.657Z"
   },
   {
    "duration": 93,
    "start_time": "2024-04-23T00:54:00.692Z"
   },
   {
    "duration": 57,
    "start_time": "2024-04-23T00:54:00.787Z"
   },
   {
    "duration": 80,
    "start_time": "2024-04-23T00:54:00.845Z"
   },
   {
    "duration": 43,
    "start_time": "2024-04-23T00:54:00.926Z"
   },
   {
    "duration": 46,
    "start_time": "2024-04-23T00:54:00.971Z"
   },
   {
    "duration": 93,
    "start_time": "2024-04-23T00:54:01.019Z"
   },
   {
    "duration": 50,
    "start_time": "2024-04-23T11:08:38.541Z"
   },
   {
    "duration": 1459,
    "start_time": "2024-04-23T11:08:43.332Z"
   },
   {
    "duration": 75,
    "start_time": "2024-04-23T11:08:44.793Z"
   },
   {
    "duration": 14,
    "start_time": "2024-04-23T11:08:44.869Z"
   },
   {
    "duration": 27,
    "start_time": "2024-04-23T11:08:44.885Z"
   },
   {
    "duration": 101,
    "start_time": "2024-04-23T11:08:44.914Z"
   },
   {
    "duration": 13,
    "start_time": "2024-04-23T11:08:45.017Z"
   },
   {
    "duration": 55,
    "start_time": "2024-04-23T11:08:45.032Z"
   },
   {
    "duration": 59,
    "start_time": "2024-04-23T11:08:45.089Z"
   },
   {
    "duration": 36,
    "start_time": "2024-04-23T11:08:45.150Z"
   },
   {
    "duration": 48,
    "start_time": "2024-04-23T11:08:45.189Z"
   },
   {
    "duration": 58,
    "start_time": "2024-04-23T11:08:45.239Z"
   },
   {
    "duration": 40,
    "start_time": "2024-04-23T11:08:45.298Z"
   },
   {
    "duration": 74,
    "start_time": "2024-04-23T11:08:45.340Z"
   },
   {
    "duration": 94,
    "start_time": "2024-04-23T11:08:45.416Z"
   },
   {
    "duration": 28,
    "start_time": "2024-04-23T11:08:45.512Z"
   },
   {
    "duration": 88,
    "start_time": "2024-04-23T11:08:45.542Z"
   },
   {
    "duration": 11,
    "start_time": "2024-04-23T11:08:45.632Z"
   },
   {
    "duration": 27,
    "start_time": "2024-04-23T11:08:45.645Z"
   },
   {
    "duration": 18,
    "start_time": "2024-04-23T11:08:45.674Z"
   },
   {
    "duration": 36,
    "start_time": "2024-04-23T11:08:45.693Z"
   },
   {
    "duration": 38,
    "start_time": "2024-04-23T11:08:45.731Z"
   },
   {
    "duration": 22,
    "start_time": "2024-04-23T11:08:45.771Z"
   },
   {
    "duration": 51,
    "start_time": "2024-04-23T11:08:45.795Z"
   },
   {
    "duration": 33,
    "start_time": "2024-04-23T11:08:45.848Z"
   },
   {
    "duration": 16,
    "start_time": "2024-04-23T11:08:45.883Z"
   },
   {
    "duration": 47,
    "start_time": "2024-04-23T11:08:45.901Z"
   },
   {
    "duration": 25,
    "start_time": "2024-04-23T11:08:45.949Z"
   },
   {
    "duration": 54,
    "start_time": "2024-04-23T11:08:45.978Z"
   },
   {
    "duration": 21,
    "start_time": "2024-04-23T11:08:46.033Z"
   },
   {
    "duration": 45,
    "start_time": "2024-04-23T11:08:46.056Z"
   },
   {
    "duration": 39,
    "start_time": "2024-04-23T11:08:46.102Z"
   },
   {
    "duration": 42,
    "start_time": "2024-04-23T11:08:46.143Z"
   },
   {
    "duration": 38,
    "start_time": "2024-04-23T11:08:46.187Z"
   },
   {
    "duration": 35,
    "start_time": "2024-04-23T11:08:46.226Z"
   },
   {
    "duration": 31,
    "start_time": "2024-04-23T11:08:46.263Z"
   },
   {
    "duration": 24,
    "start_time": "2024-04-23T11:08:46.295Z"
   },
   {
    "duration": 33,
    "start_time": "2024-04-23T11:08:46.320Z"
   },
   {
    "duration": 170,
    "start_time": "2024-04-23T11:08:46.355Z"
   },
   {
    "duration": 5,
    "start_time": "2024-04-23T11:08:46.526Z"
   },
   {
    "duration": 69,
    "start_time": "2024-04-23T11:08:46.532Z"
   },
   {
    "duration": 43,
    "start_time": "2024-04-23T11:08:46.602Z"
   },
   {
    "duration": 190,
    "start_time": "2024-04-23T11:08:46.646Z"
   },
   {
    "duration": 7,
    "start_time": "2024-04-23T11:08:46.838Z"
   },
   {
    "duration": 56,
    "start_time": "2024-04-23T11:08:46.846Z"
   },
   {
    "duration": 101,
    "start_time": "2024-04-23T11:08:46.904Z"
   },
   {
    "duration": 9,
    "start_time": "2024-04-23T11:08:47.007Z"
   },
   {
    "duration": 28,
    "start_time": "2024-04-23T11:08:47.018Z"
   },
   {
    "duration": 36,
    "start_time": "2024-04-23T11:08:47.048Z"
   },
   {
    "duration": 25,
    "start_time": "2024-04-23T11:08:47.090Z"
   },
   {
    "duration": 32,
    "start_time": "2024-04-23T11:08:47.117Z"
   },
   {
    "duration": 156,
    "start_time": "2024-04-23T11:08:47.151Z"
   },
   {
    "duration": 283,
    "start_time": "2024-04-23T11:08:47.310Z"
   },
   {
    "duration": 31,
    "start_time": "2024-04-23T11:08:47.595Z"
   },
   {
    "duration": 35,
    "start_time": "2024-04-23T11:08:47.628Z"
   },
   {
    "duration": 33,
    "start_time": "2024-04-23T11:08:47.664Z"
   },
   {
    "duration": 28,
    "start_time": "2024-04-23T11:08:47.699Z"
   },
   {
    "duration": 20,
    "start_time": "2024-04-23T11:08:47.729Z"
   },
   {
    "duration": 353,
    "start_time": "2024-04-23T11:08:47.751Z"
   },
   {
    "duration": 263,
    "start_time": "2024-04-23T11:08:48.106Z"
   },
   {
    "duration": 277,
    "start_time": "2024-04-23T11:08:48.371Z"
   },
   {
    "duration": 283,
    "start_time": "2024-04-23T11:08:48.650Z"
   },
   {
    "duration": 279,
    "start_time": "2024-04-23T11:08:48.935Z"
   },
   {
    "duration": 248,
    "start_time": "2024-04-23T11:08:49.215Z"
   },
   {
    "duration": 155,
    "start_time": "2024-04-23T11:08:49.465Z"
   },
   {
    "duration": 18,
    "start_time": "2024-04-23T11:08:49.622Z"
   },
   {
    "duration": 20,
    "start_time": "2024-04-23T11:08:49.641Z"
   },
   {
    "duration": 19,
    "start_time": "2024-04-23T11:08:49.663Z"
   },
   {
    "duration": 32,
    "start_time": "2024-04-23T11:08:49.684Z"
   },
   {
    "duration": 18,
    "start_time": "2024-04-23T11:08:49.717Z"
   },
   {
    "duration": 22,
    "start_time": "2024-04-23T11:08:49.737Z"
   },
   {
    "duration": 34,
    "start_time": "2024-04-23T11:08:49.760Z"
   },
   {
    "duration": 43,
    "start_time": "2024-04-23T11:08:49.796Z"
   },
   {
    "duration": 264,
    "start_time": "2024-04-23T11:11:28.276Z"
   },
   {
    "duration": 776,
    "start_time": "2024-04-23T11:11:39.467Z"
   },
   {
    "duration": 859,
    "start_time": "2024-04-23T11:11:50.695Z"
   },
   {
    "duration": 5,
    "start_time": "2024-04-23T14:52:32.994Z"
   },
   {
    "duration": 147,
    "start_time": "2024-04-23T14:53:27.815Z"
   },
   {
    "duration": 157,
    "start_time": "2024-04-23T14:53:55.242Z"
   },
   {
    "duration": 144,
    "start_time": "2024-04-23T14:54:07.291Z"
   },
   {
    "duration": 204,
    "start_time": "2024-04-23T14:54:20.122Z"
   },
   {
    "duration": 151,
    "start_time": "2024-04-23T14:54:52.680Z"
   },
   {
    "duration": 161,
    "start_time": "2024-04-23T14:55:54.094Z"
   },
   {
    "duration": 271,
    "start_time": "2024-04-23T14:56:44.415Z"
   },
   {
    "duration": 555,
    "start_time": "2024-04-23T14:56:54.054Z"
   },
   {
    "duration": 404,
    "start_time": "2024-04-23T15:01:40.724Z"
   },
   {
    "duration": 1643,
    "start_time": "2024-04-23T15:01:54.148Z"
   },
   {
    "duration": 1633,
    "start_time": "2024-04-23T15:03:27.744Z"
   },
   {
    "duration": 1764,
    "start_time": "2024-04-23T15:04:11.487Z"
   },
   {
    "duration": 1584,
    "start_time": "2024-04-23T15:08:09.107Z"
   },
   {
    "duration": 1586,
    "start_time": "2024-04-23T15:08:21.781Z"
   },
   {
    "duration": 1600,
    "start_time": "2024-04-23T15:08:51.479Z"
   },
   {
    "duration": 604,
    "start_time": "2024-04-23T15:09:00.366Z"
   },
   {
    "duration": 260,
    "start_time": "2024-04-23T15:09:08.830Z"
   },
   {
    "duration": 228,
    "start_time": "2024-04-23T15:09:18.776Z"
   },
   {
    "duration": 184,
    "start_time": "2024-04-23T15:09:22.052Z"
   },
   {
    "duration": 190,
    "start_time": "2024-04-23T15:10:15.686Z"
   },
   {
    "duration": 515,
    "start_time": "2024-04-23T15:11:19.804Z"
   },
   {
    "duration": 440,
    "start_time": "2024-04-23T15:11:40.971Z"
   },
   {
    "duration": 167,
    "start_time": "2024-04-23T15:11:49.776Z"
   },
   {
    "duration": 69,
    "start_time": "2024-04-23T16:09:00.161Z"
   },
   {
    "duration": 5,
    "start_time": "2024-04-23T16:09:30.041Z"
   },
   {
    "duration": 5,
    "start_time": "2024-04-23T16:10:40.362Z"
   },
   {
    "duration": 5,
    "start_time": "2024-04-23T16:10:55.121Z"
   },
   {
    "duration": 5,
    "start_time": "2024-04-23T16:11:06.010Z"
   },
   {
    "duration": 6,
    "start_time": "2024-04-23T16:11:32.121Z"
   },
   {
    "duration": 4,
    "start_time": "2024-04-23T16:16:36.065Z"
   },
   {
    "duration": 5,
    "start_time": "2024-04-23T16:16:48.503Z"
   },
   {
    "duration": 9,
    "start_time": "2024-04-23T16:18:00.123Z"
   },
   {
    "duration": 9,
    "start_time": "2024-04-23T16:18:12.453Z"
   },
   {
    "duration": 8,
    "start_time": "2024-04-23T16:19:34.868Z"
   },
   {
    "duration": 7,
    "start_time": "2024-04-23T16:19:48.768Z"
   },
   {
    "duration": 12,
    "start_time": "2024-04-23T16:33:54.793Z"
   },
   {
    "duration": 10,
    "start_time": "2024-04-23T16:34:43.516Z"
   },
   {
    "duration": 5,
    "start_time": "2024-04-23T16:36:53.042Z"
   },
   {
    "duration": 13,
    "start_time": "2024-04-23T18:53:19.936Z"
   },
   {
    "duration": 7,
    "start_time": "2024-04-23T18:53:26.677Z"
   },
   {
    "duration": 68,
    "start_time": "2024-04-23T18:55:00.565Z"
   },
   {
    "duration": 58,
    "start_time": "2024-04-23T18:55:22.382Z"
   },
   {
    "duration": 6,
    "start_time": "2024-04-23T18:55:26.122Z"
   },
   {
    "duration": 8,
    "start_time": "2024-04-23T18:56:33.403Z"
   },
   {
    "duration": 9,
    "start_time": "2024-04-23T22:04:51.752Z"
   },
   {
    "duration": 7,
    "start_time": "2024-04-23T22:05:04.942Z"
   },
   {
    "duration": 9,
    "start_time": "2024-04-23T22:05:09.880Z"
   },
   {
    "duration": 5,
    "start_time": "2024-04-23T22:22:23.200Z"
   },
   {
    "duration": 1083,
    "start_time": "2024-04-24T01:09:14.137Z"
   },
   {
    "duration": 32,
    "start_time": "2024-04-24T01:09:15.222Z"
   },
   {
    "duration": 9,
    "start_time": "2024-04-24T01:09:15.256Z"
   },
   {
    "duration": 29,
    "start_time": "2024-04-24T01:09:15.267Z"
   },
   {
    "duration": 56,
    "start_time": "2024-04-24T01:09:15.297Z"
   },
   {
    "duration": 9,
    "start_time": "2024-04-24T01:09:15.355Z"
   },
   {
    "duration": 9,
    "start_time": "2024-04-24T01:09:15.365Z"
   },
   {
    "duration": 28,
    "start_time": "2024-04-24T01:09:15.375Z"
   },
   {
    "duration": 5,
    "start_time": "2024-04-24T01:09:15.404Z"
   },
   {
    "duration": 8,
    "start_time": "2024-04-24T01:09:15.411Z"
   },
   {
    "duration": 6,
    "start_time": "2024-04-24T01:09:15.420Z"
   },
   {
    "duration": 3,
    "start_time": "2024-04-24T01:09:15.427Z"
   },
   {
    "duration": 21,
    "start_time": "2024-04-24T01:09:15.431Z"
   },
   {
    "duration": 6,
    "start_time": "2024-04-24T01:09:15.453Z"
   },
   {
    "duration": 5,
    "start_time": "2024-04-24T01:09:15.460Z"
   },
   {
    "duration": 17,
    "start_time": "2024-04-24T01:09:15.466Z"
   },
   {
    "duration": 20,
    "start_time": "2024-04-24T01:09:15.484Z"
   },
   {
    "duration": 7,
    "start_time": "2024-04-24T01:09:15.505Z"
   },
   {
    "duration": 15,
    "start_time": "2024-04-24T01:09:15.513Z"
   },
   {
    "duration": 5,
    "start_time": "2024-04-24T01:09:15.529Z"
   },
   {
    "duration": 8,
    "start_time": "2024-04-24T01:09:15.535Z"
   },
   {
    "duration": 6,
    "start_time": "2024-04-24T01:09:15.544Z"
   },
   {
    "duration": 7,
    "start_time": "2024-04-24T01:09:15.551Z"
   },
   {
    "duration": 10,
    "start_time": "2024-04-24T01:09:15.559Z"
   },
   {
    "duration": 5,
    "start_time": "2024-04-24T01:09:15.570Z"
   },
   {
    "duration": 7,
    "start_time": "2024-04-24T01:09:15.602Z"
   },
   {
    "duration": 4,
    "start_time": "2024-04-24T01:09:15.610Z"
   },
   {
    "duration": 5,
    "start_time": "2024-04-24T01:09:15.617Z"
   },
   {
    "duration": 4,
    "start_time": "2024-04-24T01:09:15.623Z"
   },
   {
    "duration": 14,
    "start_time": "2024-04-24T01:09:15.628Z"
   },
   {
    "duration": 9,
    "start_time": "2024-04-24T01:09:15.643Z"
   },
   {
    "duration": 4,
    "start_time": "2024-04-24T01:09:15.653Z"
   },
   {
    "duration": 7,
    "start_time": "2024-04-24T01:09:15.658Z"
   },
   {
    "duration": 6,
    "start_time": "2024-04-24T01:09:15.666Z"
   },
   {
    "duration": 30,
    "start_time": "2024-04-24T01:09:15.673Z"
   },
   {
    "duration": 5,
    "start_time": "2024-04-24T01:09:15.704Z"
   },
   {
    "duration": 8,
    "start_time": "2024-04-24T01:09:15.710Z"
   },
   {
    "duration": 134,
    "start_time": "2024-04-24T01:09:15.719Z"
   },
   {
    "duration": 4,
    "start_time": "2024-04-24T01:09:15.854Z"
   },
   {
    "duration": 6,
    "start_time": "2024-04-24T01:09:15.860Z"
   },
   {
    "duration": 7,
    "start_time": "2024-04-24T01:09:15.868Z"
   },
   {
    "duration": 154,
    "start_time": "2024-04-24T01:09:15.876Z"
   },
   {
    "duration": 5,
    "start_time": "2024-04-24T01:09:16.031Z"
   },
   {
    "duration": 10,
    "start_time": "2024-04-24T01:09:16.037Z"
   },
   {
    "duration": 76,
    "start_time": "2024-04-24T01:09:16.048Z"
   },
   {
    "duration": 5,
    "start_time": "2024-04-24T01:09:16.126Z"
   },
   {
    "duration": 7,
    "start_time": "2024-04-24T01:09:16.132Z"
   },
   {
    "duration": 10,
    "start_time": "2024-04-24T01:09:16.140Z"
   },
   {
    "duration": 6,
    "start_time": "2024-04-24T01:09:16.151Z"
   },
   {
    "duration": 12,
    "start_time": "2024-04-24T01:09:16.158Z"
   },
   {
    "duration": 619,
    "start_time": "2024-04-24T01:09:16.171Z"
   },
   {
    "duration": 540,
    "start_time": "2024-04-24T01:09:16.792Z"
   },
   {
    "duration": 28,
    "start_time": "2024-04-24T01:09:17.333Z"
   },
   {
    "duration": 12,
    "start_time": "2024-04-24T01:09:17.362Z"
   },
   {
    "duration": 9,
    "start_time": "2024-04-24T01:09:17.375Z"
   },
   {
    "duration": 31,
    "start_time": "2024-04-24T01:09:17.385Z"
   },
   {
    "duration": 13,
    "start_time": "2024-04-24T01:09:17.417Z"
   },
   {
    "duration": 204,
    "start_time": "2024-04-24T01:09:17.431Z"
   },
   {
    "duration": 269,
    "start_time": "2024-04-24T01:09:17.636Z"
   },
   {
    "duration": 205,
    "start_time": "2024-04-24T01:09:17.906Z"
   },
   {
    "duration": 226,
    "start_time": "2024-04-24T01:09:18.112Z"
   },
   {
    "duration": 200,
    "start_time": "2024-04-24T01:09:18.339Z"
   },
   {
    "duration": 191,
    "start_time": "2024-04-24T01:09:18.541Z"
   },
   {
    "duration": 1104,
    "start_time": "2024-04-24T01:09:18.734Z"
   },
   {
    "duration": 146,
    "start_time": "2024-04-24T01:09:19.840Z"
   },
   {
    "duration": 207,
    "start_time": "2024-04-24T01:09:19.987Z"
   },
   {
    "duration": 17,
    "start_time": "2024-04-24T01:09:20.196Z"
   },
   {
    "duration": 5,
    "start_time": "2024-04-24T01:09:20.214Z"
   },
   {
    "duration": 17,
    "start_time": "2024-04-24T01:09:20.220Z"
   },
   {
    "duration": 18,
    "start_time": "2024-04-24T01:09:20.238Z"
   },
   {
    "duration": 7,
    "start_time": "2024-04-24T01:09:20.258Z"
   },
   {
    "duration": 11,
    "start_time": "2024-04-24T01:09:20.266Z"
   },
   {
    "duration": 9,
    "start_time": "2024-04-24T01:09:20.278Z"
   },
   {
    "duration": 18,
    "start_time": "2024-04-24T01:09:20.289Z"
   },
   {
    "duration": 52,
    "start_time": "2024-04-24T10:37:03.032Z"
   },
   {
    "duration": 1626,
    "start_time": "2024-04-24T10:37:14.572Z"
   },
   {
    "duration": 103,
    "start_time": "2024-04-24T10:37:16.200Z"
   },
   {
    "duration": 12,
    "start_time": "2024-04-24T10:37:16.305Z"
   },
   {
    "duration": 22,
    "start_time": "2024-04-24T10:37:16.319Z"
   },
   {
    "duration": 147,
    "start_time": "2024-04-24T10:37:16.342Z"
   },
   {
    "duration": 14,
    "start_time": "2024-04-24T10:37:16.491Z"
   },
   {
    "duration": 29,
    "start_time": "2024-04-24T10:37:16.507Z"
   },
   {
    "duration": 10,
    "start_time": "2024-04-24T10:37:16.538Z"
   },
   {
    "duration": 11,
    "start_time": "2024-04-24T10:37:16.550Z"
   },
   {
    "duration": 15,
    "start_time": "2024-04-24T10:37:16.565Z"
   },
   {
    "duration": 20,
    "start_time": "2024-04-24T10:37:16.582Z"
   },
   {
    "duration": 33,
    "start_time": "2024-04-24T10:37:16.604Z"
   },
   {
    "duration": 33,
    "start_time": "2024-04-24T10:37:16.639Z"
   },
   {
    "duration": 33,
    "start_time": "2024-04-24T10:37:16.674Z"
   },
   {
    "duration": 25,
    "start_time": "2024-04-24T10:37:16.709Z"
   },
   {
    "duration": 76,
    "start_time": "2024-04-24T10:37:16.736Z"
   },
   {
    "duration": 10,
    "start_time": "2024-04-24T10:37:16.814Z"
   },
   {
    "duration": 14,
    "start_time": "2024-04-24T10:37:16.826Z"
   },
   {
    "duration": 24,
    "start_time": "2024-04-24T10:37:16.842Z"
   },
   {
    "duration": 25,
    "start_time": "2024-04-24T10:37:16.868Z"
   },
   {
    "duration": 25,
    "start_time": "2024-04-24T10:37:16.895Z"
   },
   {
    "duration": 18,
    "start_time": "2024-04-24T10:37:16.921Z"
   },
   {
    "duration": 20,
    "start_time": "2024-04-24T10:37:16.940Z"
   },
   {
    "duration": 42,
    "start_time": "2024-04-24T10:37:16.961Z"
   },
   {
    "duration": 18,
    "start_time": "2024-04-24T10:37:17.005Z"
   },
   {
    "duration": 34,
    "start_time": "2024-04-24T10:37:17.025Z"
   },
   {
    "duration": 11,
    "start_time": "2024-04-24T10:37:17.061Z"
   },
   {
    "duration": 10,
    "start_time": "2024-04-24T10:37:17.078Z"
   },
   {
    "duration": 22,
    "start_time": "2024-04-24T10:37:17.089Z"
   },
   {
    "duration": 18,
    "start_time": "2024-04-24T10:37:17.113Z"
   },
   {
    "duration": 23,
    "start_time": "2024-04-24T10:37:17.133Z"
   },
   {
    "duration": 18,
    "start_time": "2024-04-24T10:37:17.158Z"
   },
   {
    "duration": 19,
    "start_time": "2024-04-24T10:37:17.178Z"
   },
   {
    "duration": 43,
    "start_time": "2024-04-24T10:37:17.199Z"
   },
   {
    "duration": 18,
    "start_time": "2024-04-24T10:37:17.243Z"
   },
   {
    "duration": 25,
    "start_time": "2024-04-24T10:37:17.263Z"
   },
   {
    "duration": 20,
    "start_time": "2024-04-24T10:37:17.290Z"
   },
   {
    "duration": 205,
    "start_time": "2024-04-24T10:37:17.312Z"
   },
   {
    "duration": 6,
    "start_time": "2024-04-24T10:37:17.519Z"
   },
   {
    "duration": 46,
    "start_time": "2024-04-24T10:37:17.527Z"
   },
   {
    "duration": 28,
    "start_time": "2024-04-24T10:37:17.575Z"
   },
   {
    "duration": 207,
    "start_time": "2024-04-24T10:37:17.605Z"
   },
   {
    "duration": 6,
    "start_time": "2024-04-24T10:37:17.813Z"
   },
   {
    "duration": 29,
    "start_time": "2024-04-24T10:37:17.820Z"
   },
   {
    "duration": 101,
    "start_time": "2024-04-24T10:37:17.850Z"
   },
   {
    "duration": 7,
    "start_time": "2024-04-24T10:37:17.953Z"
   },
   {
    "duration": 21,
    "start_time": "2024-04-24T10:37:17.962Z"
   },
   {
    "duration": 16,
    "start_time": "2024-04-24T10:37:17.984Z"
   },
   {
    "duration": 12,
    "start_time": "2024-04-24T10:37:18.002Z"
   },
   {
    "duration": 14,
    "start_time": "2024-04-24T10:37:18.016Z"
   },
   {
    "duration": 986,
    "start_time": "2024-04-24T10:37:18.032Z"
   },
   {
    "duration": 757,
    "start_time": "2024-04-24T10:37:19.020Z"
   },
   {
    "duration": 34,
    "start_time": "2024-04-24T10:37:19.778Z"
   },
   {
    "duration": 16,
    "start_time": "2024-04-24T10:37:19.813Z"
   },
   {
    "duration": 10,
    "start_time": "2024-04-24T10:37:19.830Z"
   },
   {
    "duration": 43,
    "start_time": "2024-04-24T10:37:19.841Z"
   },
   {
    "duration": 20,
    "start_time": "2024-04-24T10:37:19.886Z"
   },
   {
    "duration": 298,
    "start_time": "2024-04-24T10:37:19.908Z"
   },
   {
    "duration": 411,
    "start_time": "2024-04-24T10:37:20.208Z"
   },
   {
    "duration": 286,
    "start_time": "2024-04-24T10:37:20.620Z"
   },
   {
    "duration": 284,
    "start_time": "2024-04-24T10:37:20.908Z"
   },
   {
    "duration": 280,
    "start_time": "2024-04-24T10:37:21.193Z"
   },
   {
    "duration": 291,
    "start_time": "2024-04-24T10:37:21.475Z"
   },
   {
    "duration": 1624,
    "start_time": "2024-04-24T10:37:21.767Z"
   },
   {
    "duration": 190,
    "start_time": "2024-04-24T10:37:23.393Z"
   },
   {
    "duration": 295,
    "start_time": "2024-04-24T10:37:23.585Z"
   },
   {
    "duration": 21,
    "start_time": "2024-04-24T10:37:23.882Z"
   },
   {
    "duration": 13,
    "start_time": "2024-04-24T10:37:23.905Z"
   },
   {
    "duration": 6,
    "start_time": "2024-04-24T10:37:23.920Z"
   },
   {
    "duration": 13,
    "start_time": "2024-04-24T10:37:23.927Z"
   },
   {
    "duration": 5,
    "start_time": "2024-04-24T10:37:23.941Z"
   },
   {
    "duration": 6,
    "start_time": "2024-04-24T10:37:23.947Z"
   },
   {
    "duration": 29,
    "start_time": "2024-04-24T10:37:23.955Z"
   },
   {
    "duration": 9,
    "start_time": "2024-04-24T10:37:23.985Z"
   },
   {
    "duration": 11,
    "start_time": "2024-04-24T14:16:25.572Z"
   },
   {
    "duration": 11,
    "start_time": "2024-04-24T14:48:43.739Z"
   },
   {
    "duration": 58,
    "start_time": "2024-04-24T16:17:02.747Z"
   },
   {
    "duration": 1614,
    "start_time": "2024-04-24T16:17:07.253Z"
   },
   {
    "duration": 107,
    "start_time": "2024-04-24T16:17:08.883Z"
   },
   {
    "duration": 13,
    "start_time": "2024-04-24T16:17:08.992Z"
   },
   {
    "duration": 21,
    "start_time": "2024-04-24T16:17:09.007Z"
   },
   {
    "duration": 155,
    "start_time": "2024-04-24T16:17:09.030Z"
   },
   {
    "duration": 12,
    "start_time": "2024-04-24T16:17:09.186Z"
   },
   {
    "duration": 12,
    "start_time": "2024-04-24T16:17:09.199Z"
   },
   {
    "duration": 4,
    "start_time": "2024-04-24T16:17:09.212Z"
   },
   {
    "duration": 7,
    "start_time": "2024-04-24T16:17:09.218Z"
   },
   {
    "duration": 8,
    "start_time": "2024-04-24T16:17:09.228Z"
   },
   {
    "duration": 8,
    "start_time": "2024-04-24T16:17:09.237Z"
   },
   {
    "duration": 38,
    "start_time": "2024-04-24T16:17:09.247Z"
   },
   {
    "duration": 11,
    "start_time": "2024-04-24T16:17:09.287Z"
   },
   {
    "duration": 11,
    "start_time": "2024-04-24T16:17:09.299Z"
   },
   {
    "duration": 8,
    "start_time": "2024-04-24T16:17:09.311Z"
   },
   {
    "duration": 87,
    "start_time": "2024-04-24T16:17:09.320Z"
   },
   {
    "duration": 10,
    "start_time": "2024-04-24T16:17:09.408Z"
   },
   {
    "duration": 20,
    "start_time": "2024-04-24T16:17:09.420Z"
   },
   {
    "duration": 20,
    "start_time": "2024-04-24T16:17:09.441Z"
   },
   {
    "duration": 7,
    "start_time": "2024-04-24T16:17:09.463Z"
   },
   {
    "duration": 15,
    "start_time": "2024-04-24T16:17:09.472Z"
   },
   {
    "duration": 13,
    "start_time": "2024-04-24T16:17:09.489Z"
   },
   {
    "duration": 18,
    "start_time": "2024-04-24T16:17:09.503Z"
   },
   {
    "duration": 71,
    "start_time": "2024-04-24T16:17:09.523Z"
   },
   {
    "duration": 7,
    "start_time": "2024-04-24T16:17:09.596Z"
   },
   {
    "duration": 49,
    "start_time": "2024-04-24T16:17:09.604Z"
   },
   {
    "duration": 54,
    "start_time": "2024-04-24T16:17:09.655Z"
   },
   {
    "duration": 54,
    "start_time": "2024-04-24T16:17:09.713Z"
   },
   {
    "duration": 20,
    "start_time": "2024-04-24T16:17:09.768Z"
   },
   {
    "duration": 19,
    "start_time": "2024-04-24T16:17:09.790Z"
   },
   {
    "duration": 23,
    "start_time": "2024-04-24T16:17:09.810Z"
   },
   {
    "duration": 30,
    "start_time": "2024-04-24T16:17:09.835Z"
   },
   {
    "duration": 47,
    "start_time": "2024-04-24T16:17:09.866Z"
   },
   {
    "duration": 11,
    "start_time": "2024-04-24T16:17:09.915Z"
   },
   {
    "duration": 24,
    "start_time": "2024-04-24T16:17:09.927Z"
   },
   {
    "duration": 32,
    "start_time": "2024-04-24T16:17:09.952Z"
   },
   {
    "duration": 8,
    "start_time": "2024-04-24T16:17:09.986Z"
   },
   {
    "duration": 221,
    "start_time": "2024-04-24T16:17:09.996Z"
   },
   {
    "duration": 6,
    "start_time": "2024-04-24T16:17:10.219Z"
   },
   {
    "duration": 9,
    "start_time": "2024-04-24T16:17:10.227Z"
   },
   {
    "duration": 12,
    "start_time": "2024-04-24T16:17:10.237Z"
   },
   {
    "duration": 214,
    "start_time": "2024-04-24T16:17:10.251Z"
   },
   {
    "duration": 10,
    "start_time": "2024-04-24T16:17:10.467Z"
   },
   {
    "duration": 7,
    "start_time": "2024-04-24T16:17:10.487Z"
   },
   {
    "duration": 102,
    "start_time": "2024-04-24T16:17:10.495Z"
   },
   {
    "duration": 8,
    "start_time": "2024-04-24T16:17:10.600Z"
   },
   {
    "duration": 18,
    "start_time": "2024-04-24T16:17:10.610Z"
   },
   {
    "duration": 20,
    "start_time": "2024-04-24T16:17:10.630Z"
   },
   {
    "duration": 15,
    "start_time": "2024-04-24T16:17:10.652Z"
   },
   {
    "duration": 31,
    "start_time": "2024-04-24T16:17:10.668Z"
   },
   {
    "duration": 887,
    "start_time": "2024-04-24T16:17:10.701Z"
   },
   {
    "duration": 810,
    "start_time": "2024-04-24T16:17:11.589Z"
   },
   {
    "duration": 34,
    "start_time": "2024-04-24T16:17:12.400Z"
   },
   {
    "duration": 15,
    "start_time": "2024-04-24T16:17:12.435Z"
   },
   {
    "duration": 38,
    "start_time": "2024-04-24T16:17:12.452Z"
   },
   {
    "duration": 18,
    "start_time": "2024-04-24T16:17:12.492Z"
   },
   {
    "duration": 23,
    "start_time": "2024-04-24T16:17:12.511Z"
   },
   {
    "duration": 297,
    "start_time": "2024-04-24T16:17:12.535Z"
   },
   {
    "duration": 411,
    "start_time": "2024-04-24T16:17:12.834Z"
   },
   {
    "duration": 330,
    "start_time": "2024-04-24T16:17:13.247Z"
   },
   {
    "duration": 268,
    "start_time": "2024-04-24T16:17:13.587Z"
   },
   {
    "duration": 303,
    "start_time": "2024-04-24T16:17:13.857Z"
   },
   {
    "duration": 296,
    "start_time": "2024-04-24T16:17:14.162Z"
   },
   {
    "duration": 1678,
    "start_time": "2024-04-24T16:17:14.460Z"
   },
   {
    "duration": 214,
    "start_time": "2024-04-24T16:17:16.140Z"
   },
   {
    "duration": 275,
    "start_time": "2024-04-24T16:17:16.356Z"
   },
   {
    "duration": 19,
    "start_time": "2024-04-24T16:17:16.632Z"
   },
   {
    "duration": 20,
    "start_time": "2024-04-24T16:17:16.652Z"
   },
   {
    "duration": 49,
    "start_time": "2024-04-24T16:17:16.675Z"
   },
   {
    "duration": 29,
    "start_time": "2024-04-24T16:17:16.726Z"
   },
   {
    "duration": 32,
    "start_time": "2024-04-24T16:17:16.756Z"
   },
   {
    "duration": 19,
    "start_time": "2024-04-24T16:17:16.790Z"
   },
   {
    "duration": 14,
    "start_time": "2024-04-24T16:17:16.811Z"
   },
   {
    "duration": 28,
    "start_time": "2024-04-24T16:17:16.827Z"
   }
  ],
  "kernelspec": {
   "display_name": "Python 3 (ipykernel)",
   "language": "python",
   "name": "python3"
  },
  "language_info": {
   "codemirror_mode": {
    "name": "ipython",
    "version": 3
   },
   "file_extension": ".py",
   "mimetype": "text/x-python",
   "name": "python",
   "nbconvert_exporter": "python",
   "pygments_lexer": "ipython3",
   "version": "3.9.18"
  },
  "toc": {
   "base_numbering": 1,
   "nav_menu": {},
   "number_sections": true,
   "sideBar": true,
   "skip_h1_title": true,
   "title_cell": "Table of Contents",
   "title_sidebar": "Contents",
   "toc_cell": false,
   "toc_position": {},
   "toc_section_display": true,
   "toc_window_display": false
  }
 },
 "nbformat": 4,
 "nbformat_minor": 5
}
